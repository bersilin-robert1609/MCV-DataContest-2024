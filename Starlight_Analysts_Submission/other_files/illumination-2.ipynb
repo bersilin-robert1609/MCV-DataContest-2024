{
 "cells": [
  {
   "cell_type": "code",
   "execution_count": null,
   "metadata": {},
   "outputs": [],
   "source": [
    "import os\n",
    "import cv2 as cv\n",
    "import numpy as np\n",
    "import matplotlib.pyplot as plt"
   ]
  },
  {
   "cell_type": "code",
   "execution_count": null,
   "metadata": {},
   "outputs": [],
   "source": [
    "IMAGES_DIR = \"../data/images\"\n",
    "DIRS = [\"train\", \"test\", \"val\"]"
   ]
  },
  {
   "cell_type": "code",
   "execution_count": null,
   "metadata": {},
   "outputs": [],
   "source": [
    "train_imgs = os.listdir(os.path.join(IMAGES_DIR, \"train\"))"
   ]
  },
  {
   "cell_type": "code",
   "execution_count": null,
   "metadata": {},
   "outputs": [],
   "source": [
    "# Gamma correction on an image\n",
    "\n",
    "def adjust_gamma(image, gamma=1.0):\n",
    "    \"\"\"\n",
    "    Apply gamma correction to an image.\n",
    "\n",
    "    Parameters:\n",
    "        image: numpy array, input image of shape (W, H, 3).\n",
    "        gamma: float, gamma value. Default is 1.0.\n",
    "\n",
    "    Returns:\n",
    "        numpy array, gamma corrected image.\n",
    "    \"\"\"\n",
    "    image = image.astype(np.float32) / 255.0\n",
    "    gamma_corrected = np.power(image, gamma)\n",
    "    gamma_corrected = np.clip(gamma_corrected, 0, 1)\n",
    "    gamma_corrected = (gamma_corrected * 255).astype(np.uint8)\n",
    "    return gamma_corrected"
   ]
  },
  {
   "cell_type": "code",
   "execution_count": null,
   "metadata": {},
   "outputs": [],
   "source": [
    "def plot_images(title, imgs):\n",
    "    subplots = len(imgs)\n",
    "    plt.figure(figsize=(15, 5))\n",
    "    plt.title(title)\n",
    "    plt.axis(\"off\")\n",
    "    \n",
    "    for i, img in enumerate(imgs):\n",
    "        plt.subplot(1, subplots, i + 1)\n",
    "        plt.imshow(img)\n",
    "        plt.axis(\"off\")\n",
    "    plt.show()"
   ]
  },
  {
   "cell_type": "code",
   "execution_count": null,
   "metadata": {},
   "outputs": [],
   "source": [
    "GAMMA = 0.4\n",
    "\n",
    "OUTPUT_DIR = \"../data_3/images\"\n",
    "for d in DIRS:\n",
    "    os.makedirs(os.path.join(OUTPUT_DIR, d), exist_ok=True)\n",
    "    \n",
    "for d in DIRS:\n",
    "    FOLDER = os.path.join(IMAGES_DIR, d)\n",
    "    \n",
    "    imgs = os.listdir(FOLDER)\n",
    "    \n",
    "    for img in imgs:\n",
    "        if(os.path.exists(os.path.join(OUTPUT_DIR, d, img))):\n",
    "            print(f\"Image: {img} already done\")\n",
    "            continue\n",
    "        \n",
    "        image = cv.imread(os.path.join(FOLDER, img), cv.IMREAD_COLOR)\n",
    "        \n",
    "        gamma_corrected = adjust_gamma(image, GAMMA)\n",
    "        \n",
    "        cv.imwrite(os.path.join(OUTPUT_DIR, d, img), gamma_corrected)\n",
    "        \n",
    "        print(f\"Image: {img} done\")        "
   ]
  },
  {
   "cell_type": "code",
   "execution_count": null,
   "metadata": {},
   "outputs": [],
   "source": []
  }
 ],
 "metadata": {
  "kernelspec": {
   "display_name": "Python 3",
   "language": "python",
   "name": "python3"
  },
  "language_info": {
   "codemirror_mode": {
    "name": "ipython",
    "version": 3
   },
   "file_extension": ".py",
   "mimetype": "text/x-python",
   "name": "python",
   "nbconvert_exporter": "python",
   "pygments_lexer": "ipython3",
   "version": "3.12.3"
  }
 },
 "nbformat": 4,
 "nbformat_minor": 2
}
