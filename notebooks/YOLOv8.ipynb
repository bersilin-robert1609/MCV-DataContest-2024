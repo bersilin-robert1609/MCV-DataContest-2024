{
 "cells": [
  {
   "cell_type": "code",
   "execution_count": 1,
   "metadata": {},
   "outputs": [],
   "source": [
    "import os\n",
    "import pandas as pd\n",
    "\n",
    "from ultralytics import YOLO"
   ]
  },
  {
   "cell_type": "code",
   "execution_count": 2,
   "metadata": {},
   "outputs": [],
   "source": [
    "LABELS = {\n",
    "    0: \"aegypti\",\n",
    "    1: \"albopictus\",\n",
    "    2: \"anopheles\",\n",
    "    3: \"culex\",\n",
    "    4: \"culiseta\",\n",
    "    5: \"japonicus/koreicus\"\n",
    "}\n",
    "\n",
    "# Bounding Box Format: [x_center, y_center, width, height]\n",
    "# Output Format: [id, ImageID, LabelName, Conf, xcenter, ycenter, bbx_width, bbx_height] (Indexed from 0)"
   ]
  },
  {
   "cell_type": "code",
   "execution_count": 3,
   "metadata": {},
   "outputs": [],
   "source": [
    "# Loading Model\n",
    "model = YOLO(model='yolov8m.pt', task='detect', verbose=True)\n",
    "\n",
    "# Loading Model in GPU\n",
    "model = model.cuda()\n",
    "\n",
    "arguments = {\n",
    "    \"project\": \"yolo-experiments\",\n",
    "    \"name\": \"yolov8m-3\",\n",
    "    \"data\": \"./data.yaml\",\n",
    "    \"imgsz\": 640,\n",
    "    \"batch\": -1,\n",
    "    \"epochs\": 20,\n",
    "    \"patience\": 3,\n",
    "    \"seed\": 69,\n",
    "    \n",
    "    \"box\": 8.0,\n",
    "    \"cls\": 2.0,\n",
    "    \"dfl\": 6.0,\n",
    "    \"pose\": 6.0,\n",
    "    \"kobj\": 1.0,\n",
    "    \"plots\": True,\n",
    "    \n",
    "    \"hsv_v\": 1.0,\n",
    "    \n",
    "}"
   ]
  },
  {
   "cell_type": "code",
   "execution_count": 4,
   "metadata": {},
   "outputs": [
    {
     "name": "stdout",
     "output_type": "stream",
     "text": [
      "\u001b[34m\u001b[1mengine/trainer: \u001b[0mtask=detect, mode=train, model=yolov8m.pt, data=./data.yaml, epochs=20, time=None, patience=3, batch=-1, imgsz=640, save=True, save_period=-1, cache=False, device=cuda:0, workers=8, project=yolo-experiments, name=yolov8m-3, exist_ok=False, pretrained=True, optimizer=auto, verbose=True, seed=69, deterministic=True, single_cls=False, rect=False, cos_lr=False, close_mosaic=10, resume=False, amp=True, fraction=1.0, profile=False, freeze=None, multi_scale=False, overlap_mask=True, mask_ratio=4, dropout=0.0, val=True, split=val, save_json=False, save_hybrid=False, conf=None, iou=0.7, max_det=300, half=False, dnn=False, plots=True, source=None, vid_stride=1, stream_buffer=False, visualize=False, augment=False, agnostic_nms=False, classes=None, retina_masks=False, embed=None, show=False, save_frames=False, save_txt=False, save_conf=False, save_crop=False, show_labels=True, show_conf=True, show_boxes=True, line_width=None, format=torchscript, keras=False, optimize=False, int8=False, dynamic=False, simplify=False, opset=None, workspace=4, nms=False, lr0=0.01, lrf=0.01, momentum=0.937, weight_decay=0.0005, warmup_epochs=3.0, warmup_momentum=0.8, warmup_bias_lr=0.1, box=8.0, cls=2.0, dfl=6.0, pose=6.0, kobj=1.0, label_smoothing=0.0, nbs=64, hsv_h=0.015, hsv_s=0.7, hsv_v=1.0, degrees=0.0, translate=0.1, scale=0.5, shear=0.0, perspective=0.0, flipud=0.0, fliplr=0.5, bgr=0.0, mosaic=1.0, mixup=0.0, copy_paste=0.0, auto_augment=randaugment, erasing=0.4, crop_fraction=1.0, cfg=None, tracker=botsort.yaml, save_dir=yolo-experiments/yolov8m-3\n",
      "Overriding model.yaml nc=80 with nc=6\n",
      "\n",
      "                   from  n    params  module                                       arguments                     \n",
      "  0                  -1  1      1392  ultralytics.nn.modules.conv.Conv             [3, 48, 3, 2]                 \n",
      "  1                  -1  1     41664  ultralytics.nn.modules.conv.Conv             [48, 96, 3, 2]                \n",
      "  2                  -1  2    111360  ultralytics.nn.modules.block.C2f             [96, 96, 2, True]             \n",
      "  3                  -1  1    166272  ultralytics.nn.modules.conv.Conv             [96, 192, 3, 2]               \n",
      "  4                  -1  4    813312  ultralytics.nn.modules.block.C2f             [192, 192, 4, True]           \n",
      "  5                  -1  1    664320  ultralytics.nn.modules.conv.Conv             [192, 384, 3, 2]              \n",
      "  6                  -1  4   3248640  ultralytics.nn.modules.block.C2f             [384, 384, 4, True]           \n",
      "  7                  -1  1   1991808  ultralytics.nn.modules.conv.Conv             [384, 576, 3, 2]              \n",
      "  8                  -1  2   3985920  ultralytics.nn.modules.block.C2f             [576, 576, 2, True]           \n",
      "  9                  -1  1    831168  ultralytics.nn.modules.block.SPPF            [576, 576, 5]                 \n",
      " 10                  -1  1         0  torch.nn.modules.upsampling.Upsample         [None, 2, 'nearest']          \n",
      " 11             [-1, 6]  1         0  ultralytics.nn.modules.conv.Concat           [1]                           \n",
      " 12                  -1  2   1993728  ultralytics.nn.modules.block.C2f             [960, 384, 2]                 \n",
      " 13                  -1  1         0  torch.nn.modules.upsampling.Upsample         [None, 2, 'nearest']          \n",
      " 14             [-1, 4]  1         0  ultralytics.nn.modules.conv.Concat           [1]                           \n",
      " 15                  -1  2    517632  ultralytics.nn.modules.block.C2f             [576, 192, 2]                 \n",
      " 16                  -1  1    332160  ultralytics.nn.modules.conv.Conv             [192, 192, 3, 2]              \n",
      " 17            [-1, 12]  1         0  ultralytics.nn.modules.conv.Concat           [1]                           \n",
      " 18                  -1  2   1846272  ultralytics.nn.modules.block.C2f             [576, 384, 2]                 \n",
      " 19                  -1  1   1327872  ultralytics.nn.modules.conv.Conv             [384, 384, 3, 2]              \n",
      " 20             [-1, 9]  1         0  ultralytics.nn.modules.conv.Concat           [1]                           \n",
      " 21                  -1  2   4207104  ultralytics.nn.modules.block.C2f             [960, 576, 2]                 \n",
      " 22        [15, 18, 21]  1   3779170  ultralytics.nn.modules.head.Detect           [6, [192, 384, 576]]          \n",
      "Model summary: 295 layers, 25859794 parameters, 25859778 gradients, 79.1 GFLOPs\n",
      "\n",
      "Transferred 469/475 items from pretrained weights\n",
      "Freezing layer 'model.22.dfl.conv.weight'\n",
      "\u001b[34m\u001b[1mAMP: \u001b[0mrunning Automatic Mixed Precision (AMP) checks with YOLOv8n...\n",
      "\u001b[34m\u001b[1mAMP: \u001b[0mchecks passed ✅\n",
      "\u001b[34m\u001b[1mAutoBatch: \u001b[0mComputing optimal batch size for imgsz=640\n",
      "\u001b[34m\u001b[1mAutoBatch: \u001b[0mCUDA:0 (NVIDIA GeForce RTX 3060 Laptop GPU) 5.80G total, 0.52G reserved, 0.34G allocated, 4.94G free\n",
      "      Params      GFLOPs  GPU_mem (GB)  forward (ms) backward (ms)                   input                  output\n",
      "    25859794       79.08         0.916         16.29         49.97        (1, 3, 640, 640)                    list\n",
      "    25859794       158.2         1.279         23.44         40.21        (2, 3, 640, 640)                    list\n",
      "    25859794       316.3         1.934         38.21         48.63        (4, 3, 640, 640)                    list\n",
      "    25859794       632.7         3.349         74.21         93.39        (8, 3, 640, 640)                    list\n",
      "CUDA out of memory. Tried to allocate 150.00 MiB. GPU 0 has a total capacity of 5.80 GiB of which 35.69 MiB is free. Including non-PyTorch memory, this process has 5.75 GiB memory in use. Of the allocated memory 5.34 GiB is allocated by PyTorch, and 170.05 MiB is reserved by PyTorch but unallocated. If reserved but unallocated memory is large try setting PYTORCH_CUDA_ALLOC_CONF=expandable_segments:True to avoid fragmentation.  See documentation for Memory Management  (https://pytorch.org/docs/stable/notes/cuda.html#environment-variables)\n",
      "\u001b[34m\u001b[1mAutoBatch: \u001b[0mUsing batch-size 6 for CUDA:0 3.50G/5.80G (60%) ✅\n"
     ]
    },
    {
     "name": "stderr",
     "output_type": "stream",
     "text": [
      "\u001b[34m\u001b[1mtrain: \u001b[0mScanning /home/bersi/Documents/Academic_Stuff/MCV-DataContest/data/labels/train.cache... 6750 images, 0 backgrounds, 1 corrupt: 100%|██████████| 6750/6750 [00:00<?, ?it/s]"
     ]
    },
    {
     "name": "stdout",
     "output_type": "stream",
     "text": [
      "\u001b[34m\u001b[1mtrain: \u001b[0mWARNING ⚠️ /home/bersi/Documents/Academic_Stuff/MCV-DataContest/data/images/train/120b30b0-c7db-4f0a-bead-a30424a65453.jpeg: ignoring corrupt image/label: non-normalized or out of bounds coordinates [     1.0068]\n"
     ]
    },
    {
     "name": "stderr",
     "output_type": "stream",
     "text": [
      "\n",
      "\u001b[34m\u001b[1mval: \u001b[0mScanning /home/bersi/Documents/Academic_Stuff/MCV-DataContest/data/labels/val.cache... 750 images, 0 backgrounds, 0 corrupt: 100%|██████████| 750/750 [00:00<?, ?it/s]\n"
     ]
    },
    {
     "name": "stdout",
     "output_type": "stream",
     "text": [
      "Plotting labels to yolo-experiments/yolov8m-3/labels.jpg... \n",
      "\u001b[34m\u001b[1moptimizer:\u001b[0m 'optimizer=auto' found, ignoring 'lr0=0.01' and 'momentum=0.937' and determining best 'optimizer', 'lr0' and 'momentum' automatically... \n",
      "\u001b[34m\u001b[1moptimizer:\u001b[0m AdamW(lr=0.001, momentum=0.9) with parameter groups 77 weight(decay=0.0), 84 weight(decay=0.000515625), 83 bias(decay=0.0)\n",
      "Image sizes 640 train, 640 val\n",
      "Using 8 dataloader workers\n",
      "Logging results to \u001b[1myolo-experiments/yolov8m-3\u001b[0m\n",
      "Starting training for 20 epochs...\n",
      "\n",
      "      Epoch    GPU_mem   box_loss   cls_loss   dfl_loss  Instances       Size\n"
     ]
    },
    {
     "name": "stderr",
     "output_type": "stream",
     "text": [
      "       1/20      2.93G      1.611      7.983      6.427          9        640: 100%|██████████| 1125/1125 [03:33<00:00,  5.28it/s]\n",
      "                 Class     Images  Instances      Box(P          R      mAP50  mAP50-95): 100%|██████████| 63/63 [00:08<00:00,  7.82it/s]"
     ]
    },
    {
     "name": "stdout",
     "output_type": "stream",
     "text": [
      "                   all        750        750      0.517      0.296      0.236      0.148\n"
     ]
    },
    {
     "name": "stderr",
     "output_type": "stream",
     "text": [
      "\n"
     ]
    },
    {
     "name": "stdout",
     "output_type": "stream",
     "text": [
      "\n",
      "      Epoch    GPU_mem   box_loss   cls_loss   dfl_loss  Instances       Size\n"
     ]
    },
    {
     "name": "stderr",
     "output_type": "stream",
     "text": [
      "       2/20      3.19G      1.628      6.797      6.577          7        640: 100%|██████████| 1125/1125 [03:36<00:00,  5.20it/s]\n",
      "                 Class     Images  Instances      Box(P          R      mAP50  mAP50-95): 100%|██████████| 63/63 [00:07<00:00,  8.17it/s]"
     ]
    },
    {
     "name": "stdout",
     "output_type": "stream",
     "text": [
      "                   all        750        750      0.894      0.235      0.261      0.164\n"
     ]
    },
    {
     "name": "stderr",
     "output_type": "stream",
     "text": [
      "\n"
     ]
    },
    {
     "name": "stdout",
     "output_type": "stream",
     "text": [
      "\n",
      "      Epoch    GPU_mem   box_loss   cls_loss   dfl_loss  Instances       Size\n"
     ]
    },
    {
     "name": "stderr",
     "output_type": "stream",
     "text": [
      "       3/20      3.18G       1.57      6.519      6.411          5        640: 100%|██████████| 1125/1125 [03:47<00:00,  4.95it/s]\n",
      "                 Class     Images  Instances      Box(P          R      mAP50  mAP50-95): 100%|██████████| 63/63 [00:07<00:00,  8.50it/s]\n"
     ]
    },
    {
     "name": "stdout",
     "output_type": "stream",
     "text": [
      "                   all        750        750      0.905      0.237      0.257      0.166\n",
      "\n",
      "      Epoch    GPU_mem   box_loss   cls_loss   dfl_loss  Instances       Size\n"
     ]
    },
    {
     "name": "stderr",
     "output_type": "stream",
     "text": [
      "       4/20      3.18G      1.518      6.253      6.354         10        640: 100%|██████████| 1125/1125 [03:42<00:00,  5.06it/s]\n",
      "                 Class     Images  Instances      Box(P          R      mAP50  mAP50-95): 100%|██████████| 63/63 [00:07<00:00,  7.88it/s]\n"
     ]
    },
    {
     "name": "stdout",
     "output_type": "stream",
     "text": [
      "                   all        750        750      0.912      0.244       0.29      0.195\n",
      "\n",
      "      Epoch    GPU_mem   box_loss   cls_loss   dfl_loss  Instances       Size\n"
     ]
    },
    {
     "name": "stderr",
     "output_type": "stream",
     "text": [
      "       5/20      3.19G      1.481      5.884      6.219         11        640: 100%|██████████| 1125/1125 [03:42<00:00,  5.06it/s]\n",
      "                 Class     Images  Instances      Box(P          R      mAP50  mAP50-95): 100%|██████████| 63/63 [00:07<00:00,  8.04it/s]"
     ]
    },
    {
     "name": "stdout",
     "output_type": "stream",
     "text": [
      "                   all        750        750      0.918      0.275      0.306      0.202\n"
     ]
    },
    {
     "name": "stderr",
     "output_type": "stream",
     "text": [
      "\n"
     ]
    },
    {
     "name": "stdout",
     "output_type": "stream",
     "text": [
      "\n",
      "      Epoch    GPU_mem   box_loss   cls_loss   dfl_loss  Instances       Size\n"
     ]
    },
    {
     "name": "stderr",
     "output_type": "stream",
     "text": [
      "       6/20      3.19G      1.446       5.65      6.123         14        640: 100%|██████████| 1125/1125 [03:51<00:00,  4.86it/s]\n",
      "                 Class     Images  Instances      Box(P          R      mAP50  mAP50-95): 100%|██████████| 63/63 [00:14<00:00,  4.45it/s]"
     ]
    },
    {
     "name": "stdout",
     "output_type": "stream",
     "text": [
      "                   all        750        750      0.564      0.402      0.322      0.228\n"
     ]
    },
    {
     "name": "stderr",
     "output_type": "stream",
     "text": [
      "\n"
     ]
    },
    {
     "name": "stdout",
     "output_type": "stream",
     "text": [
      "\n",
      "      Epoch    GPU_mem   box_loss   cls_loss   dfl_loss  Instances       Size\n"
     ]
    },
    {
     "name": "stderr",
     "output_type": "stream",
     "text": [
      "       7/20      3.17G      1.409      5.493      6.041         11        640: 100%|██████████| 1125/1125 [04:17<00:00,  4.37it/s]\n",
      "                 Class     Images  Instances      Box(P          R      mAP50  mAP50-95): 100%|██████████| 63/63 [00:10<00:00,  5.96it/s]"
     ]
    },
    {
     "name": "stdout",
     "output_type": "stream",
     "text": [
      "                   all        750        750       0.93      0.275      0.317      0.222\n"
     ]
    },
    {
     "name": "stderr",
     "output_type": "stream",
     "text": [
      "\n"
     ]
    },
    {
     "name": "stdout",
     "output_type": "stream",
     "text": [
      "\n",
      "      Epoch    GPU_mem   box_loss   cls_loss   dfl_loss  Instances       Size\n"
     ]
    },
    {
     "name": "stderr",
     "output_type": "stream",
     "text": [
      "       8/20      3.18G      1.374      5.292      5.954         12        640: 100%|██████████| 1125/1125 [03:53<00:00,  4.83it/s]\n",
      "                 Class     Images  Instances      Box(P          R      mAP50  mAP50-95): 100%|██████████| 63/63 [00:07<00:00,  8.64it/s]"
     ]
    },
    {
     "name": "stdout",
     "output_type": "stream",
     "text": [
      "                   all        750        750      0.742      0.364      0.372      0.276\n"
     ]
    },
    {
     "name": "stderr",
     "output_type": "stream",
     "text": [
      "\n"
     ]
    },
    {
     "name": "stdout",
     "output_type": "stream",
     "text": [
      "\n",
      "      Epoch    GPU_mem   box_loss   cls_loss   dfl_loss  Instances       Size\n"
     ]
    },
    {
     "name": "stderr",
     "output_type": "stream",
     "text": [
      "       9/20      3.17G       1.35      5.196      5.919         13        640: 100%|██████████| 1125/1125 [03:41<00:00,  5.07it/s]\n",
      "                 Class     Images  Instances      Box(P          R      mAP50  mAP50-95): 100%|██████████| 63/63 [00:07<00:00,  8.73it/s]"
     ]
    },
    {
     "name": "stdout",
     "output_type": "stream",
     "text": [
      "                   all        750        750      0.936      0.281      0.338      0.242\n"
     ]
    },
    {
     "name": "stderr",
     "output_type": "stream",
     "text": [
      "\n"
     ]
    },
    {
     "name": "stdout",
     "output_type": "stream",
     "text": [
      "\n",
      "      Epoch    GPU_mem   box_loss   cls_loss   dfl_loss  Instances       Size\n"
     ]
    },
    {
     "name": "stderr",
     "output_type": "stream",
     "text": [
      "      10/20      3.15G      1.341      4.976      5.852          8        640: 100%|██████████| 1125/1125 [03:46<00:00,  4.96it/s]\n",
      "                 Class     Images  Instances      Box(P          R      mAP50  mAP50-95): 100%|██████████| 63/63 [00:08<00:00,  7.38it/s]"
     ]
    },
    {
     "name": "stdout",
     "output_type": "stream",
     "text": [
      "                   all        750        750      0.767      0.375      0.385      0.275\n"
     ]
    },
    {
     "name": "stderr",
     "output_type": "stream",
     "text": [
      "\n"
     ]
    },
    {
     "name": "stdout",
     "output_type": "stream",
     "text": [
      "Closing dataloader mosaic\n",
      "\n",
      "      Epoch    GPU_mem   box_loss   cls_loss   dfl_loss  Instances       Size\n"
     ]
    },
    {
     "name": "stderr",
     "output_type": "stream",
     "text": [
      "      11/20      3.18G      1.217      4.244      5.576          5        640: 100%|██████████| 1125/1125 [04:08<00:00,  4.52it/s]\n",
      "                 Class     Images  Instances      Box(P          R      mAP50  mAP50-95): 100%|██████████| 63/63 [00:10<00:00,  6.08it/s]\n"
     ]
    },
    {
     "name": "stdout",
     "output_type": "stream",
     "text": [
      "                   all        750        750      0.561      0.362      0.334      0.238\n",
      "\n",
      "      Epoch    GPU_mem   box_loss   cls_loss   dfl_loss  Instances       Size\n"
     ]
    },
    {
     "name": "stderr",
     "output_type": "stream",
     "text": [
      "      12/20      3.21G      1.202      4.104      5.513          5        640: 100%|██████████| 1125/1125 [04:19<00:00,  4.34it/s]\n",
      "                 Class     Images  Instances      Box(P          R      mAP50  mAP50-95): 100%|██████████| 63/63 [00:09<00:00,  6.41it/s]\n"
     ]
    },
    {
     "name": "stdout",
     "output_type": "stream",
     "text": [
      "                   all        750        750      0.572      0.389      0.355      0.259\n",
      "\n",
      "      Epoch    GPU_mem   box_loss   cls_loss   dfl_loss  Instances       Size\n"
     ]
    },
    {
     "name": "stderr",
     "output_type": "stream",
     "text": [
      "      13/20       3.2G      1.177      4.011      5.453          5        640: 100%|██████████| 1125/1125 [03:57<00:00,  4.74it/s]\n",
      "                 Class     Images  Instances      Box(P          R      mAP50  mAP50-95): 100%|██████████| 63/63 [00:09<00:00,  6.45it/s]\n"
     ]
    },
    {
     "name": "stdout",
     "output_type": "stream",
     "text": [
      "                   all        750        750      0.573      0.422      0.355      0.263\n",
      "\u001b[34m\u001b[1mEarlyStopping: \u001b[0mTraining stopped early as no improvement observed in last 3 epochs. Best results observed at epoch 10, best model saved as best.pt.\n",
      "To update EarlyStopping(patience=3) pass a new patience value, i.e. `patience=300` or use `patience=0` to disable EarlyStopping.\n",
      "\n",
      "13 epochs completed in 0.875 hours.\n",
      "Optimizer stripped from yolo-experiments/yolov8m-3/weights/last.pt, 52.0MB\n",
      "Optimizer stripped from yolo-experiments/yolov8m-3/weights/best.pt, 52.0MB\n",
      "\n",
      "Validating yolo-experiments/yolov8m-3/weights/best.pt...\n",
      "Ultralytics YOLOv8.2.1 🚀 Python-3.12.3 torch-2.2.2 CUDA:0 (NVIDIA GeForce RTX 3060 Laptop GPU, 5938MiB)\n",
      "Model summary (fused): 218 layers, 25843234 parameters, 0 gradients, 78.7 GFLOPs\n"
     ]
    },
    {
     "name": "stderr",
     "output_type": "stream",
     "text": [
      "                 Class     Images  Instances      Box(P          R      mAP50  mAP50-95): 100%|██████████| 63/63 [00:08<00:00,  7.81it/s]\n"
     ]
    },
    {
     "name": "stdout",
     "output_type": "stream",
     "text": [
      "                   all        750        750      0.767      0.375      0.385      0.274\n",
      "               aegypti        750          2          1          0      0.248      0.151\n",
      "            albopictus        750        328      0.772      0.909      0.911      0.673\n",
      "             anopheles        750          6          1          0     0.0258     0.0208\n",
      "                 culex        750        340      0.634      0.915      0.833      0.572\n",
      "              culiseta        750         49      0.197      0.429       0.21      0.168\n",
      "    japonicus/koreicus        750         25          1          0     0.0828     0.0623\n",
      "Speed: 0.2ms preprocess, 6.9ms inference, 0.0ms loss, 0.9ms postprocess per image\n",
      "Results saved to \u001b[1myolo-experiments/yolov8m-3\u001b[0m\n"
     ]
    }
   ],
   "source": [
    "# Model Training\n",
    "results = model.train(**arguments)"
   ]
  },
  {
   "cell_type": "code",
   "execution_count": 5,
   "metadata": {},
   "outputs": [],
   "source": [
    "import os\n",
    "\n",
    "TRAIN_DIR = \"../data/images/train\"\n",
    "VAL_DIR = \"../data/images/val\"\n",
    "TEST_DIR = \"../data/images/test\"\n",
    "\n",
    "train_images = os.listdir(TRAIN_DIR)\n",
    "val_images = os.listdir(VAL_DIR)\n",
    "test_images = os.listdir(TEST_DIR)"
   ]
  },
  {
   "cell_type": "code",
   "execution_count": 6,
   "metadata": {},
   "outputs": [],
   "source": [
    "results_test_dataframe = pd.DataFrame(columns=[\"id\", \"ImageID\", \"LabelName\", \"Conf\", \"xcenter\", \"ycenter\", \"bbx_width\", \"bbx_height\"])\n",
    "\n",
    "# model = YOLO(\"./yolo-experiments/yolov8m-2/weights/best.pt\", task=\"detect\", verbose=True)\n",
    "\n",
    "results = model(TEST_DIR, stream=True, conf=0)"
   ]
  },
  {
   "cell_type": "code",
   "execution_count": 7,
   "metadata": {},
   "outputs": [
    {
     "name": "stdout",
     "output_type": "stream",
     "text": [
      "\n",
      "image 1/525 /home/bersi/Documents/Academic_Stuff/MCV-DataContest/notebooks/../data/images/test/0031063e-716a-4080-934c-77598dc8de72.jpeg: 640x480 126 albopictuss, 172 culexs, 1 culiseta, 1 japonicus/koreicus, 70.8ms\n",
      "image 2/525 /home/bersi/Documents/Academic_Stuff/MCV-DataContest/notebooks/../data/images/test/00fbfad7-9722-4581-831c-79faa576ea7f.jpeg: 640x480 119 albopictuss, 179 culexs, 2 japonicus/koreicuss, 13.7ms\n",
      "image 3/525 /home/bersi/Documents/Academic_Stuff/MCV-DataContest/notebooks/../data/images/test/02043b0e-3d7d-4ca4-a36f-4bf97c344264.jpeg: 640x384 75 albopictuss, 224 culexs, 1 culiseta, 83.4ms\n",
      "image 4/525 /home/bersi/Documents/Academic_Stuff/MCV-DataContest/notebooks/../data/images/test/0365513c-8f00-44f3-abd0-1fadde81c602.jpeg: 640x480 71 albopictuss, 228 culexs, 1 culiseta, 14.5ms\n",
      "image 5/525 /home/bersi/Documents/Academic_Stuff/MCV-DataContest/notebooks/../data/images/test/0365d78b-2064-4d54-b15c-994d1950479a.jpeg: 640x512 68 albopictuss, 231 culexs, 1 japonicus/koreicus, 76.3ms\n",
      "image 6/525 /home/bersi/Documents/Academic_Stuff/MCV-DataContest/notebooks/../data/images/test/03d6749a-c5b3-45a3-81fa-b9c2f09eb4ba.jpeg: 576x640 123 albopictuss, 175 culexs, 1 culiseta, 1 japonicus/koreicus, 77.2ms\n",
      "image 7/525 /home/bersi/Documents/Academic_Stuff/MCV-DataContest/notebooks/../data/images/test/03ef458e-8f40-4d42-811b-f3c2db667e12.jpeg: 480x640 140 albopictuss, 156 culexs, 1 culiseta, 3 japonicus/koreicuss, 75.4ms\n",
      "image 8/525 /home/bersi/Documents/Academic_Stuff/MCV-DataContest/notebooks/../data/images/test/04741ad4-6e1c-416d-acd4-b352cf18ebda.jpeg: 640x480 85 albopictuss, 215 culexs, 14.4ms\n",
      "image 9/525 /home/bersi/Documents/Academic_Stuff/MCV-DataContest/notebooks/../data/images/test/04a95170-0348-43e1-a722-e178370e6812.jpeg: 640x480 153 albopictuss, 145 culexs, 1 culiseta, 1 japonicus/koreicus, 13.8ms\n",
      "image 10/525 /home/bersi/Documents/Academic_Stuff/MCV-DataContest/notebooks/../data/images/test/04d4d98b-4b4d-45d1-924a-82f4c3a9ff27.jpeg: 640x480 71 albopictuss, 229 culexs, 13.7ms\n",
      "image 11/525 /home/bersi/Documents/Academic_Stuff/MCV-DataContest/notebooks/../data/images/test/052e0891-1048-478f-89ba-7e8812a62796.jpeg: 640x480 48 albopictuss, 252 culexs, 13.7ms\n",
      "image 12/525 /home/bersi/Documents/Academic_Stuff/MCV-DataContest/notebooks/../data/images/test/063c9e1d-cd3c-4c8b-9feb-75ef44904d59.jpeg: 640x480 116 albopictuss, 184 culexs, 13.8ms\n",
      "image 13/525 /home/bersi/Documents/Academic_Stuff/MCV-DataContest/notebooks/../data/images/test/065f03d7-48db-4168-8aa2-7e482c31e3b1.jpeg: 640x480 96 albopictuss, 203 culexs, 1 culiseta, 13.8ms\n",
      "image 14/525 /home/bersi/Documents/Academic_Stuff/MCV-DataContest/notebooks/../data/images/test/068f7c9d-6d65-438f-9e89-1dae3ed4f7ba.jpeg: 640x608 120 albopictuss, 180 culexs, 77.3ms\n",
      "image 15/525 /home/bersi/Documents/Academic_Stuff/MCV-DataContest/notebooks/../data/images/test/069c0ed4-4f81-40f4-98d0-dfc4553ff656.jpeg: 640x480 114 albopictuss, 186 culexs, 14.4ms\n",
      "image 16/525 /home/bersi/Documents/Academic_Stuff/MCV-DataContest/notebooks/../data/images/test/07c395a6-a476-4d9e-acc4-0fc4640faefe.jpeg: 480x640 103 albopictuss, 195 culexs, 2 japonicus/koreicuss, 14.5ms\n",
      "image 17/525 /home/bersi/Documents/Academic_Stuff/MCV-DataContest/notebooks/../data/images/test/07e5213c-e31d-4967-a5a6-7f347457771d.jpeg: 640x320 94 albopictuss, 202 culexs, 3 culisetas, 1 japonicus/koreicus, 82.3ms\n",
      "image 18/525 /home/bersi/Documents/Academic_Stuff/MCV-DataContest/notebooks/../data/images/test/081e4b2a-6f6e-46c8-9dc0-65c5372d9eb5.jpeg: 480x640 134 albopictuss, 165 culexs, 1 culiseta, 14.4ms\n",
      "image 19/525 /home/bersi/Documents/Academic_Stuff/MCV-DataContest/notebooks/../data/images/test/0870d9f8-aa65-4eb2-be7c-29ddcf056ae8.jpeg: 480x640 89 albopictuss, 209 culexs, 1 culiseta, 1 japonicus/koreicus, 13.9ms\n",
      "image 20/525 /home/bersi/Documents/Academic_Stuff/MCV-DataContest/notebooks/../data/images/test/08f795b9-a868-4cd5-a32f-1ffef6efa2ef.jpeg: 640x576 76 albopictuss, 1 anopheles, 210 culexs, 11 culisetas, 2 japonicus/koreicuss, 69.2ms\n",
      "image 21/525 /home/bersi/Documents/Academic_Stuff/MCV-DataContest/notebooks/../data/images/test/09f2fb24-90fa-4667-8ff0-2837d9e2e97b.jpeg: 640x576 82 albopictuss, 1 anopheles, 216 culexs, 1 culiseta, 15.8ms\n",
      "image 22/525 /home/bersi/Documents/Academic_Stuff/MCV-DataContest/notebooks/../data/images/test/0a9319b8-070b-435a-b3b5-8347ab52c240.jpeg: 640x480 99 albopictuss, 200 culexs, 1 japonicus/koreicus, 14.5ms\n",
      "image 23/525 /home/bersi/Documents/Academic_Stuff/MCV-DataContest/notebooks/../data/images/test/0ab78764-6857-491b-99d1-f4567efd7f32.jpeg: 640x544 86 albopictuss, 212 culexs, 2 culisetas, 79.0ms\n",
      "image 24/525 /home/bersi/Documents/Academic_Stuff/MCV-DataContest/notebooks/../data/images/test/0ad31287-d62f-4a96-8e21-6d2773797684.jpeg: 512x640 91 albopictuss, 2 anopheless, 203 culexs, 2 culisetas, 2 japonicus/koreicuss, 73.7ms\n",
      "image 25/525 /home/bersi/Documents/Academic_Stuff/MCV-DataContest/notebooks/../data/images/test/0d068c1a-fc7d-4797-abae-8afc08be660b.jpeg: 480x640 85 albopictuss, 1 anopheles, 213 culexs, 1 culiseta, 14.7ms\n",
      "image 26/525 /home/bersi/Documents/Academic_Stuff/MCV-DataContest/notebooks/../data/images/test/0d35ce5f-d723-41ab-b9e5-9ee8c25593ed.jpeg: 448x640 87 albopictuss, 209 culexs, 4 japonicus/koreicuss, 97.7ms\n",
      "image 27/525 /home/bersi/Documents/Academic_Stuff/MCV-DataContest/notebooks/../data/images/test/0d7fda56-9014-4d0e-9802-993925febec0.jpeg: 640x480 73 albopictuss, 226 culexs, 1 japonicus/koreicus, 14.5ms\n",
      "image 28/525 /home/bersi/Documents/Academic_Stuff/MCV-DataContest/notebooks/../data/images/test/0df08feb-bd58-4288-ba02-c42bb4f9ff2d.jpeg: 640x384 42 albopictuss, 257 culexs, 1 culiseta, 11.1ms\n",
      "image 29/525 /home/bersi/Documents/Academic_Stuff/MCV-DataContest/notebooks/../data/images/test/0e43f1b1-7bae-4ef7-90da-c192a17d1805.jpeg: 640x480 137 albopictuss, 160 culexs, 1 culiseta, 2 japonicus/koreicuss, 14.4ms\n",
      "image 30/525 /home/bersi/Documents/Academic_Stuff/MCV-DataContest/notebooks/../data/images/test/0e99a3d4-6674-44fe-9505-8009db9dfe8e.jpeg: 640x480 101 albopictuss, 197 culexs, 1 culiseta, 1 japonicus/koreicus, 13.8ms\n",
      "image 31/525 /home/bersi/Documents/Academic_Stuff/MCV-DataContest/notebooks/../data/images/test/0ec05b33-b16c-4e23-86c1-538bb037efeb.jpeg: 640x480 179 albopictuss, 120 culexs, 1 japonicus/koreicus, 13.8ms\n",
      "image 32/525 /home/bersi/Documents/Academic_Stuff/MCV-DataContest/notebooks/../data/images/test/0f438ab8-ab3f-4726-9f5c-5c548b4a77e1.jpeg: 384x640 42 albopictuss, 254 culexs, 3 culisetas, 1 japonicus/koreicus, 74.2ms\n",
      "image 33/525 /home/bersi/Documents/Academic_Stuff/MCV-DataContest/notebooks/../data/images/test/0f663f9c-0068-4764-9aac-e29a80346527.jpeg: 640x384 78 albopictuss, 221 culexs, 1 japonicus/koreicus, 11.1ms\n",
      "image 34/525 /home/bersi/Documents/Academic_Stuff/MCV-DataContest/notebooks/../data/images/test/0f66ea3e-dba5-4424-9ed4-23c5c9419d13.jpeg: 640x480 121 albopictuss, 179 culexs, 14.4ms\n",
      "image 35/525 /home/bersi/Documents/Academic_Stuff/MCV-DataContest/notebooks/../data/images/test/10b288b8-b1fc-4075-bf0c-d0c84baffe82.jpeg: 640x480 200 albopictuss, 99 culexs, 1 culiseta, 13.9ms\n",
      "image 36/525 /home/bersi/Documents/Academic_Stuff/MCV-DataContest/notebooks/../data/images/test/10fcd07a-ec1a-48d6-b4ba-8891347d4232.jpeg: 640x480 85 albopictuss, 213 culexs, 1 culiseta, 1 japonicus/koreicus, 13.8ms\n",
      "image 37/525 /home/bersi/Documents/Academic_Stuff/MCV-DataContest/notebooks/../data/images/test/11924d04-69fe-469d-8d1c-119bc0f0b94f.jpeg: 640x480 76 albopictuss, 224 culexs, 13.8ms\n",
      "image 38/525 /home/bersi/Documents/Academic_Stuff/MCV-DataContest/notebooks/../data/images/test/120dbc2e-d2f2-4e7f-969c-49055306eece.jpeg: 640x480 104 albopictuss, 196 culexs, 13.8ms\n",
      "image 39/525 /home/bersi/Documents/Academic_Stuff/MCV-DataContest/notebooks/../data/images/test/12822b54-bb03-4806-968b-b7ac6fceda48.jpeg: 640x480 115 albopictuss, 185 culexs, 13.9ms\n",
      "image 40/525 /home/bersi/Documents/Academic_Stuff/MCV-DataContest/notebooks/../data/images/test/12d6142d-705a-4879-aabd-d2df4b9e8f34.jpeg: 480x640 141 albopictuss, 159 culexs, 14.7ms\n",
      "image 41/525 /home/bersi/Documents/Academic_Stuff/MCV-DataContest/notebooks/../data/images/test/1357fe5f-964e-4f54-b678-accc543f935d.jpeg: 640x480 129 albopictuss, 170 culexs, 1 culiseta, 14.4ms\n",
      "image 42/525 /home/bersi/Documents/Academic_Stuff/MCV-DataContest/notebooks/../data/images/test/13ed7625-574f-418a-baef-53f3513cf109.jpeg: 640x480 73 albopictuss, 225 culexs, 2 culisetas, 13.8ms\n",
      "image 43/525 /home/bersi/Documents/Academic_Stuff/MCV-DataContest/notebooks/../data/images/test/14270465-8cd2-4e76-9906-9a8aed21bf40.jpeg: 640x480 107 albopictuss, 192 culexs, 1 culiseta, 13.8ms\n",
      "image 44/525 /home/bersi/Documents/Academic_Stuff/MCV-DataContest/notebooks/../data/images/test/15b6fb8d-8149-45be-b495-2bb4069a3aa7.jpeg: 640x480 120 albopictuss, 180 culexs, 13.8ms\n",
      "image 45/525 /home/bersi/Documents/Academic_Stuff/MCV-DataContest/notebooks/../data/images/test/167e2b05-88ed-4f91-b3f1-43bb54cf92bd.jpeg: 640x480 51 albopictuss, 248 culexs, 1 culiseta, 13.8ms\n",
      "image 46/525 /home/bersi/Documents/Academic_Stuff/MCV-DataContest/notebooks/../data/images/test/16dbbc39-fcb6-498e-963f-d3807fcc3cec.jpeg: 640x480 130 albopictuss, 170 culexs, 13.8ms\n",
      "image 47/525 /home/bersi/Documents/Academic_Stuff/MCV-DataContest/notebooks/../data/images/test/1728aba6-2d30-4ffb-aa00-ad52091f10e5.jpeg: 384x640 47 albopictuss, 253 culexs, 11.5ms\n",
      "image 48/525 /home/bersi/Documents/Academic_Stuff/MCV-DataContest/notebooks/../data/images/test/175a68df-ee71-4602-b6f4-7308e9f1f18f.jpeg: 640x480 109 albopictuss, 189 culexs, 2 japonicus/koreicuss, 14.3ms\n",
      "image 49/525 /home/bersi/Documents/Academic_Stuff/MCV-DataContest/notebooks/../data/images/test/17b46dcc-17c3-478f-8d80-8fab9dac1a6d.jpeg: 640x448 109 albopictuss, 191 culexs, 69.7ms\n",
      "image 50/525 /home/bersi/Documents/Academic_Stuff/MCV-DataContest/notebooks/../data/images/test/1849fedc-b986-438d-af3f-112bc1199f44.jpeg: 640x384 63 albopictuss, 237 culexs, 11.0ms\n",
      "image 51/525 /home/bersi/Documents/Academic_Stuff/MCV-DataContest/notebooks/../data/images/test/187a673d-d0fb-4dd8-89fd-ad955559859a.jpeg: 288x640 106 albopictuss, 191 culexs, 3 culisetas, 72.6ms\n",
      "image 52/525 /home/bersi/Documents/Academic_Stuff/MCV-DataContest/notebooks/../data/images/test/18848e68-9d73-4d5e-9724-9de3de4840a4.jpeg: 640x288 57 albopictuss, 242 culexs, 1 culiseta, 67.7ms\n",
      "image 53/525 /home/bersi/Documents/Academic_Stuff/MCV-DataContest/notebooks/../data/images/test/18fb9a65-c548-44ba-af86-2f220a1a5512.jpeg: 640x384 79 albopictuss, 220 culexs, 1 japonicus/koreicus, 11.0ms\n",
      "image 54/525 /home/bersi/Documents/Academic_Stuff/MCV-DataContest/notebooks/../data/images/test/19401811-2635-4492-909c-312ae0f62429.jpeg: 608x640 124 albopictuss, 175 culexs, 1 japonicus/koreicus, 68.4ms\n",
      "image 55/525 /home/bersi/Documents/Academic_Stuff/MCV-DataContest/notebooks/../data/images/test/195960db-ad39-41a8-b708-f1080872ed04.jpeg: 640x384 47 albopictuss, 253 culexs, 11.2ms\n",
      "image 56/525 /home/bersi/Documents/Academic_Stuff/MCV-DataContest/notebooks/../data/images/test/1a5371f2-de9b-4742-b325-b90d6907d64d.jpeg: 640x288 105 albopictuss, 194 culexs, 1 culiseta, 10.2ms\n",
      "image 57/525 /home/bersi/Documents/Academic_Stuff/MCV-DataContest/notebooks/../data/images/test/1a90d16f-9373-420d-9928-ab632218ae4c.jpeg: 512x640 116 albopictuss, 176 culexs, 5 culisetas, 3 japonicus/koreicuss, 13.4ms\n",
      "image 58/525 /home/bersi/Documents/Academic_Stuff/MCV-DataContest/notebooks/../data/images/test/1ab992bf-6a76-4fd4-b587-8461ab81ef2a.jpeg: 480x640 89 albopictuss, 210 culexs, 1 culiseta, 14.6ms\n",
      "image 59/525 /home/bersi/Documents/Academic_Stuff/MCV-DataContest/notebooks/../data/images/test/1ac5b5bb-b615-4013-95c8-c39a2c130cf8.jpeg: 320x640 69 albopictuss, 230 culexs, 1 culiseta, 69.5ms\n",
      "image 60/525 /home/bersi/Documents/Academic_Stuff/MCV-DataContest/notebooks/../data/images/test/1b8a232b-60e3-4756-b07f-5c6436f4f3a4.jpeg: 640x480 189 albopictuss, 1 anopheles, 106 culexs, 2 culisetas, 2 japonicus/koreicuss, 14.3ms\n",
      "image 61/525 /home/bersi/Documents/Academic_Stuff/MCV-DataContest/notebooks/../data/images/test/1bec346b-0eee-42d5-8ce5-760b7039e2e3.jpeg: 640x640 70 albopictuss, 229 culexs, 1 japonicus/koreicus, 18.2ms\n",
      "image 62/525 /home/bersi/Documents/Academic_Stuff/MCV-DataContest/notebooks/../data/images/test/1c60737f-ce88-4208-a51a-4f02c3abed0b.jpeg: 640x480 92 albopictuss, 208 culexs, 14.4ms\n",
      "image 63/525 /home/bersi/Documents/Academic_Stuff/MCV-DataContest/notebooks/../data/images/test/1ccf5f10-bee6-4047-b750-301b329b04e1.jpeg: 480x640 107 albopictuss, 1 anopheles, 186 culexs, 4 culisetas, 2 japonicus/koreicuss, 14.7ms\n",
      "image 64/525 /home/bersi/Documents/Academic_Stuff/MCV-DataContest/notebooks/../data/images/test/1e908540-19be-438c-b28f-b97f4734ac87.jpeg: 384x640 52 albopictuss, 248 culexs, 11.7ms\n",
      "image 65/525 /home/bersi/Documents/Academic_Stuff/MCV-DataContest/notebooks/../data/images/test/1ec71cc4-7da7-49bf-aca8-9ef91d3b786f.jpeg: 640x416 105 albopictuss, 190 culexs, 3 culisetas, 2 japonicus/koreicuss, 86.1ms\n",
      "image 66/525 /home/bersi/Documents/Academic_Stuff/MCV-DataContest/notebooks/../data/images/test/20b42034-a0e5-4960-b74e-7e5fb8dfff96.jpeg: 384x640 74 albopictuss, 226 culexs, 11.7ms\n",
      "image 67/525 /home/bersi/Documents/Academic_Stuff/MCV-DataContest/notebooks/../data/images/test/221c81b4-db24-4c3d-83ce-1803b3a9d473.jpeg: 480x640 69 albopictuss, 231 culexs, 15.4ms\n",
      "image 68/525 /home/bersi/Documents/Academic_Stuff/MCV-DataContest/notebooks/../data/images/test/223f4665-5350-437e-8d0d-13e4b1ad21bc.jpeg: 448x640 77 albopictuss, 207 culexs, 14 culisetas, 2 japonicus/koreicuss, 14.7ms\n",
      "image 69/525 /home/bersi/Documents/Academic_Stuff/MCV-DataContest/notebooks/../data/images/test/23d6a2e2-03f7-4ca7-b998-4c08047a11b1.jpeg: 320x640 77 albopictuss, 221 culexs, 1 culiseta, 1 japonicus/koreicus, 11.2ms\n",
      "image 70/525 /home/bersi/Documents/Academic_Stuff/MCV-DataContest/notebooks/../data/images/test/2406e3a6-505e-4674-b4f6-d73f0543e1d5.jpeg: 640x480 81 albopictuss, 217 culexs, 1 culiseta, 1 japonicus/koreicus, 14.4ms\n",
      "image 71/525 /home/bersi/Documents/Academic_Stuff/MCV-DataContest/notebooks/../data/images/test/2643a546-c67c-4a0b-838d-d05bddc89209.jpeg: 640x384 48 albopictuss, 250 culexs, 2 culisetas, 11.1ms\n",
      "image 72/525 /home/bersi/Documents/Academic_Stuff/MCV-DataContest/notebooks/../data/images/test/274d9771-b571-4d6b-9755-b2c7fbe597c0.jpeg: 640x384 83 albopictuss, 216 culexs, 1 culiseta, 10.6ms\n",
      "image 73/525 /home/bersi/Documents/Academic_Stuff/MCV-DataContest/notebooks/../data/images/test/27a375a7-e809-4587-93f9-68e9762b8509.jpeg: 640x480 60 albopictuss, 239 culexs, 1 culiseta, 14.5ms\n",
      "image 74/525 /home/bersi/Documents/Academic_Stuff/MCV-DataContest/notebooks/../data/images/test/27d2800b-4eb7-4312-a058-37d227c117aa.jpeg: 640x480 46 albopictuss, 254 culexs, 13.8ms\n",
      "image 75/525 /home/bersi/Documents/Academic_Stuff/MCV-DataContest/notebooks/../data/images/test/27e7ca2e-e27c-44e3-969a-8e593317d6cd.jpeg: 640x640 94 albopictuss, 1 anopheles, 202 culexs, 2 culisetas, 1 japonicus/koreicus, 18.1ms\n",
      "image 76/525 /home/bersi/Documents/Academic_Stuff/MCV-DataContest/notebooks/../data/images/test/2804bbd0-add6-4a79-abb8-1edcbda9d338.jpeg: 640x320 79 albopictuss, 217 culexs, 4 culisetas, 10.6ms\n",
      "image 77/525 /home/bersi/Documents/Academic_Stuff/MCV-DataContest/notebooks/../data/images/test/28964fc0-e568-43ee-9e22-fd6ae7ee7dd9.jpeg: 640x480 105 albopictuss, 194 culexs, 1 culiseta, 13.8ms\n",
      "image 78/525 /home/bersi/Documents/Academic_Stuff/MCV-DataContest/notebooks/../data/images/test/28bf1f50-2ab1-4d5a-b682-0905835a142c.jpeg: 640x480 100 albopictuss, 1 anopheles, 196 culexs, 3 culisetas, 13.2ms\n",
      "image 79/525 /home/bersi/Documents/Academic_Stuff/MCV-DataContest/notebooks/../data/images/test/296eeeb2-d677-48b6-8cbe-34d15593d680.jpeg: 640x320 69 albopictuss, 228 culexs, 2 culisetas, 1 japonicus/koreicus, 10.6ms\n",
      "image 80/525 /home/bersi/Documents/Academic_Stuff/MCV-DataContest/notebooks/../data/images/test/2a651700-0df3-4295-b223-3e53ccf2cc8f.jpeg: 640x480 106 albopictuss, 191 culexs, 3 japonicus/koreicuss, 13.9ms\n",
      "image 81/525 /home/bersi/Documents/Academic_Stuff/MCV-DataContest/notebooks/../data/images/test/2b5d0dce-76bd-4a38-9c78-f6f7db5e78e0.jpeg: 640x480 110 albopictuss, 189 culexs, 1 japonicus/koreicus, 13.3ms\n",
      "image 82/525 /home/bersi/Documents/Academic_Stuff/MCV-DataContest/notebooks/../data/images/test/2b858873-91a7-4e7f-8dd3-7f7345a9b04c.jpeg: 640x384 94 albopictuss, 204 culexs, 1 culiseta, 1 japonicus/koreicus, 10.7ms\n",
      "image 83/525 /home/bersi/Documents/Academic_Stuff/MCV-DataContest/notebooks/../data/images/test/2cac172d-24a4-4ac0-ad12-51e1c45d58c7.jpeg: 640x480 85 albopictuss, 213 culexs, 1 culiseta, 1 japonicus/koreicus, 13.9ms\n",
      "image 84/525 /home/bersi/Documents/Academic_Stuff/MCV-DataContest/notebooks/../data/images/test/2cea3b1b-5c05-46dc-844e-1e722a0234a6.jpeg: 640x480 81 albopictuss, 217 culexs, 1 culiseta, 1 japonicus/koreicus, 13.2ms\n",
      "image 85/525 /home/bersi/Documents/Academic_Stuff/MCV-DataContest/notebooks/../data/images/test/2cf9eafa-e9c8-4c6d-8dec-486f2361d324.jpeg: 640x480 60 albopictuss, 240 culexs, 13.2ms\n",
      "image 86/525 /home/bersi/Documents/Academic_Stuff/MCV-DataContest/notebooks/../data/images/test/2d4c6b55-1c38-4334-b2f5-b3e3ef7de422.jpeg: 640x480 100 albopictuss, 1 anopheles, 199 culexs, 13.1ms\n",
      "image 87/525 /home/bersi/Documents/Academic_Stuff/MCV-DataContest/notebooks/../data/images/test/2d5f1c98-be09-41b1-a425-5630dd807059.jpeg: 512x640 62 albopictuss, 237 culexs, 1 culiseta, 12.9ms\n",
      "image 88/525 /home/bersi/Documents/Academic_Stuff/MCV-DataContest/notebooks/../data/images/test/2eb12e3c-65f7-4527-bc6d-460c4bee21f0.jpeg: 320x640 99 albopictuss, 200 culexs, 1 japonicus/koreicus, 10.7ms\n",
      "image 89/525 /home/bersi/Documents/Academic_Stuff/MCV-DataContest/notebooks/../data/images/test/2eb76dd5-f678-4546-b65c-a0287ee384db.jpeg: 640x480 128 albopictuss, 172 culexs, 13.8ms\n",
      "image 90/525 /home/bersi/Documents/Academic_Stuff/MCV-DataContest/notebooks/../data/images/test/2eb9cea6-460d-4abd-866f-9815e36b4fb8.jpeg: 640x480 127 albopictuss, 172 culexs, 1 culiseta, 13.2ms\n",
      "image 91/525 /home/bersi/Documents/Academic_Stuff/MCV-DataContest/notebooks/../data/images/test/2f79981d-86c7-475c-a192-9f4bda65d491.jpeg: 640x384 85 albopictuss, 214 culexs, 1 japonicus/koreicus, 10.6ms\n",
      "image 92/525 /home/bersi/Documents/Academic_Stuff/MCV-DataContest/notebooks/../data/images/test/2ff9ef9d-4c6e-4056-b98b-dded3840db1b.jpeg: 640x480 121 albopictuss, 179 culexs, 13.8ms\n",
      "image 93/525 /home/bersi/Documents/Academic_Stuff/MCV-DataContest/notebooks/../data/images/test/304f1fec-2a7e-450a-bc0f-e479bf295c3a.jpeg: 640x480 90 albopictuss, 209 culexs, 1 japonicus/koreicus, 13.2ms\n",
      "image 94/525 /home/bersi/Documents/Academic_Stuff/MCV-DataContest/notebooks/../data/images/test/305ac4a1-c740-4efb-9406-52061c75dcfa.jpeg: 640x480 106 albopictuss, 194 culexs, 13.2ms\n",
      "image 95/525 /home/bersi/Documents/Academic_Stuff/MCV-DataContest/notebooks/../data/images/test/3067cee3-cbcc-4329-875b-aa5fc4bb2e38.jpeg: 640x480 59 albopictuss, 241 culexs, 13.3ms\n",
      "image 96/525 /home/bersi/Documents/Academic_Stuff/MCV-DataContest/notebooks/../data/images/test/30b67cce-8d9b-4032-9054-702236596cd3.jpeg: 480x640 74 albopictuss, 225 culexs, 1 culiseta, 14.0ms\n",
      "image 97/525 /home/bersi/Documents/Academic_Stuff/MCV-DataContest/notebooks/../data/images/test/31080987-64d1-4d44-9195-7cfe80fdc324.jpeg: 640x480 96 albopictuss, 203 culexs, 1 culiseta, 14.0ms\n",
      "image 98/525 /home/bersi/Documents/Academic_Stuff/MCV-DataContest/notebooks/../data/images/test/3125c2a0-a875-4530-8f25-3296be3d818e.jpeg: 576x640 97 albopictuss, 1 anopheles, 200 culexs, 2 culisetas, 16.2ms\n",
      "image 99/525 /home/bersi/Documents/Academic_Stuff/MCV-DataContest/notebooks/../data/images/test/32b9370c-496d-431d-9531-89567b518f25.jpeg: 480x640 78 albopictuss, 222 culexs, 14.3ms\n",
      "image 100/525 /home/bersi/Documents/Academic_Stuff/MCV-DataContest/notebooks/../data/images/test/32c5ce62-8de1-4ba3-af8e-dc7fe0b7456b.jpeg: 640x480 141 albopictuss, 159 culexs, 14.4ms\n",
      "image 101/525 /home/bersi/Documents/Academic_Stuff/MCV-DataContest/notebooks/../data/images/test/32e570b4-161f-407f-9512-a5eff43452d3.jpeg: 512x640 85 albopictuss, 2 anopheless, 213 culexs, 13.1ms\n",
      "image 102/525 /home/bersi/Documents/Academic_Stuff/MCV-DataContest/notebooks/../data/images/test/32f5ca5e-f4b7-47af-8f23-db5a804ed8ed.jpeg: 640x480 80 albopictuss, 220 culexs, 14.2ms\n",
      "image 103/525 /home/bersi/Documents/Academic_Stuff/MCV-DataContest/notebooks/../data/images/test/3364b34c-b5b7-40f3-8a5e-2fe38af3dc4f.jpeg: 544x640 98 albopictuss, 202 culexs, 76.6ms\n",
      "image 104/525 /home/bersi/Documents/Academic_Stuff/MCV-DataContest/notebooks/../data/images/test/344e74b5-f0b3-46cd-a082-97238e2cda5c.jpeg: 640x480 106 albopictuss, 193 culexs, 1 japonicus/koreicus, 14.4ms\n",
      "image 105/525 /home/bersi/Documents/Academic_Stuff/MCV-DataContest/notebooks/../data/images/test/34708894-ff23-4209-bd6f-bcd29dff5415.jpeg: 640x480 87 albopictuss, 213 culexs, 14.2ms\n",
      "image 106/525 /home/bersi/Documents/Academic_Stuff/MCV-DataContest/notebooks/../data/images/test/348a430e-a217-41a3-b1ea-0353e43e0733.jpeg: 640x480 118 albopictuss, 182 culexs, 14.1ms\n",
      "image 107/525 /home/bersi/Documents/Academic_Stuff/MCV-DataContest/notebooks/../data/images/test/34a0c0df-b22b-4f9b-b111-8fc375fad2f5.jpeg: 640x480 61 albopictuss, 239 culexs, 13.8ms\n",
      "image 108/525 /home/bersi/Documents/Academic_Stuff/MCV-DataContest/notebooks/../data/images/test/360213fb-1f44-4d6e-9e71-6a802c7a74b7.jpeg: 640x480 109 albopictuss, 191 culexs, 13.8ms\n",
      "image 109/525 /home/bersi/Documents/Academic_Stuff/MCV-DataContest/notebooks/../data/images/test/36046872-0f7c-41a9-b6f1-2109926f8509.jpeg: 640x480 112 albopictuss, 185 culexs, 2 culisetas, 1 japonicus/koreicus, 13.8ms\n",
      "image 110/525 /home/bersi/Documents/Academic_Stuff/MCV-DataContest/notebooks/../data/images/test/3637932c-dad1-4bb1-a7da-a4425f05c991.jpeg: 640x384 49 albopictuss, 251 culexs, 11.2ms\n",
      "image 111/525 /home/bersi/Documents/Academic_Stuff/MCV-DataContest/notebooks/../data/images/test/364f0426-aed0-4032-ae30-b0d37446bde6.jpeg: 640x384 79 albopictuss, 221 culexs, 10.7ms\n",
      "image 112/525 /home/bersi/Documents/Academic_Stuff/MCV-DataContest/notebooks/../data/images/test/373cb153-8553-44cd-bffb-dc39bdf9adf6.jpeg: 640x384 65 albopictuss, 234 culexs, 1 japonicus/koreicus, 10.8ms\n",
      "image 113/525 /home/bersi/Documents/Academic_Stuff/MCV-DataContest/notebooks/../data/images/test/378f79e4-6ca0-4c79-a56d-54b1b7f7e9e2.jpeg: 640x480 40 albopictuss, 260 culexs, 14.7ms\n",
      "image 114/525 /home/bersi/Documents/Academic_Stuff/MCV-DataContest/notebooks/../data/images/test/38266f91-a7fb-475b-ae22-e2c6244dd28a.jpeg: 384x640 120 albopictuss, 180 culexs, 12.1ms\n",
      "image 115/525 /home/bersi/Documents/Academic_Stuff/MCV-DataContest/notebooks/../data/images/test/39449d4f-af0c-4233-9f6a-229b89669aaf.jpeg: 640x480 92 albopictuss, 206 culexs, 2 culisetas, 14.8ms\n",
      "image 116/525 /home/bersi/Documents/Academic_Stuff/MCV-DataContest/notebooks/../data/images/test/3a1676d1-ec24-4e9e-8fb5-d306b6dccfa2.jpeg: 640x480 85 albopictuss, 213 culexs, 1 culiseta, 1 japonicus/koreicus, 13.9ms\n",
      "image 117/525 /home/bersi/Documents/Academic_Stuff/MCV-DataContest/notebooks/../data/images/test/3a3a7aa7-3390-4481-812e-e11455adde48.jpeg: 640x480 156 albopictuss, 143 culexs, 1 japonicus/koreicus, 13.9ms\n",
      "image 118/525 /home/bersi/Documents/Academic_Stuff/MCV-DataContest/notebooks/../data/images/test/3a76977b-bd5c-4118-8c13-25894bbc86c5.jpeg: 640x512 55 albopictuss, 245 culexs, 13.4ms\n",
      "image 119/525 /home/bersi/Documents/Academic_Stuff/MCV-DataContest/notebooks/../data/images/test/3a918cb9-770c-4e13-8201-90858c25c7d0.jpeg: 640x480 69 albopictuss, 230 culexs, 1 japonicus/koreicus, 14.5ms\n",
      "image 120/525 /home/bersi/Documents/Academic_Stuff/MCV-DataContest/notebooks/../data/images/test/3b4a1715-45fe-4933-8176-144cf59d3c97.jpeg: 640x384 109 albopictuss, 187 culexs, 2 culisetas, 2 japonicus/koreicuss, 11.3ms\n",
      "image 121/525 /home/bersi/Documents/Academic_Stuff/MCV-DataContest/notebooks/../data/images/test/3c1c305a-0628-4c6d-990b-ba7fd3d63ee3.jpeg: 640x480 93 albopictuss, 207 culexs, 14.3ms\n",
      "image 122/525 /home/bersi/Documents/Academic_Stuff/MCV-DataContest/notebooks/../data/images/test/3c6eed99-b756-42b3-90a3-4314b448d953.jpeg: 640x480 106 albopictuss, 194 culexs, 13.9ms\n",
      "image 123/525 /home/bersi/Documents/Academic_Stuff/MCV-DataContest/notebooks/../data/images/test/3c700781-b669-40fa-9dc9-20e85e37590f.jpeg: 640x480 123 albopictuss, 175 culexs, 2 culisetas, 13.8ms\n",
      "image 124/525 /home/bersi/Documents/Academic_Stuff/MCV-DataContest/notebooks/../data/images/test/3d19622e-bd5f-4d80-b959-c73a2b02595a.jpeg: 640x480 78 albopictuss, 219 culexs, 2 culisetas, 1 japonicus/koreicus, 13.8ms\n",
      "image 125/525 /home/bersi/Documents/Academic_Stuff/MCV-DataContest/notebooks/../data/images/test/3d7179d9-2959-4586-9a2e-5b67b087ff05.jpeg: 640x480 120 albopictuss, 180 culexs, 13.8ms\n",
      "image 126/525 /home/bersi/Documents/Academic_Stuff/MCV-DataContest/notebooks/../data/images/test/3d98f9a1-fac7-4aeb-a528-3b0fdb4479b3.jpeg: 320x640 70 albopictuss, 228 culexs, 2 culisetas, 11.1ms\n",
      "image 127/525 /home/bersi/Documents/Academic_Stuff/MCV-DataContest/notebooks/../data/images/test/3e3f7ba4-1a46-4edf-82db-2ebe175ff8e7.jpeg: 640x480 84 albopictuss, 216 culexs, 14.3ms\n",
      "image 128/525 /home/bersi/Documents/Academic_Stuff/MCV-DataContest/notebooks/../data/images/test/3e4d4fc1-1b46-461b-86cb-abf735ec7257.jpeg: 640x480 98 albopictuss, 201 culexs, 1 japonicus/koreicus, 11.9ms\n",
      "image 129/525 /home/bersi/Documents/Academic_Stuff/MCV-DataContest/notebooks/../data/images/test/3f9877b2-983c-45a2-9784-64a2e2f9607e.jpeg: 640x320 135 albopictuss, 1 anopheles, 164 culexs, 9.5ms\n",
      "image 130/525 /home/bersi/Documents/Academic_Stuff/MCV-DataContest/notebooks/../data/images/test/3fcace3b-254e-4e79-b3af-b578c04db626.jpeg: 640x320 101 albopictuss, 197 culexs, 2 culisetas, 9.0ms\n",
      "image 131/525 /home/bersi/Documents/Academic_Stuff/MCV-DataContest/notebooks/../data/images/test/4052f632-17c0-4e38-b323-7ee17ff2e2e8.jpeg: 640x480 53 albopictuss, 247 culexs, 12.4ms\n",
      "image 132/525 /home/bersi/Documents/Academic_Stuff/MCV-DataContest/notebooks/../data/images/test/40b987b5-63a9-4e1c-b613-781544bbb23a.jpeg: 640x640 112 albopictuss, 188 culexs, 15.5ms\n",
      "image 133/525 /home/bersi/Documents/Academic_Stuff/MCV-DataContest/notebooks/../data/images/test/415215a5-04b5-460f-a204-93c418e93754.jpeg: 640x480 67 albopictuss, 231 culexs, 1 culiseta, 1 japonicus/koreicus, 12.7ms\n",
      "image 134/525 /home/bersi/Documents/Academic_Stuff/MCV-DataContest/notebooks/../data/images/test/416adbc5-427d-4fd1-9beb-507ec140487e.jpeg: 640x480 81 albopictuss, 219 culexs, 12.0ms\n",
      "image 135/525 /home/bersi/Documents/Academic_Stuff/MCV-DataContest/notebooks/../data/images/test/417a6ab9-97ff-4d0a-8631-2bdf1ab1e09e.jpeg: 640x640 96 albopictuss, 203 culexs, 1 culiseta, 16.4ms\n",
      "image 136/525 /home/bersi/Documents/Academic_Stuff/MCV-DataContest/notebooks/../data/images/test/4287618a-0bc0-4c66-b973-367cf532b648.jpeg: 480x640 119 albopictuss, 178 culexs, 2 culisetas, 1 japonicus/koreicus, 12.5ms\n",
      "image 137/525 /home/bersi/Documents/Academic_Stuff/MCV-DataContest/notebooks/../data/images/test/432b6550-46ac-49ad-a05d-6f091e6f09c1.jpeg: 640x480 98 albopictuss, 201 culexs, 1 culiseta, 12.4ms\n",
      "image 138/525 /home/bersi/Documents/Academic_Stuff/MCV-DataContest/notebooks/../data/images/test/4386e1f7-6626-49a5-956b-d1ccecc8f988.jpeg: 640x288 92 albopictuss, 206 culexs, 2 culisetas, 8.8ms\n",
      "image 139/525 /home/bersi/Documents/Academic_Stuff/MCV-DataContest/notebooks/../data/images/test/44bf3fe6-4102-4135-8082-b2082d53d928.jpeg: 640x480 116 albopictuss, 183 culexs, 1 culiseta, 12.4ms\n",
      "image 140/525 /home/bersi/Documents/Academic_Stuff/MCV-DataContest/notebooks/../data/images/test/450457f6-745f-4ad1-8110-fab3e7249e96.jpeg: 640x480 120 albopictuss, 180 culexs, 11.8ms\n",
      "image 141/525 /home/bersi/Documents/Academic_Stuff/MCV-DataContest/notebooks/../data/images/test/452562b5-5dce-43c3-9ce6-b3b74dde6be9.jpeg: 416x640 119 albopictuss, 1 anopheles, 179 culexs, 1 japonicus/koreicus, 69.0ms\n",
      "image 142/525 /home/bersi/Documents/Academic_Stuff/MCV-DataContest/notebooks/../data/images/test/453404c8-f81c-41e5-a610-3df944658133.jpeg: 640x576 172 albopictuss, 128 culexs, 14.2ms\n",
      "image 143/525 /home/bersi/Documents/Academic_Stuff/MCV-DataContest/notebooks/../data/images/test/460d8d46-2f01-4c0d-8f18-49dadb309388.jpeg: 640x640 94 albopictuss, 206 culexs, 15.5ms\n",
      "image 144/525 /home/bersi/Documents/Academic_Stuff/MCV-DataContest/notebooks/../data/images/test/4633dfdf-2f2c-4834-bd16-ef332a1c5820.jpeg: 640x480 79 albopictuss, 221 culexs, 12.3ms\n",
      "image 145/525 /home/bersi/Documents/Academic_Stuff/MCV-DataContest/notebooks/../data/images/test/4803f0e6-7709-4dae-9786-4b3b5ce26396.jpeg: 640x640 90 albopictuss, 209 culexs, 1 culiseta, 15.6ms\n",
      "image 146/525 /home/bersi/Documents/Academic_Stuff/MCV-DataContest/notebooks/../data/images/test/48141de8-db9f-481f-b870-4cf25952b827.jpeg: 640x480 159 albopictuss, 140 culexs, 1 culiseta, 12.4ms\n",
      "image 147/525 /home/bersi/Documents/Academic_Stuff/MCV-DataContest/notebooks/../data/images/test/489a2ce5-b060-4f07-a716-cf243b8b409c.jpeg: 640x480 79 albopictuss, 220 culexs, 1 culiseta, 11.9ms\n",
      "image 148/525 /home/bersi/Documents/Academic_Stuff/MCV-DataContest/notebooks/../data/images/test/48f73386-76cb-44fa-966a-c550bf39badb.jpeg: 640x480 89 albopictuss, 211 culexs, 12.8ms\n",
      "image 149/525 /home/bersi/Documents/Academic_Stuff/MCV-DataContest/notebooks/../data/images/test/490cc534-c39e-42c1-9598-e5fb794723b1.jpeg: 640x480 53 albopictuss, 247 culexs, 12.6ms\n",
      "image 150/525 /home/bersi/Documents/Academic_Stuff/MCV-DataContest/notebooks/../data/images/test/491456e7-d4a4-4c25-9b84-7dbdbe8f2051.jpeg: 640x480 111 albopictuss, 188 culexs, 1 culiseta, 12.0ms\n",
      "image 151/525 /home/bersi/Documents/Academic_Stuff/MCV-DataContest/notebooks/../data/images/test/492679ec-9e72-4d00-9e67-9ff361d140f1.jpeg: 640x288 109 albopictuss, 2 anopheless, 181 culexs, 5 culisetas, 3 japonicus/koreicuss, 10.8ms\n",
      "image 152/525 /home/bersi/Documents/Academic_Stuff/MCV-DataContest/notebooks/../data/images/test/4aa8f609-59de-4c09-8bd7-5a8c54ac8446.jpeg: 640x384 36 albopictuss, 264 culexs, 9.8ms\n",
      "image 153/525 /home/bersi/Documents/Academic_Stuff/MCV-DataContest/notebooks/../data/images/test/4b31a9ae-50be-455a-b8fd-e1a7a870850f.jpeg: 640x480 71 albopictuss, 229 culexs, 12.9ms\n",
      "image 154/525 /home/bersi/Documents/Academic_Stuff/MCV-DataContest/notebooks/../data/images/test/4b6b63fc-43c3-4428-8f41-2a6ea7eec91a.jpeg: 640x480 86 albopictuss, 213 culexs, 1 culiseta, 12.0ms\n",
      "image 155/525 /home/bersi/Documents/Academic_Stuff/MCV-DataContest/notebooks/../data/images/test/4cd51aff-5f1c-4b1a-826c-4de004f833a9.jpeg: 640x384 88 albopictuss, 210 culexs, 2 japonicus/koreicuss, 10.9ms\n",
      "image 156/525 /home/bersi/Documents/Academic_Stuff/MCV-DataContest/notebooks/../data/images/test/4d87f7ed-9433-484f-82cd-106993152b53.jpeg: 640x480 99 albopictuss, 201 culexs, 12.3ms\n",
      "image 157/525 /home/bersi/Documents/Academic_Stuff/MCV-DataContest/notebooks/../data/images/test/4debb54d-274f-41bc-b2a8-ccf75bbceea5.jpeg: 640x320 64 albopictuss, 235 culexs, 1 culiseta, 9.6ms\n",
      "image 158/525 /home/bersi/Documents/Academic_Stuff/MCV-DataContest/notebooks/../data/images/test/4e216c54-1daa-4517-91a8-8bf005cc6129.jpeg: 640x480 99 albopictuss, 201 culexs, 14.7ms\n",
      "image 159/525 /home/bersi/Documents/Academic_Stuff/MCV-DataContest/notebooks/../data/images/test/4e63d8b6-758b-4349-bead-8c21e240d51a.jpeg: 640x480 69 albopictuss, 231 culexs, 13.9ms\n",
      "image 160/525 /home/bersi/Documents/Academic_Stuff/MCV-DataContest/notebooks/../data/images/test/4ed11a01-ca18-4009-9e8b-4c29c7d9c4d7.jpeg: 640x320 115 albopictuss, 184 culexs, 1 japonicus/koreicus, 11.2ms\n",
      "image 161/525 /home/bersi/Documents/Academic_Stuff/MCV-DataContest/notebooks/../data/images/test/4fb111a0-27ed-4ebb-b5a4-3fa47b80bfc9.jpeg: 320x640 74 albopictuss, 225 culexs, 1 culiseta, 11.3ms\n",
      "image 162/525 /home/bersi/Documents/Academic_Stuff/MCV-DataContest/notebooks/../data/images/test/53278c35-1c3a-40dd-91f1-7ef33b32eeb8.jpeg: 640x480 175 albopictuss, 1 anopheles, 124 culexs, 14.4ms\n",
      "image 163/525 /home/bersi/Documents/Academic_Stuff/MCV-DataContest/notebooks/../data/images/test/532e7a50-448f-4df3-beb7-899766572da3.jpeg: 480x640 76 albopictuss, 223 culexs, 1 culiseta, 14.8ms\n",
      "image 164/525 /home/bersi/Documents/Academic_Stuff/MCV-DataContest/notebooks/../data/images/test/5385a6f3-0f06-4d0c-a1d7-7ced89007a5a.jpeg: 448x640 131 albopictuss, 168 culexs, 1 culiseta, 15.2ms\n",
      "image 165/525 /home/bersi/Documents/Academic_Stuff/MCV-DataContest/notebooks/../data/images/test/539d9c85-2371-4381-afc4-949ecb3195f1.jpeg: 640x480 84 albopictuss, 216 culexs, 14.8ms\n",
      "image 166/525 /home/bersi/Documents/Academic_Stuff/MCV-DataContest/notebooks/../data/images/test/53a35a8d-2c22-464f-8da5-df7db1116cef.jpeg: 640x320 103 albopictuss, 197 culexs, 11.1ms\n",
      "image 167/525 /home/bersi/Documents/Academic_Stuff/MCV-DataContest/notebooks/../data/images/test/5477657a-88d8-47fe-87f5-663ed25f1237.jpeg: 384x640 99 albopictuss, 1 anopheles, 198 culexs, 1 culiseta, 1 japonicus/koreicus, 11.6ms\n",
      "image 168/525 /home/bersi/Documents/Academic_Stuff/MCV-DataContest/notebooks/../data/images/test/55497fb7-1f4c-4514-8d95-d17155be7403.jpeg: 480x640 131 albopictuss, 159 culexs, 4 culisetas, 6 japonicus/koreicuss, 14.5ms\n",
      "image 169/525 /home/bersi/Documents/Academic_Stuff/MCV-DataContest/notebooks/../data/images/test/565bed72-bf54-401d-bc0e-af28b0bb6129.jpeg: 384x640 46 albopictuss, 253 culexs, 1 culiseta, 11.7ms\n",
      "image 170/525 /home/bersi/Documents/Academic_Stuff/MCV-DataContest/notebooks/../data/images/test/56cbfed1-4ad5-449e-ab34-409fc5a916b4.jpeg: 640x480 105 albopictuss, 195 culexs, 14.6ms\n",
      "image 171/525 /home/bersi/Documents/Academic_Stuff/MCV-DataContest/notebooks/../data/images/test/5772f2ed-882c-46a2-809a-f144cb0568bf.jpeg: 640x480 131 albopictuss, 168 culexs, 1 japonicus/koreicus, 13.9ms\n",
      "image 172/525 /home/bersi/Documents/Academic_Stuff/MCV-DataContest/notebooks/../data/images/test/58d163b3-fb4b-4a50-acd3-c116b3aa6fc9.jpeg: 480x640 138 albopictuss, 161 culexs, 1 japonicus/koreicus, 14.9ms\n",
      "image 173/525 /home/bersi/Documents/Academic_Stuff/MCV-DataContest/notebooks/../data/images/test/592ac19b-3055-4944-b0ac-fd35ea1b3f1e.jpeg: 640x320 98 albopictuss, 202 culexs, 10.9ms\n",
      "image 174/525 /home/bersi/Documents/Academic_Stuff/MCV-DataContest/notebooks/../data/images/test/5b11c1ef-9296-47b0-b7a0-e56ac17c12dc.jpeg: 640x480 232 albopictuss, 68 culexs, 14.2ms\n",
      "image 175/525 /home/bersi/Documents/Academic_Stuff/MCV-DataContest/notebooks/../data/images/test/5ba7aef5-5597-4ecd-afbb-fa3bef57dfde.jpeg: 640x480 102 albopictuss, 197 culexs, 1 japonicus/koreicus, 13.6ms\n",
      "image 176/525 /home/bersi/Documents/Academic_Stuff/MCV-DataContest/notebooks/../data/images/test/5bf2ded9-068d-4f0f-beb1-1af0ac2457e4.jpeg: 640x480 120 albopictuss, 1 anopheles, 178 culexs, 1 culiseta, 13.6ms\n",
      "image 177/525 /home/bersi/Documents/Academic_Stuff/MCV-DataContest/notebooks/../data/images/test/5c53c448-8738-4094-aeb8-86d5ed33b2cb.jpeg: 480x640 105 albopictuss, 194 culexs, 1 culiseta, 14.5ms\n",
      "image 178/525 /home/bersi/Documents/Academic_Stuff/MCV-DataContest/notebooks/../data/images/test/5cc4d280-1c50-4729-90ae-540af65ec593.jpeg: 640x480 137 albopictuss, 163 culexs, 14.2ms\n",
      "image 179/525 /home/bersi/Documents/Academic_Stuff/MCV-DataContest/notebooks/../data/images/test/5d2b5335-ceee-44fb-a479-5354f3387418.jpeg: 480x640 101 albopictuss, 198 culexs, 1 culiseta, 14.5ms\n",
      "image 180/525 /home/bersi/Documents/Academic_Stuff/MCV-DataContest/notebooks/../data/images/test/5e20a46c-b98f-4606-b4df-1ba5602c430d.jpeg: 640x480 81 albopictuss, 219 culexs, 14.2ms\n",
      "image 181/525 /home/bersi/Documents/Academic_Stuff/MCV-DataContest/notebooks/../data/images/test/5ea21a26-4ee0-46c2-8151-a96f4c409f31.jpeg: 640x384 58 albopictuss, 242 culexs, 11.0ms\n",
      "image 182/525 /home/bersi/Documents/Academic_Stuff/MCV-DataContest/notebooks/../data/images/test/5ef5a1ab-555b-48b9-ae2c-7cd13738dc2d.jpeg: 320x640 117 albopictuss, 181 culexs, 1 culiseta, 1 japonicus/koreicus, 11.1ms\n",
      "image 183/525 /home/bersi/Documents/Academic_Stuff/MCV-DataContest/notebooks/../data/images/test/5f5d0d1c-5dec-4d66-bbd9-2c69c9cf4eeb.jpeg: 640x288 89 albopictuss, 211 culexs, 11.9ms\n",
      "image 184/525 /home/bersi/Documents/Academic_Stuff/MCV-DataContest/notebooks/../data/images/test/5f6b9da5-95c4-4635-af51-895c2fa32411.jpeg: 640x480 124 albopictuss, 2 anopheless, 170 culexs, 3 culisetas, 1 japonicus/koreicus, 14.3ms\n",
      "image 185/525 /home/bersi/Documents/Academic_Stuff/MCV-DataContest/notebooks/../data/images/test/5fa87402-3206-43ba-b5a1-a78ace91ece9.jpeg: 384x640 131 albopictuss, 168 culexs, 1 japonicus/koreicus, 11.5ms\n",
      "image 186/525 /home/bersi/Documents/Academic_Stuff/MCV-DataContest/notebooks/../data/images/test/60705f82-07dc-4ca8-99ae-a425e7e80887.jpeg: 640x320 152 albopictuss, 148 culexs, 10.9ms\n",
      "image 187/525 /home/bersi/Documents/Academic_Stuff/MCV-DataContest/notebooks/../data/images/test/6132cb88-f800-4d16-9c5e-a414b2587c4c.jpeg: 640x480 122 albopictuss, 177 culexs, 1 culiseta, 14.2ms\n",
      "image 188/525 /home/bersi/Documents/Academic_Stuff/MCV-DataContest/notebooks/../data/images/test/6144b1bd-c016-4f6e-bfdb-c51c43af369e.jpeg: 640x480 144 albopictuss, 156 culexs, 13.5ms\n",
      "image 189/525 /home/bersi/Documents/Academic_Stuff/MCV-DataContest/notebooks/../data/images/test/615ca1d2-e5cd-42df-b2e1-7d8820ead3fe.jpeg: 640x512 68 albopictuss, 230 culexs, 2 culisetas, 13.2ms\n",
      "image 190/525 /home/bersi/Documents/Academic_Stuff/MCV-DataContest/notebooks/../data/images/test/616d30cd-63e8-422a-9a61-6676bcc237a5.jpeg: 640x640 183 albopictuss, 117 culexs, 18.0ms\n",
      "image 191/525 /home/bersi/Documents/Academic_Stuff/MCV-DataContest/notebooks/../data/images/test/62aeb0d0-2be6-4c81-a4da-6b7fe7d8ff5c.jpeg: 576x640 120 albopictuss, 177 culexs, 1 culiseta, 2 japonicus/koreicuss, 16.5ms\n",
      "image 192/525 /home/bersi/Documents/Academic_Stuff/MCV-DataContest/notebooks/../data/images/test/62ca1f73-8df8-4762-8bc6-0fc7ba4bfb9e.jpeg: 640x480 126 albopictuss, 174 culexs, 14.1ms\n",
      "image 193/525 /home/bersi/Documents/Academic_Stuff/MCV-DataContest/notebooks/../data/images/test/62e8aa3a-af90-4de0-a537-4ac8dd4f61e5.jpeg: 640x640 147 albopictuss, 153 culexs, 18.0ms\n",
      "image 194/525 /home/bersi/Documents/Academic_Stuff/MCV-DataContest/notebooks/../data/images/test/6317a279-8147-4846-b518-e1492cd4de7c.jpeg: 640x544 87 albopictuss, 213 culexs, 15.8ms\n",
      "image 195/525 /home/bersi/Documents/Academic_Stuff/MCV-DataContest/notebooks/../data/images/test/63767936-fb44-41a8-90c6-6f96d61312f4.jpeg: 640x384 63 albopictuss, 234 culexs, 2 culisetas, 1 japonicus/koreicus, 9.7ms\n",
      "image 196/525 /home/bersi/Documents/Academic_Stuff/MCV-DataContest/notebooks/../data/images/test/6376baab-5111-4233-986b-5001ae688eb7.jpeg: 608x640 159 albopictuss, 139 culexs, 1 culiseta, 1 japonicus/koreicus, 14.4ms\n",
      "image 197/525 /home/bersi/Documents/Academic_Stuff/MCV-DataContest/notebooks/../data/images/test/6436c4d0-9bba-4ff0-aff2-3dcace59d39c.jpeg: 640x480 95 albopictuss, 203 culexs, 2 culisetas, 12.5ms\n",
      "image 198/525 /home/bersi/Documents/Academic_Stuff/MCV-DataContest/notebooks/../data/images/test/6509d5f5-6f52-4427-831d-6818175f90e2.jpeg: 640x480 74 albopictuss, 226 culexs, 12.0ms\n",
      "image 199/525 /home/bersi/Documents/Academic_Stuff/MCV-DataContest/notebooks/../data/images/test/651b0353-c02e-4f01-b129-53214a6b5378.jpeg: 640x480 94 albopictuss, 205 culexs, 1 culiseta, 11.8ms\n",
      "image 200/525 /home/bersi/Documents/Academic_Stuff/MCV-DataContest/notebooks/../data/images/test/6535db4a-3754-4678-a1cf-cd565b5040e6.jpeg: 640x480 134 albopictuss, 165 culexs, 1 culiseta, 11.7ms\n",
      "image 201/525 /home/bersi/Documents/Academic_Stuff/MCV-DataContest/notebooks/../data/images/test/65a2a520-97c2-443e-af7f-8f3e982a4f73.jpeg: 384x640 103 albopictuss, 1 anopheles, 192 culexs, 1 culiseta, 3 japonicus/koreicuss, 10.3ms\n",
      "image 202/525 /home/bersi/Documents/Academic_Stuff/MCV-DataContest/notebooks/../data/images/test/6620f567-8eaf-44ea-80ae-d4aa47316f36.jpeg: 384x640 78 albopictuss, 220 culexs, 1 culiseta, 1 japonicus/koreicus, 9.5ms\n",
      "image 203/525 /home/bersi/Documents/Academic_Stuff/MCV-DataContest/notebooks/../data/images/test/66d1def1-60ee-475b-bb32-98bf34ddb120.jpeg: 640x480 94 albopictuss, 203 culexs, 2 culisetas, 1 japonicus/koreicus, 12.3ms\n",
      "image 204/525 /home/bersi/Documents/Academic_Stuff/MCV-DataContest/notebooks/../data/images/test/670e619f-ed1a-43d2-b2e4-80d74614b893.jpeg: 640x480 159 albopictuss, 139 culexs, 2 culisetas, 11.7ms\n",
      "image 205/525 /home/bersi/Documents/Academic_Stuff/MCV-DataContest/notebooks/../data/images/test/67393420-fa37-4d8a-a647-a1fabadb8dc5.jpeg: 640x480 68 albopictuss, 231 culexs, 1 japonicus/koreicus, 11.8ms\n",
      "image 206/525 /home/bersi/Documents/Academic_Stuff/MCV-DataContest/notebooks/../data/images/test/67c4ad50-83d4-4bc6-8b49-9843507b8e42.jpeg: 640x480 70 albopictuss, 230 culexs, 11.8ms\n",
      "image 207/525 /home/bersi/Documents/Academic_Stuff/MCV-DataContest/notebooks/../data/images/test/68208fbe-6d56-472f-a793-50885e601057.jpeg: 640x384 97 albopictuss, 202 culexs, 1 culiseta, 9.6ms\n",
      "image 208/525 /home/bersi/Documents/Academic_Stuff/MCV-DataContest/notebooks/../data/images/test/685a45d8-10d7-4a2f-98d5-e14d1ef0baf3.jpeg: 640x576 212 albopictuss, 87 culexs, 1 japonicus/koreicus, 14.3ms\n",
      "image 209/525 /home/bersi/Documents/Academic_Stuff/MCV-DataContest/notebooks/../data/images/test/6a083e8b-0928-4f27-a731-fcc392b0b8b7.jpeg: 544x640 123 albopictuss, 176 culexs, 1 japonicus/koreicus, 14.1ms\n",
      "image 210/525 /home/bersi/Documents/Academic_Stuff/MCV-DataContest/notebooks/../data/images/test/6a2a05a5-d113-4f4d-b543-31a80ff4f3ff.jpeg: 640x480 148 albopictuss, 152 culexs, 12.6ms\n",
      "image 211/525 /home/bersi/Documents/Academic_Stuff/MCV-DataContest/notebooks/../data/images/test/6a7cb700-2b95-40fb-a36e-1feb6aa274af.jpeg: 640x384 94 albopictuss, 205 culexs, 1 japonicus/koreicus, 9.8ms\n",
      "image 212/525 /home/bersi/Documents/Academic_Stuff/MCV-DataContest/notebooks/../data/images/test/6b2af5fb-e8cc-45d8-8721-a8f8422f34da.jpeg: 640x480 143 albopictuss, 157 culexs, 12.5ms\n",
      "image 213/525 /home/bersi/Documents/Academic_Stuff/MCV-DataContest/notebooks/../data/images/test/6bdb0dca-93dd-40f1-b9ae-9759bc1b5789.jpeg: 640x384 94 albopictuss, 205 culexs, 1 japonicus/koreicus, 9.9ms\n",
      "image 214/525 /home/bersi/Documents/Academic_Stuff/MCV-DataContest/notebooks/../data/images/test/6c53439b-11cd-4145-888f-596b6d716aac.jpeg: 320x640 108 albopictuss, 190 culexs, 1 culiseta, 1 japonicus/koreicus, 9.5ms\n",
      "image 215/525 /home/bersi/Documents/Academic_Stuff/MCV-DataContest/notebooks/../data/images/test/6ce1e724-6545-43a8-9029-77d0dbdbfa14.jpeg: 640x480 117 albopictuss, 183 culexs, 12.3ms\n",
      "image 216/525 /home/bersi/Documents/Academic_Stuff/MCV-DataContest/notebooks/../data/images/test/6e4c95cc-247e-4f17-9419-e4b19f6842eb.jpeg: 544x640 72 albopictuss, 227 culexs, 1 culiseta, 13.2ms\n",
      "image 217/525 /home/bersi/Documents/Academic_Stuff/MCV-DataContest/notebooks/../data/images/test/6e6928f8-5f78-4eda-ad32-cf497a7fbe70.jpeg: 640x384 40 albopictuss, 260 culexs, 9.6ms\n",
      "image 218/525 /home/bersi/Documents/Academic_Stuff/MCV-DataContest/notebooks/../data/images/test/6f2709ef-afa7-41b4-a825-9104232b2b36.jpeg: 640x480 189 albopictuss, 111 culexs, 12.4ms\n",
      "image 219/525 /home/bersi/Documents/Academic_Stuff/MCV-DataContest/notebooks/../data/images/test/6f69d89b-eba2-410c-83a2-a7f8639976d7.jpeg: 640x480 87 albopictuss, 213 culexs, 11.8ms\n",
      "image 220/525 /home/bersi/Documents/Academic_Stuff/MCV-DataContest/notebooks/../data/images/test/704e8864-c744-474a-bbc1-b29b3a16eaca.jpeg: 640x480 118 albopictuss, 181 culexs, 1 culiseta, 11.7ms\n",
      "image 221/525 /home/bersi/Documents/Academic_Stuff/MCV-DataContest/notebooks/../data/images/test/7096de1f-3155-4b3a-b204-6fe51c66cf03.jpeg: 640x480 76 albopictuss, 223 culexs, 1 culiseta, 11.8ms\n",
      "image 222/525 /home/bersi/Documents/Academic_Stuff/MCV-DataContest/notebooks/../data/images/test/7107025c-6096-43bb-917c-17f76c50105e.jpeg: 640x480 101 albopictuss, 199 culexs, 11.7ms\n",
      "image 223/525 /home/bersi/Documents/Academic_Stuff/MCV-DataContest/notebooks/../data/images/test/7108bc63-6010-4a45-ab07-1a6999ad56d0.jpeg: 640x480 107 albopictuss, 191 culexs, 2 japonicus/koreicuss, 11.9ms\n",
      "image 224/525 /home/bersi/Documents/Academic_Stuff/MCV-DataContest/notebooks/../data/images/test/71404d0a-642e-492e-b777-06536f63664d.jpeg: 480x640 104 albopictuss, 195 culexs, 1 culiseta, 12.8ms\n",
      "image 225/525 /home/bersi/Documents/Academic_Stuff/MCV-DataContest/notebooks/../data/images/test/7154c57d-6d79-4c11-bb3b-cc8b74ea09df.jpeg: 640x480 92 albopictuss, 207 culexs, 1 culiseta, 12.2ms\n",
      "image 226/525 /home/bersi/Documents/Academic_Stuff/MCV-DataContest/notebooks/../data/images/test/721ee73d-1a01-4244-910e-9d2572bf8468.jpeg: 640x480 90 albopictuss, 210 culexs, 11.8ms\n",
      "image 227/525 /home/bersi/Documents/Academic_Stuff/MCV-DataContest/notebooks/../data/images/test/7327194f-cfbd-4db4-a41f-44a00d870fcf.jpeg: 640x608 131 albopictuss, 169 culexs, 14.3ms\n",
      "image 228/525 /home/bersi/Documents/Academic_Stuff/MCV-DataContest/notebooks/../data/images/test/74362b37-932d-4b9c-86c9-01e0963a266f.jpeg: 480x640 155 albopictuss, 145 culexs, 12.7ms\n",
      "image 229/525 /home/bersi/Documents/Academic_Stuff/MCV-DataContest/notebooks/../data/images/test/74f0e740-520e-401b-8161-91ff962ebe8f.jpeg: 480x640 98 albopictuss, 2 anopheless, 197 culexs, 3 culisetas, 11.9ms\n",
      "image 230/525 /home/bersi/Documents/Academic_Stuff/MCV-DataContest/notebooks/../data/images/test/75674b48-71e3-416b-9454-a4e3c4271d7b.jpeg: 480x640 63 albopictuss, 1 anopheles, 233 culexs, 2 culisetas, 1 japonicus/koreicus, 14.0ms\n",
      "image 231/525 /home/bersi/Documents/Academic_Stuff/MCV-DataContest/notebooks/../data/images/test/78a0332d-4ea3-4ac9-aa27-06a9103ef890.jpeg: 640x288 132 albopictuss, 168 culexs, 10.4ms\n",
      "image 232/525 /home/bersi/Documents/Academic_Stuff/MCV-DataContest/notebooks/../data/images/test/78d112c6-29f3-45bc-80da-ea4680d75ce0.jpeg: 512x640 133 albopictuss, 166 culexs, 1 japonicus/koreicus, 13.7ms\n",
      "image 233/525 /home/bersi/Documents/Academic_Stuff/MCV-DataContest/notebooks/../data/images/test/78e71aaf-d9b7-4ecb-abec-afbaeee7ce4d.jpeg: 640x320 105 albopictuss, 194 culexs, 1 culiseta, 11.3ms\n",
      "image 234/525 /home/bersi/Documents/Academic_Stuff/MCV-DataContest/notebooks/../data/images/test/79d6c162-db4c-4501-a64e-d1bc2ff27808.jpeg: 640x480 77 albopictuss, 221 culexs, 2 culisetas, 14.3ms\n",
      "image 235/525 /home/bersi/Documents/Academic_Stuff/MCV-DataContest/notebooks/../data/images/test/7c1b9f66-7f86-40b7-9e94-d4c822819f7c.jpeg: 640x480 79 albopictuss, 1 anopheles, 217 culexs, 2 culisetas, 1 japonicus/koreicus, 13.9ms\n",
      "image 236/525 /home/bersi/Documents/Academic_Stuff/MCV-DataContest/notebooks/../data/images/test/7c5edea9-a8aa-451f-b1a4-e63a7cc4168a.jpeg: 320x640 129 albopictuss, 169 culexs, 1 culiseta, 1 japonicus/koreicus, 11.2ms\n",
      "image 237/525 /home/bersi/Documents/Academic_Stuff/MCV-DataContest/notebooks/../data/images/test/7ce8065d-ef25-4008-b156-785157b0ba13.jpeg: 640x480 65 albopictuss, 235 culexs, 14.4ms\n",
      "image 238/525 /home/bersi/Documents/Academic_Stuff/MCV-DataContest/notebooks/../data/images/test/7d3e790a-65a6-4029-8522-8865aa0a0aac.jpeg: 640x480 129 albopictuss, 171 culexs, 13.8ms\n",
      "image 239/525 /home/bersi/Documents/Academic_Stuff/MCV-DataContest/notebooks/../data/images/test/7d86dcfa-de92-45e8-b5e8-d622e4189049.jpeg: 640x480 58 albopictuss, 242 culexs, 13.8ms\n",
      "image 240/525 /home/bersi/Documents/Academic_Stuff/MCV-DataContest/notebooks/../data/images/test/7daa68bd-928b-4b43-850f-4626f16d2c14.jpeg: 640x480 102 albopictuss, 198 culexs, 13.8ms\n",
      "image 241/525 /home/bersi/Documents/Academic_Stuff/MCV-DataContest/notebooks/../data/images/test/7db59a48-af03-4fd8-9274-064334605d5f.jpeg: 640x320 80 albopictuss, 217 culexs, 2 culisetas, 1 japonicus/koreicus, 11.3ms\n",
      "image 242/525 /home/bersi/Documents/Academic_Stuff/MCV-DataContest/notebooks/../data/images/test/7e1fd24d-27cd-4837-88d1-87176af957fd.jpeg: 384x640 171 albopictuss, 1 anopheles, 126 culexs, 2 japonicus/koreicuss, 12.1ms\n",
      "image 243/525 /home/bersi/Documents/Academic_Stuff/MCV-DataContest/notebooks/../data/images/test/7e6625aa-3fd5-49cc-a765-dc88b2688d01.jpeg: 384x640 49 albopictuss, 248 culexs, 3 culisetas, 11.1ms\n",
      "image 244/525 /home/bersi/Documents/Academic_Stuff/MCV-DataContest/notebooks/../data/images/test/7f2d5948-18c2-480d-a02e-cd54d4dc4f05.jpeg: 640x384 72 albopictuss, 228 culexs, 11.2ms\n",
      "image 245/525 /home/bersi/Documents/Academic_Stuff/MCV-DataContest/notebooks/../data/images/test/80155138-4fce-4cbe-a306-6c7930eb4dfa.jpeg: 480x640 64 albopictuss, 235 culexs, 1 culiseta, 14.6ms\n",
      "image 246/525 /home/bersi/Documents/Academic_Stuff/MCV-DataContest/notebooks/../data/images/test/80dc41c3-280a-4e17-b919-1cf4a294b058.jpeg: 640x480 132 albopictuss, 167 culexs, 1 japonicus/koreicus, 14.3ms\n",
      "image 247/525 /home/bersi/Documents/Academic_Stuff/MCV-DataContest/notebooks/../data/images/test/8104f0e7-444b-4875-bed1-64a50f723124.jpeg: 640x480 64 albopictuss, 236 culexs, 13.8ms\n",
      "image 248/525 /home/bersi/Documents/Academic_Stuff/MCV-DataContest/notebooks/../data/images/test/813c8580-fa53-4a41-8110-9c89f093dcdd.jpeg: 384x640 116 albopictuss, 183 culexs, 1 japonicus/koreicus, 11.8ms\n",
      "image 249/525 /home/bersi/Documents/Academic_Stuff/MCV-DataContest/notebooks/../data/images/test/818eaca8-2ff7-4bc3-a474-4862095d526e.jpeg: 480x640 84 albopictuss, 216 culexs, 14.5ms\n",
      "image 250/525 /home/bersi/Documents/Academic_Stuff/MCV-DataContest/notebooks/../data/images/test/81c031c5-917a-43c8-88fd-a538694a4795.jpeg: 640x480 141 albopictuss, 1 anopheles, 157 culexs, 1 japonicus/koreicus, 14.7ms\n",
      "image 251/525 /home/bersi/Documents/Academic_Stuff/MCV-DataContest/notebooks/../data/images/test/81f374f4-b8b8-4df5-98c7-1e8c41df221d.jpeg: 384x640 91 albopictuss, 208 culexs, 1 japonicus/koreicus, 12.1ms\n",
      "image 252/525 /home/bersi/Documents/Academic_Stuff/MCV-DataContest/notebooks/../data/images/test/8294cd5d-27ff-414c-9801-c99bc6f7c7a7.jpeg: 288x640 85 albopictuss, 214 culexs, 1 culiseta, 10.2ms\n",
      "image 253/525 /home/bersi/Documents/Academic_Stuff/MCV-DataContest/notebooks/../data/images/test/83422421-0a20-482e-bb4f-4ba6dfc92b28.jpeg: 640x640 61 albopictuss, 238 culexs, 1 culiseta, 18.4ms\n",
      "image 254/525 /home/bersi/Documents/Academic_Stuff/MCV-DataContest/notebooks/../data/images/test/83842b2c-7d8a-492a-8dfd-220c5ece1bc3.jpeg: 640x480 63 albopictuss, 237 culexs, 14.8ms\n",
      "image 255/525 /home/bersi/Documents/Academic_Stuff/MCV-DataContest/notebooks/../data/images/test/83940543-c311-42ae-bff5-b84702a68e03.jpeg: 640x480 93 albopictuss, 207 culexs, 13.4ms\n",
      "image 256/525 /home/bersi/Documents/Academic_Stuff/MCV-DataContest/notebooks/../data/images/test/84204b9f-8c10-406d-bdd1-790c4b466521.jpeg: 640x480 92 albopictuss, 208 culexs, 13.4ms\n",
      "image 257/525 /home/bersi/Documents/Academic_Stuff/MCV-DataContest/notebooks/../data/images/test/845672d2-3415-43f4-91c1-ce551eaf898b.jpeg: 640x480 62 albopictuss, 238 culexs, 13.3ms\n",
      "image 258/525 /home/bersi/Documents/Academic_Stuff/MCV-DataContest/notebooks/../data/images/test/846989e5-ee4b-4ccf-85f2-a3407c5c9fe6.jpeg: 640x480 71 albopictuss, 228 culexs, 1 japonicus/koreicus, 13.3ms\n",
      "image 259/525 /home/bersi/Documents/Academic_Stuff/MCV-DataContest/notebooks/../data/images/test/84741405-2fd3-4f9a-b327-5bc2f834735f.jpeg: 640x480 85 albopictuss, 214 culexs, 1 culiseta, 13.2ms\n",
      "image 260/525 /home/bersi/Documents/Academic_Stuff/MCV-DataContest/notebooks/../data/images/test/84d64b6a-fa7a-47d3-a223-689e04c3295a.jpeg: 640x416 108 albopictuss, 1 anopheles, 186 culexs, 3 culisetas, 2 japonicus/koreicuss, 13.1ms\n",
      "image 261/525 /home/bersi/Documents/Academic_Stuff/MCV-DataContest/notebooks/../data/images/test/84da1f98-02be-4189-bc6c-b340613e17df.jpeg: 640x384 148 albopictuss, 148 culexs, 4 japonicus/koreicuss, 10.9ms\n",
      "image 262/525 /home/bersi/Documents/Academic_Stuff/MCV-DataContest/notebooks/../data/images/test/8633472f-f178-4a92-8c1f-ba9287c8b9d8.jpeg: 320x640 91 albopictuss, 204 culexs, 4 culisetas, 1 japonicus/koreicus, 10.8ms\n",
      "image 263/525 /home/bersi/Documents/Academic_Stuff/MCV-DataContest/notebooks/../data/images/test/8688c78b-2e39-4188-93d1-a2e607844b0e.jpeg: 384x640 132 albopictuss, 162 culexs, 1 culiseta, 5 japonicus/koreicuss, 11.5ms\n",
      "image 264/525 /home/bersi/Documents/Academic_Stuff/MCV-DataContest/notebooks/../data/images/test/86e7cee3-92ac-40e5-b0dc-457ddf2e795e.jpeg: 640x512 82 albopictuss, 215 culexs, 1 culiseta, 2 japonicus/koreicuss, 12.9ms\n",
      "image 265/525 /home/bersi/Documents/Academic_Stuff/MCV-DataContest/notebooks/../data/images/test/87573bc0-f7fd-4da6-b085-c331d740039f.jpeg: 640x480 119 albopictuss, 181 culexs, 14.1ms\n",
      "image 266/525 /home/bersi/Documents/Academic_Stuff/MCV-DataContest/notebooks/../data/images/test/87868e36-b097-48e2-ac70-29bc67f0fb8b.jpeg: 640x480 114 albopictuss, 185 culexs, 1 culiseta, 13.2ms\n",
      "image 267/525 /home/bersi/Documents/Academic_Stuff/MCV-DataContest/notebooks/../data/images/test/8a5bb3d4-d55c-45bb-b4e7-a691f878c5c0.jpeg: 576x640 90 albopictuss, 209 culexs, 1 japonicus/koreicus, 17.1ms\n",
      "image 268/525 /home/bersi/Documents/Academic_Stuff/MCV-DataContest/notebooks/../data/images/test/8aa3af3a-91a0-4ff9-963d-2d1e0990b352.jpeg: 640x480 70 albopictuss, 1 anopheles, 228 culexs, 1 japonicus/koreicus, 13.8ms\n",
      "image 269/525 /home/bersi/Documents/Academic_Stuff/MCV-DataContest/notebooks/../data/images/test/8ad17913-2a38-48e8-a1a8-c7004d6d1c3e.jpeg: 640x480 28 albopictuss, 271 culexs, 1 culiseta, 13.4ms\n",
      "image 270/525 /home/bersi/Documents/Academic_Stuff/MCV-DataContest/notebooks/../data/images/test/8b15bfdd-ca19-4502-af48-a7ffaef140a5.jpeg: 640x480 105 albopictuss, 195 culexs, 13.2ms\n",
      "image 271/525 /home/bersi/Documents/Academic_Stuff/MCV-DataContest/notebooks/../data/images/test/8b85b3f2-a80d-4f71-91c0-6eea7631012b.jpeg: 640x480 174 albopictuss, 124 culexs, 2 culisetas, 13.3ms\n",
      "image 272/525 /home/bersi/Documents/Academic_Stuff/MCV-DataContest/notebooks/../data/images/test/8ba8004e-3391-48c5-9412-816d343af664.jpeg: 640x480 88 albopictuss, 211 culexs, 1 japonicus/koreicus, 13.3ms\n",
      "image 273/525 /home/bersi/Documents/Academic_Stuff/MCV-DataContest/notebooks/../data/images/test/8bb507e8-6ab3-41e1-b618-cae0ea139a4e.jpeg: 640x480 102 albopictuss, 197 culexs, 1 culiseta, 13.3ms\n",
      "image 274/525 /home/bersi/Documents/Academic_Stuff/MCV-DataContest/notebooks/../data/images/test/8c9548e2-5d1c-4454-b515-920d92859acb.jpeg: 640x480 109 albopictuss, 190 culexs, 1 japonicus/koreicus, 13.3ms\n",
      "image 275/525 /home/bersi/Documents/Academic_Stuff/MCV-DataContest/notebooks/../data/images/test/8d370e31-80a1-493c-b300-8592ae7b47fb.jpeg: 608x640 121 albopictuss, 1 anopheles, 173 culexs, 3 culisetas, 2 japonicus/koreicuss, 15.8ms\n",
      "image 276/525 /home/bersi/Documents/Academic_Stuff/MCV-DataContest/notebooks/../data/images/test/8d3b4000-08c6-4545-93e6-9286818ad91e.jpeg: 512x640 106 albopictuss, 192 culexs, 1 culiseta, 1 japonicus/koreicus, 13.5ms\n",
      "image 277/525 /home/bersi/Documents/Academic_Stuff/MCV-DataContest/notebooks/../data/images/test/8d84c15d-d444-4514-a8cc-f187808a75ed.jpeg: 640x480 124 albopictuss, 176 culexs, 14.2ms\n",
      "image 278/525 /home/bersi/Documents/Academic_Stuff/MCV-DataContest/notebooks/../data/images/test/8f40cc2a-65b7-447b-a111-9ca66dbedee7.jpeg: 288x640 125 albopictuss, 175 culexs, 9.7ms\n",
      "image 279/525 /home/bersi/Documents/Academic_Stuff/MCV-DataContest/notebooks/../data/images/test/8fe0f5db-cb9a-4b56-a7d5-88044c852ea9.jpeg: 480x640 142 albopictuss, 157 culexs, 1 culiseta, 14.1ms\n",
      "image 280/525 /home/bersi/Documents/Academic_Stuff/MCV-DataContest/notebooks/../data/images/test/9018a4fc-0207-43e0-ad6c-9b8a04374f0a.jpeg: 640x480 122 albopictuss, 176 culexs, 2 culisetas, 13.9ms\n",
      "image 281/525 /home/bersi/Documents/Academic_Stuff/MCV-DataContest/notebooks/../data/images/test/90231987-8eb4-44e9-94ed-2f7674c5f7a1.jpeg: 640x480 77 albopictuss, 221 culexs, 1 culiseta, 1 japonicus/koreicus, 13.3ms\n",
      "image 282/525 /home/bersi/Documents/Academic_Stuff/MCV-DataContest/notebooks/../data/images/test/905a7f94-0aeb-43a0-a479-120f48ee85c2.jpeg: 640x480 101 albopictuss, 197 culexs, 1 culiseta, 1 japonicus/koreicus, 13.3ms\n",
      "image 283/525 /home/bersi/Documents/Academic_Stuff/MCV-DataContest/notebooks/../data/images/test/90690b80-87de-4711-9a91-3d6ffa672ee4.jpeg: 640x480 89 albopictuss, 211 culexs, 13.3ms\n",
      "image 284/525 /home/bersi/Documents/Academic_Stuff/MCV-DataContest/notebooks/../data/images/test/90b40ef2-012d-4880-ad0a-4422f0ce8df1.jpeg: 384x640 125 albopictuss, 172 culexs, 1 culiseta, 2 japonicus/koreicuss, 11.3ms\n",
      "image 285/525 /home/bersi/Documents/Academic_Stuff/MCV-DataContest/notebooks/../data/images/test/90b8b0d1-4963-4c1b-a038-9fb46904cbe1.jpeg: 640x608 111 albopictuss, 189 culexs, 16.1ms\n",
      "image 286/525 /home/bersi/Documents/Academic_Stuff/MCV-DataContest/notebooks/../data/images/test/91271444-27b8-4073-894b-ebbebd60bba5.jpeg: 640x288 129 albopictuss, 170 culexs, 1 culiseta, 10.5ms\n",
      "image 287/525 /home/bersi/Documents/Academic_Stuff/MCV-DataContest/notebooks/../data/images/test/9137483c-d81b-4eca-ab20-3bf545e5855e.jpeg: 640x480 72 albopictuss, 228 culexs, 14.9ms\n",
      "image 288/525 /home/bersi/Documents/Academic_Stuff/MCV-DataContest/notebooks/../data/images/test/916bebd9-fc40-4a4c-8b5d-a38f54ef3698.jpeg: 640x480 152 albopictuss, 147 culexs, 1 japonicus/koreicus, 13.9ms\n",
      "image 289/525 /home/bersi/Documents/Academic_Stuff/MCV-DataContest/notebooks/../data/images/test/9192c4fd-963b-41e1-9475-1488848fb373.jpeg: 480x640 93 albopictuss, 206 culexs, 1 culiseta, 14.9ms\n",
      "image 290/525 /home/bersi/Documents/Academic_Stuff/MCV-DataContest/notebooks/../data/images/test/91e2f32f-e680-40ba-a2ab-6ed5ae919270.jpeg: 640x480 46 albopictuss, 254 culexs, 14.5ms\n",
      "image 291/525 /home/bersi/Documents/Academic_Stuff/MCV-DataContest/notebooks/../data/images/test/91f0117d-7648-4951-ad9c-86c27db235b0.jpeg: 640x480 110 albopictuss, 190 culexs, 13.8ms\n",
      "image 292/525 /home/bersi/Documents/Academic_Stuff/MCV-DataContest/notebooks/../data/images/test/91f9fe75-4359-4819-87a6-a5c2e5836bea.jpeg: 640x480 73 albopictuss, 227 culexs, 13.9ms\n",
      "image 293/525 /home/bersi/Documents/Academic_Stuff/MCV-DataContest/notebooks/../data/images/test/92320f79-6507-4ee9-8231-f4886080a52b.jpeg: 480x640 85 albopictuss, 215 culexs, 15.0ms\n",
      "image 294/525 /home/bersi/Documents/Academic_Stuff/MCV-DataContest/notebooks/../data/images/test/92742c4a-c8fd-4e3b-8cfa-60d52f26ba8f.jpeg: 640x640 67 albopictuss, 232 culexs, 1 japonicus/koreicus, 18.2ms\n",
      "image 295/525 /home/bersi/Documents/Academic_Stuff/MCV-DataContest/notebooks/../data/images/test/929047cf-44d6-4c59-bae6-87110df27cbb.jpeg: 640x480 125 albopictuss, 175 culexs, 14.4ms\n",
      "image 296/525 /home/bersi/Documents/Academic_Stuff/MCV-DataContest/notebooks/../data/images/test/92a02501-bc65-4a92-9ff2-c58a5ae4b6b5.jpeg: 640x480 81 albopictuss, 218 culexs, 1 japonicus/koreicus, 13.8ms\n",
      "image 297/525 /home/bersi/Documents/Academic_Stuff/MCV-DataContest/notebooks/../data/images/test/92aa8844-d059-43ac-b6d6-b92117836443.jpeg: 640x480 90 albopictuss, 209 culexs, 1 culiseta, 13.9ms\n",
      "image 298/525 /home/bersi/Documents/Academic_Stuff/MCV-DataContest/notebooks/../data/images/test/933578c0-2311-47cc-b64d-515f123bf024.jpeg: 640x640 142 albopictuss, 1 anopheles, 151 culexs, 3 culisetas, 3 japonicus/koreicuss, 18.5ms\n",
      "image 299/525 /home/bersi/Documents/Academic_Stuff/MCV-DataContest/notebooks/../data/images/test/93cfae48-b274-4436-b853-283127861fd7.jpeg: 640x480 137 albopictuss, 162 culexs, 1 culiseta, 14.4ms\n",
      "image 300/525 /home/bersi/Documents/Academic_Stuff/MCV-DataContest/notebooks/../data/images/test/94554e5f-37c2-4512-a9bf-e31ff7c55565.jpeg: 640x480 65 albopictuss, 235 culexs, 13.9ms\n",
      "image 301/525 /home/bersi/Documents/Academic_Stuff/MCV-DataContest/notebooks/../data/images/test/9583081a-c9af-47ce-b9f5-4abfdc23aaca.jpeg: 640x480 111 albopictuss, 187 culexs, 1 culiseta, 1 japonicus/koreicus, 13.8ms\n",
      "image 302/525 /home/bersi/Documents/Academic_Stuff/MCV-DataContest/notebooks/../data/images/test/95be7d42-cb47-4a68-9c07-608421e75b59.jpeg: 640x288 78 albopictuss, 221 culexs, 1 japonicus/koreicus, 10.4ms\n",
      "image 303/525 /home/bersi/Documents/Academic_Stuff/MCV-DataContest/notebooks/../data/images/test/965d6ab0-4799-4ad1-b21d-bff7a85e67ad.jpeg: 640x480 168 albopictuss, 131 culexs, 1 culiseta, 14.9ms\n",
      "image 304/525 /home/bersi/Documents/Academic_Stuff/MCV-DataContest/notebooks/../data/images/test/966a953a-d447-4b07-8aa3-ee04eafcf5a9.jpeg: 640x384 61 albopictuss, 237 culexs, 2 japonicus/koreicuss, 11.2ms\n",
      "image 305/525 /home/bersi/Documents/Academic_Stuff/MCV-DataContest/notebooks/../data/images/test/988fe925-5890-44b1-97d6-736d8d6fd9b7.jpeg: 640x480 133 albopictuss, 163 culexs, 3 culisetas, 1 japonicus/koreicus, 14.7ms\n",
      "image 306/525 /home/bersi/Documents/Academic_Stuff/MCV-DataContest/notebooks/../data/images/test/98a1d744-fd38-48cc-92d7-72b0d43245f7.jpeg: 640x480 62 albopictuss, 237 culexs, 1 culiseta, 14.2ms\n",
      "image 307/525 /home/bersi/Documents/Academic_Stuff/MCV-DataContest/notebooks/../data/images/test/98b6fce1-0441-41f2-9f15-ead88b530e80.jpeg: 480x640 48 albopictuss, 252 culexs, 14.5ms\n",
      "image 308/525 /home/bersi/Documents/Academic_Stuff/MCV-DataContest/notebooks/../data/images/test/98dfc170-94f8-4536-899a-7f1dce04471f.jpeg: 640x480 150 albopictuss, 149 culexs, 1 japonicus/koreicus, 14.4ms\n",
      "image 309/525 /home/bersi/Documents/Academic_Stuff/MCV-DataContest/notebooks/../data/images/test/99cad3f7-ad1d-419f-808d-3eb43f2d7d69.jpeg: 640x480 125 albopictuss, 174 culexs, 1 japonicus/koreicus, 13.9ms\n",
      "image 310/525 /home/bersi/Documents/Academic_Stuff/MCV-DataContest/notebooks/../data/images/test/9a46c7a9-5b3a-4fe3-9e0f-f4b5c8cceaf4.jpeg: 640x480 124 albopictuss, 175 culexs, 1 culiseta, 14.0ms\n",
      "image 311/525 /home/bersi/Documents/Academic_Stuff/MCV-DataContest/notebooks/../data/images/test/9a9b9059-a121-4f0f-97b9-24e4f82d340a.jpeg: 480x640 116 albopictuss, 184 culexs, 15.2ms\n",
      "image 312/525 /home/bersi/Documents/Academic_Stuff/MCV-DataContest/notebooks/../data/images/test/9ac3772e-4483-4e68-a16b-98757d960d84.jpeg: 640x480 185 albopictuss, 113 culexs, 1 culiseta, 1 japonicus/koreicus, 14.4ms\n",
      "image 313/525 /home/bersi/Documents/Academic_Stuff/MCV-DataContest/notebooks/../data/images/test/9b58be90-9152-45ea-84c9-6d98a817f086.jpeg: 640x480 81 albopictuss, 217 culexs, 2 culisetas, 13.9ms\n",
      "image 314/525 /home/bersi/Documents/Academic_Stuff/MCV-DataContest/notebooks/../data/images/test/9c23c68c-644e-41c6-9056-68320e2b199a.jpeg: 640x480 154 albopictuss, 143 culexs, 2 culisetas, 1 japonicus/koreicus, 13.8ms\n",
      "image 315/525 /home/bersi/Documents/Academic_Stuff/MCV-DataContest/notebooks/../data/images/test/9c540f59-9ea8-4478-adb4-a5fe1201e5fb.jpeg: 640x480 97 albopictuss, 201 culexs, 1 culiseta, 1 japonicus/koreicus, 13.8ms\n",
      "image 316/525 /home/bersi/Documents/Academic_Stuff/MCV-DataContest/notebooks/../data/images/test/9c68c47b-efc8-420d-9651-de0b4944f867.jpeg: 640x448 136 albopictuss, 160 culexs, 3 culisetas, 1 japonicus/koreicus, 14.2ms\n",
      "image 317/525 /home/bersi/Documents/Academic_Stuff/MCV-DataContest/notebooks/../data/images/test/9c9af1d7-5dbf-4bdb-9980-2b7e9becb048.jpeg: 640x480 148 albopictuss, 149 culexs, 3 culisetas, 15.2ms\n",
      "image 318/525 /home/bersi/Documents/Academic_Stuff/MCV-DataContest/notebooks/../data/images/test/9cab7af0-1278-48c9-977d-ac084881a335.jpeg: 640x480 68 albopictuss, 232 culexs, 13.9ms\n",
      "image 319/525 /home/bersi/Documents/Academic_Stuff/MCV-DataContest/notebooks/../data/images/test/9d0d18cb-7466-41ca-bc3b-65f447cb4489.jpeg: 640x320 92 albopictuss, 205 culexs, 3 japonicus/koreicuss, 11.6ms\n",
      "image 320/525 /home/bersi/Documents/Academic_Stuff/MCV-DataContest/notebooks/../data/images/test/9db78f23-6352-47a2-8a6f-18a8a3b2811c.jpeg: 640x320 37 albopictuss, 262 culexs, 1 culiseta, 10.6ms\n",
      "image 321/525 /home/bersi/Documents/Academic_Stuff/MCV-DataContest/notebooks/../data/images/test/9dc1f00e-135c-4b5f-9614-4dadcc33c597.jpeg: 480x640 76 albopictuss, 224 culexs, 14.8ms\n",
      "image 322/525 /home/bersi/Documents/Academic_Stuff/MCV-DataContest/notebooks/../data/images/test/9de9e882-84d2-414f-ae78-5c3708823831.jpeg: 640x480 98 albopictuss, 202 culexs, 14.9ms\n",
      "image 323/525 /home/bersi/Documents/Academic_Stuff/MCV-DataContest/notebooks/../data/images/test/9e4abca6-1b85-48c0-916b-30e690279124.jpeg: 640x288 129 albopictuss, 171 culexs, 10.4ms\n",
      "image 324/525 /home/bersi/Documents/Academic_Stuff/MCV-DataContest/notebooks/../data/images/test/9e619225-3ea9-41c1-98b5-b9c38bc014f6.jpeg: 640x480 83 albopictuss, 217 culexs, 14.3ms\n",
      "image 325/525 /home/bersi/Documents/Academic_Stuff/MCV-DataContest/notebooks/../data/images/test/9ee2a709-6821-49c6-ad5f-a0831f664a6f.jpeg: 640x480 111 albopictuss, 188 culexs, 1 japonicus/koreicus, 13.8ms\n",
      "image 326/525 /home/bersi/Documents/Academic_Stuff/MCV-DataContest/notebooks/../data/images/test/9f486c54-8608-4763-aca8-0dbed7cf84d2.jpeg: 640x480 136 albopictuss, 164 culexs, 13.9ms\n",
      "image 327/525 /home/bersi/Documents/Academic_Stuff/MCV-DataContest/notebooks/../data/images/test/9fbe7765-f3e5-47e4-aafb-7c151b4a883b.jpeg: 640x384 84 albopictuss, 215 culexs, 1 culiseta, 11.6ms\n",
      "image 328/525 /home/bersi/Documents/Academic_Stuff/MCV-DataContest/notebooks/../data/images/test/a0424cf2-beae-4e47-804a-4609efc4cf79.jpeg: 640x320 134 albopictuss, 163 culexs, 2 culisetas, 1 japonicus/koreicus, 12.0ms\n",
      "image 329/525 /home/bersi/Documents/Academic_Stuff/MCV-DataContest/notebooks/../data/images/test/a049be38-1760-42f8-9f37-a7d7b8dde450.jpeg: 640x480 49 albopictuss, 247 culexs, 1 culiseta, 3 japonicus/koreicuss, 14.5ms\n",
      "image 330/525 /home/bersi/Documents/Academic_Stuff/MCV-DataContest/notebooks/../data/images/test/a0d2c55a-d3c6-473b-a489-f658497f8154.jpeg: 608x640 191 albopictuss, 2 anopheless, 105 culexs, 1 culiseta, 1 japonicus/koreicus, 17.1ms\n",
      "image 331/525 /home/bersi/Documents/Academic_Stuff/MCV-DataContest/notebooks/../data/images/test/a107d201-1c72-4263-8815-d698c28a8f39.jpeg: 640x480 102 albopictuss, 197 culexs, 1 japonicus/koreicus, 14.4ms\n",
      "image 332/525 /home/bersi/Documents/Academic_Stuff/MCV-DataContest/notebooks/../data/images/test/a1aca7ec-c709-4da9-b976-2be3525245c6.jpeg: 640x320 50 albopictuss, 249 culexs, 1 culiseta, 11.3ms\n",
      "image 333/525 /home/bersi/Documents/Academic_Stuff/MCV-DataContest/notebooks/../data/images/test/a22f7f95-6ef5-4440-bdae-21358100bffe.jpeg: 640x384 92 albopictuss, 1 anopheles, 205 culexs, 2 culisetas, 11.2ms\n",
      "image 334/525 /home/bersi/Documents/Academic_Stuff/MCV-DataContest/notebooks/../data/images/test/a413a7d8-d7cb-436c-9449-08b4e1aa41c1.jpeg: 640x480 70 albopictuss, 229 culexs, 1 culiseta, 14.6ms\n",
      "image 335/525 /home/bersi/Documents/Academic_Stuff/MCV-DataContest/notebooks/../data/images/test/a4d04bd0-8096-4c7f-b655-9f7c347d383f.jpeg: 640x384 122 albopictuss, 175 culexs, 1 culiseta, 2 japonicus/koreicuss, 11.4ms\n",
      "image 336/525 /home/bersi/Documents/Academic_Stuff/MCV-DataContest/notebooks/../data/images/test/a4fabc05-3164-465f-9bd3-1964e9b324e2.jpeg: 640x512 61 albopictuss, 1 anopheles, 236 culexs, 2 culisetas, 13.3ms\n",
      "image 337/525 /home/bersi/Documents/Academic_Stuff/MCV-DataContest/notebooks/../data/images/test/a52c8cab-9ec1-486f-ba32-04af99389f39.jpeg: 640x480 117 albopictuss, 179 culexs, 4 culisetas, 14.3ms\n",
      "image 338/525 /home/bersi/Documents/Academic_Stuff/MCV-DataContest/notebooks/../data/images/test/a573eb7e-a5cb-479a-8ad4-362df11a7b29.jpeg: 640x480 126 albopictuss, 1 anopheles, 169 culexs, 2 culisetas, 2 japonicus/koreicuss, 13.9ms\n",
      "image 339/525 /home/bersi/Documents/Academic_Stuff/MCV-DataContest/notebooks/../data/images/test/a5757ea9-940a-40c1-bf14-f25df4f7fd5c.jpeg: 640x480 99 albopictuss, 201 culexs, 13.9ms\n",
      "image 340/525 /home/bersi/Documents/Academic_Stuff/MCV-DataContest/notebooks/../data/images/test/a58d07c8-da0a-4c77-a06c-f36302293da4.jpeg: 640x480 62 albopictuss, 236 culexs, 2 culisetas, 13.8ms\n",
      "image 341/525 /home/bersi/Documents/Academic_Stuff/MCV-DataContest/notebooks/../data/images/test/a595c35c-1b1f-405e-96b0-3642d76a165f.jpeg: 640x480 77 albopictuss, 223 culexs, 13.9ms\n",
      "image 342/525 /home/bersi/Documents/Academic_Stuff/MCV-DataContest/notebooks/../data/images/test/a6b631f4-e66e-4350-8d79-8dc43dd2d9d6.jpeg: 640x480 65 albopictuss, 234 culexs, 1 culiseta, 13.9ms\n",
      "image 343/525 /home/bersi/Documents/Academic_Stuff/MCV-DataContest/notebooks/../data/images/test/a7b2fdb5-e670-46c6-ae2f-efe1ec1917d4.jpeg: 640x480 68 albopictuss, 232 culexs, 13.7ms\n",
      "image 344/525 /home/bersi/Documents/Academic_Stuff/MCV-DataContest/notebooks/../data/images/test/a84afc41-fb24-4e83-b033-09bf97f1a1e7.jpeg: 320x640 85 albopictuss, 214 culexs, 1 culiseta, 11.2ms\n",
      "image 345/525 /home/bersi/Documents/Academic_Stuff/MCV-DataContest/notebooks/../data/images/test/a8ad1e9a-a1cb-460f-8a03-3a4dea65cd09.jpeg: 640x480 118 albopictuss, 180 culexs, 1 culiseta, 1 japonicus/koreicus, 14.4ms\n",
      "image 346/525 /home/bersi/Documents/Academic_Stuff/MCV-DataContest/notebooks/../data/images/test/a8bd345f-b06b-4085-af33-077dfe32daed.jpeg: 640x480 75 albopictuss, 223 culexs, 2 culisetas, 13.8ms\n",
      "image 347/525 /home/bersi/Documents/Academic_Stuff/MCV-DataContest/notebooks/../data/images/test/a8e444f6-5313-466b-a611-81a5a2cf4b6b.jpeg: 640x480 118 albopictuss, 182 culexs, 13.9ms\n",
      "image 348/525 /home/bersi/Documents/Academic_Stuff/MCV-DataContest/notebooks/../data/images/test/a909dc81-886e-46b2-a141-8d223b058ab4.jpeg: 480x640 160 albopictuss, 139 culexs, 1 japonicus/koreicus, 14.3ms\n",
      "image 349/525 /home/bersi/Documents/Academic_Stuff/MCV-DataContest/notebooks/../data/images/test/a98813d4-a142-4fa6-b84f-c24b1f957be2.jpeg: 640x384 74 albopictuss, 224 culexs, 1 culiseta, 1 japonicus/koreicus, 10.8ms\n",
      "image 350/525 /home/bersi/Documents/Academic_Stuff/MCV-DataContest/notebooks/../data/images/test/a9d3c3fb-5f5e-4e36-a526-2fa1689b04f7.jpeg: 640x352 60 albopictuss, 238 culexs, 1 culiseta, 1 japonicus/koreicus, 78.2ms\n",
      "image 351/525 /home/bersi/Documents/Academic_Stuff/MCV-DataContest/notebooks/../data/images/test/aae27793-af32-4235-a4f8-c4b5de9a0617.jpeg: 640x480 97 albopictuss, 203 culexs, 14.0ms\n",
      "image 352/525 /home/bersi/Documents/Academic_Stuff/MCV-DataContest/notebooks/../data/images/test/aba33c0c-b52d-42cb-92d2-888d8bc7d1d3.jpeg: 640x480 37 albopictuss, 263 culexs, 13.4ms\n",
      "image 353/525 /home/bersi/Documents/Academic_Stuff/MCV-DataContest/notebooks/../data/images/test/abcd1135-de3d-4374-bc38-112b4765fa07.jpeg: 640x480 113 albopictuss, 186 culexs, 1 japonicus/koreicus, 13.3ms\n",
      "image 354/525 /home/bersi/Documents/Academic_Stuff/MCV-DataContest/notebooks/../data/images/test/abf54ff5-fa07-46f0-99be-c3d9cc60fef9.jpeg: 384x640 176 albopictuss, 119 culexs, 5 culisetas, 11.2ms\n",
      "image 355/525 /home/bersi/Documents/Academic_Stuff/MCV-DataContest/notebooks/../data/images/test/ac2c9893-212b-4f41-a762-32953835ff8d.jpeg: 640x480 97 albopictuss, 201 culexs, 2 culisetas, 13.9ms\n",
      "image 356/525 /home/bersi/Documents/Academic_Stuff/MCV-DataContest/notebooks/../data/images/test/ac412026-676e-4bab-8290-ba0d4d50396b.jpeg: 448x640 106 albopictuss, 4 anopheless, 183 culexs, 4 culisetas, 3 japonicus/koreicuss, 13.9ms\n",
      "image 357/525 /home/bersi/Documents/Academic_Stuff/MCV-DataContest/notebooks/../data/images/test/acd2acef-f7bb-45c6-b854-4ab915d5d7ef.jpeg: 640x640 114 albopictuss, 186 culexs, 18.0ms\n",
      "image 358/525 /home/bersi/Documents/Academic_Stuff/MCV-DataContest/notebooks/../data/images/test/ad5aba3e-8ace-49e0-bf14-af2a91ea897f.jpeg: 640x480 90 albopictuss, 210 culexs, 14.0ms\n",
      "image 359/525 /home/bersi/Documents/Academic_Stuff/MCV-DataContest/notebooks/../data/images/test/ae32dfa6-178f-41eb-96ac-ab4b47d0da87.jpeg: 384x640 115 albopictuss, 183 culexs, 2 japonicus/koreicuss, 11.4ms\n",
      "image 360/525 /home/bersi/Documents/Academic_Stuff/MCV-DataContest/notebooks/../data/images/test/aed58175-1266-4149-a8b3-c20c7161d944.jpeg: 640x480 88 albopictuss, 210 culexs, 1 culiseta, 1 japonicus/koreicus, 14.2ms\n",
      "image 361/525 /home/bersi/Documents/Academic_Stuff/MCV-DataContest/notebooks/../data/images/test/af1ebc05-825d-480c-b8e9-d1d28d761a0b.jpeg: 640x480 124 albopictuss, 173 culexs, 1 culiseta, 2 japonicus/koreicuss, 13.3ms\n",
      "image 362/525 /home/bersi/Documents/Academic_Stuff/MCV-DataContest/notebooks/../data/images/test/b0114543-8a81-4dd7-8d71-c6cf0d7604e5.jpeg: 640x480 118 albopictuss, 181 culexs, 1 culiseta, 13.5ms\n",
      "image 363/525 /home/bersi/Documents/Academic_Stuff/MCV-DataContest/notebooks/../data/images/test/b0ac805f-addb-40b7-a4e4-bbd2c5c4514c.jpeg: 640x480 74 albopictuss, 226 culexs, 13.5ms\n",
      "image 364/525 /home/bersi/Documents/Academic_Stuff/MCV-DataContest/notebooks/../data/images/test/b0d1af1b-3457-4b5e-b5f5-401c3c624925.jpeg: 640x480 64 albopictuss, 235 culexs, 1 culiseta, 13.5ms\n",
      "image 365/525 /home/bersi/Documents/Academic_Stuff/MCV-DataContest/notebooks/../data/images/test/b0d521b6-9476-41ab-9f7a-2b0b0529e362.jpeg: 320x640 69 albopictuss, 230 culexs, 1 culiseta, 13.9ms\n",
      "image 366/525 /home/bersi/Documents/Academic_Stuff/MCV-DataContest/notebooks/../data/images/test/b14ca2c0-2528-4487-a163-5de13f59b307.jpeg: 640x480 96 albopictuss, 1 anopheles, 200 culexs, 3 culisetas, 14.2ms\n",
      "image 367/525 /home/bersi/Documents/Academic_Stuff/MCV-DataContest/notebooks/../data/images/test/b165cc46-a654-4452-aa76-1ef4252c164a.jpeg: 480x640 125 albopictuss, 173 culexs, 1 culiseta, 1 japonicus/koreicus, 14.4ms\n",
      "image 368/525 /home/bersi/Documents/Academic_Stuff/MCV-DataContest/notebooks/../data/images/test/b1b977df-dd1e-43fd-9e25-0a21e65990ce.jpeg: 640x320 53 albopictuss, 247 culexs, 10.7ms\n",
      "image 369/525 /home/bersi/Documents/Academic_Stuff/MCV-DataContest/notebooks/../data/images/test/b1de96a0-ae1c-49e9-8a1c-ed4d4166f095.jpeg: 640x512 119 albopictuss, 181 culexs, 13.5ms\n",
      "image 370/525 /home/bersi/Documents/Academic_Stuff/MCV-DataContest/notebooks/../data/images/test/b24a13f5-59f2-4deb-b77d-543468397b9b.jpeg: 640x480 101 albopictuss, 198 culexs, 1 culiseta, 14.1ms\n",
      "image 371/525 /home/bersi/Documents/Academic_Stuff/MCV-DataContest/notebooks/../data/images/test/b2eac592-a1aa-4549-a7a4-a12323b9e50c.jpeg: 640x480 181 albopictuss, 118 culexs, 1 japonicus/koreicus, 13.4ms\n",
      "image 372/525 /home/bersi/Documents/Academic_Stuff/MCV-DataContest/notebooks/../data/images/test/b354e8d4-7d8f-4479-b4cb-dd4f5b7b5ff1.jpeg: 640x480 153 albopictuss, 146 culexs, 1 japonicus/koreicus, 13.4ms\n",
      "image 373/525 /home/bersi/Documents/Academic_Stuff/MCV-DataContest/notebooks/../data/images/test/b407fd1a-a6eb-4819-973e-eceee6c5a8c2.jpeg: 640x480 132 albopictuss, 166 culexs, 1 culiseta, 1 japonicus/koreicus, 13.4ms\n",
      "image 374/525 /home/bersi/Documents/Academic_Stuff/MCV-DataContest/notebooks/../data/images/test/b45711ca-03c3-44bc-ac20-1bfc0a7511ae.jpeg: 384x640 92 albopictuss, 1 anopheles, 206 culexs, 1 culiseta, 18.0ms\n",
      "image 375/525 /home/bersi/Documents/Academic_Stuff/MCV-DataContest/notebooks/../data/images/test/b468a45d-b1d9-4fcc-bebf-25fca147a9ec.jpeg: 640x384 103 albopictuss, 195 culexs, 1 culiseta, 1 japonicus/koreicus, 12.0ms\n",
      "image 376/525 /home/bersi/Documents/Academic_Stuff/MCV-DataContest/notebooks/../data/images/test/b49e20bf-897b-4f0a-bc62-a6f910cf2bb0.jpeg: 640x480 116 albopictuss, 182 culexs, 1 culiseta, 1 japonicus/koreicus, 14.6ms\n",
      "image 377/525 /home/bersi/Documents/Academic_Stuff/MCV-DataContest/notebooks/../data/images/test/b4e8060b-265f-41ca-a488-681494494a81.jpeg: 640x480 109 albopictuss, 191 culexs, 14.0ms\n",
      "image 378/525 /home/bersi/Documents/Academic_Stuff/MCV-DataContest/notebooks/../data/images/test/b5164505-a7fb-43c8-bc80-b60c53fa2f1d.jpeg: 576x640 110 albopictuss, 189 culexs, 1 culiseta, 16.7ms\n",
      "image 379/525 /home/bersi/Documents/Academic_Stuff/MCV-DataContest/notebooks/../data/images/test/b5bf4381-495a-4631-855d-ea0d0032d2c9.jpeg: 640x480 161 albopictuss, 139 culexs, 15.5ms\n",
      "image 380/525 /home/bersi/Documents/Academic_Stuff/MCV-DataContest/notebooks/../data/images/test/b719ddba-3666-4dfd-848b-afe465d4dd5c.jpeg: 640x480 63 albopictuss, 236 culexs, 1 culiseta, 14.1ms\n",
      "image 381/525 /home/bersi/Documents/Academic_Stuff/MCV-DataContest/notebooks/../data/images/test/b7392bd7-20c9-4f6f-8cd4-21af0215d138.jpeg: 640x480 55 albopictuss, 244 culexs, 1 culiseta, 13.9ms\n",
      "image 382/525 /home/bersi/Documents/Academic_Stuff/MCV-DataContest/notebooks/../data/images/test/b8749af1-2c85-46e3-a8b1-f5a97775e2b9.jpeg: 640x480 85 albopictuss, 214 culexs, 1 japonicus/koreicus, 14.0ms\n",
      "image 383/525 /home/bersi/Documents/Academic_Stuff/MCV-DataContest/notebooks/../data/images/test/b8f8fc4e-2ab6-4bb4-b60e-55cc2eab5bfb.jpeg: 640x480 71 albopictuss, 229 culexs, 14.1ms\n",
      "image 384/525 /home/bersi/Documents/Academic_Stuff/MCV-DataContest/notebooks/../data/images/test/b9e42504-5d54-48ff-b2c1-18e43c0666cb.jpeg: 640x320 84 albopictuss, 215 culexs, 1 culiseta, 11.4ms\n",
      "image 385/525 /home/bersi/Documents/Academic_Stuff/MCV-DataContest/notebooks/../data/images/test/ba22d436-37a8-41e3-ab52-9fd89afae6f5.jpeg: 640x480 71 albopictuss, 228 culexs, 1 japonicus/koreicus, 14.7ms\n",
      "image 386/525 /home/bersi/Documents/Academic_Stuff/MCV-DataContest/notebooks/../data/images/test/bb0986d9-fa04-40a5-8de2-c54045537e17.jpeg: 320x640 77 albopictuss, 220 culexs, 2 culisetas, 1 japonicus/koreicus, 11.6ms\n",
      "image 387/525 /home/bersi/Documents/Academic_Stuff/MCV-DataContest/notebooks/../data/images/test/bbf16117-ce35-432c-a46d-c14e2aaebd54.jpeg: 640x480 114 albopictuss, 185 culexs, 1 culiseta, 14.6ms\n",
      "image 388/525 /home/bersi/Documents/Academic_Stuff/MCV-DataContest/notebooks/../data/images/test/bc8de947-ad28-4f6c-98a3-c2c2e302df8c.jpeg: 640x480 106 albopictuss, 194 culexs, 14.0ms\n",
      "image 389/525 /home/bersi/Documents/Academic_Stuff/MCV-DataContest/notebooks/../data/images/test/bcae8031-582a-48f4-9b2d-e64ceb01f8f8.jpeg: 640x480 92 albopictuss, 208 culexs, 13.9ms\n",
      "image 390/525 /home/bersi/Documents/Academic_Stuff/MCV-DataContest/notebooks/../data/images/test/bd403602-7ced-47f7-b580-90cb8658e043.jpeg: 640x384 105 albopictuss, 193 culexs, 1 culiseta, 1 japonicus/koreicus, 11.8ms\n",
      "image 391/525 /home/bersi/Documents/Academic_Stuff/MCV-DataContest/notebooks/../data/images/test/bd5fd521-9468-4bc4-8de0-f5b56ca61c56.jpeg: 640x640 137 albopictuss, 160 culexs, 2 culisetas, 1 japonicus/koreicus, 18.8ms\n",
      "image 392/525 /home/bersi/Documents/Academic_Stuff/MCV-DataContest/notebooks/../data/images/test/bd6b16ae-1422-455f-8017-1fd41bda97bd.jpeg: 640x480 138 albopictuss, 160 culexs, 1 culiseta, 1 japonicus/koreicus, 15.4ms\n",
      "image 393/525 /home/bersi/Documents/Academic_Stuff/MCV-DataContest/notebooks/../data/images/test/bd78fc99-e160-47a9-8dec-10d1b7e1a6d6.jpeg: 640x480 121 albopictuss, 179 culexs, 13.9ms\n",
      "image 394/525 /home/bersi/Documents/Academic_Stuff/MCV-DataContest/notebooks/../data/images/test/bd91db7b-04f5-4b9d-bd75-ce527c5f287e.jpeg: 640x480 96 albopictuss, 203 culexs, 1 japonicus/koreicus, 14.1ms\n",
      "image 395/525 /home/bersi/Documents/Academic_Stuff/MCV-DataContest/notebooks/../data/images/test/be364f29-22cd-4424-9cf3-98eab266245a.jpeg: 640x480 44 albopictuss, 256 culexs, 13.0ms\n",
      "image 396/525 /home/bersi/Documents/Academic_Stuff/MCV-DataContest/notebooks/../data/images/test/beb40459-7e8c-45cc-91a4-b0946728902f.jpeg: 640x480 173 albopictuss, 127 culexs, 13.9ms\n",
      "image 397/525 /home/bersi/Documents/Academic_Stuff/MCV-DataContest/notebooks/../data/images/test/bedca634-f975-4989-8cde-b10adbff48a5.jpeg: 640x480 144 albopictuss, 156 culexs, 13.8ms\n",
      "image 398/525 /home/bersi/Documents/Academic_Stuff/MCV-DataContest/notebooks/../data/images/test/c08c4e26-f1f3-421d-b164-4c0a8fc95bd0.jpeg: 640x480 221 albopictuss, 78 culexs, 1 japonicus/koreicus, 13.1ms\n",
      "image 399/525 /home/bersi/Documents/Academic_Stuff/MCV-DataContest/notebooks/../data/images/test/c1225ecd-bcce-4534-9a60-0b7492d5ac6a.jpeg: 640x480 115 albopictuss, 184 culexs, 1 culiseta, 12.9ms\n",
      "image 400/525 /home/bersi/Documents/Academic_Stuff/MCV-DataContest/notebooks/../data/images/test/c1db492f-ff9b-4f50-b18e-d89d0b9fbad2.jpeg: 640x320 61 albopictuss, 238 culexs, 1 japonicus/koreicus, 11.5ms\n",
      "image 401/525 /home/bersi/Documents/Academic_Stuff/MCV-DataContest/notebooks/../data/images/test/c1e19357-d49a-4ad4-a706-094d905eca4d.jpeg: 640x480 92 albopictuss, 208 culexs, 13.7ms\n",
      "image 402/525 /home/bersi/Documents/Academic_Stuff/MCV-DataContest/notebooks/../data/images/test/c21d3614-5046-4233-a04b-adcf1ba558f3.jpeg: 640x512 113 albopictuss, 185 culexs, 2 japonicus/koreicuss, 13.2ms\n",
      "image 403/525 /home/bersi/Documents/Academic_Stuff/MCV-DataContest/notebooks/../data/images/test/c22585ce-da16-417d-8687-6161ddeef034.jpeg: 640x640 94 albopictuss, 206 culexs, 17.5ms\n",
      "image 404/525 /home/bersi/Documents/Academic_Stuff/MCV-DataContest/notebooks/../data/images/test/c258f385-f551-48fb-bcd7-5691b699e33d.jpeg: 640x320 110 albopictuss, 190 culexs, 10.4ms\n",
      "image 405/525 /home/bersi/Documents/Academic_Stuff/MCV-DataContest/notebooks/../data/images/test/c25b0aac-bfaa-4138-8afb-ca824f8fcfb6.jpeg: 640x480 35 albopictuss, 265 culexs, 13.4ms\n",
      "image 406/525 /home/bersi/Documents/Academic_Stuff/MCV-DataContest/notebooks/../data/images/test/c2e4b9be-0252-46c1-a077-ee2231f9fad3.jpeg: 640x480 143 albopictuss, 153 culexs, 3 culisetas, 1 japonicus/koreicus, 12.8ms\n",
      "image 407/525 /home/bersi/Documents/Academic_Stuff/MCV-DataContest/notebooks/../data/images/test/c2eb5470-5965-4700-84a1-41f5ed0db39d.jpeg: 480x640 58 albopictuss, 237 culexs, 5 culisetas, 13.6ms\n",
      "image 408/525 /home/bersi/Documents/Academic_Stuff/MCV-DataContest/notebooks/../data/images/test/c36d530a-4e03-4819-8e5a-f5043c14e947.jpeg: 640x480 55 albopictuss, 245 culexs, 13.7ms\n",
      "image 409/525 /home/bersi/Documents/Academic_Stuff/MCV-DataContest/notebooks/../data/images/test/c4b01f99-7ba3-4415-b311-b41d503cc51c.jpeg: 480x640 145 albopictuss, 150 culexs, 5 culisetas, 16.0ms\n",
      "image 410/525 /home/bersi/Documents/Academic_Stuff/MCV-DataContest/notebooks/../data/images/test/c5d6c7c8-84fe-4e6b-b25a-ba9e13f56e6d.jpeg: 480x640 52 albopictuss, 248 culexs, 13.2ms\n",
      "image 411/525 /home/bersi/Documents/Academic_Stuff/MCV-DataContest/notebooks/../data/images/test/c5faae5c-cec0-4f68-80bd-4c68f675570a.jpeg: 480x640 77 albopictuss, 220 culexs, 2 culisetas, 1 japonicus/koreicus, 13.0ms\n",
      "image 412/525 /home/bersi/Documents/Academic_Stuff/MCV-DataContest/notebooks/../data/images/test/c611eaf5-1475-44a4-8667-69a645387631.jpeg: 480x640 109 albopictuss, 190 culexs, 1 japonicus/koreicus, 13.2ms\n",
      "image 413/525 /home/bersi/Documents/Academic_Stuff/MCV-DataContest/notebooks/../data/images/test/c6ae5215-a55b-49ae-b920-f1adc794f21f.jpeg: 480x640 124 albopictuss, 175 culexs, 1 japonicus/koreicus, 13.3ms\n",
      "image 414/525 /home/bersi/Documents/Academic_Stuff/MCV-DataContest/notebooks/../data/images/test/c6ca72a3-c829-411d-aec8-2d93f9b784d5.jpeg: 640x480 105 albopictuss, 194 culexs, 1 culiseta, 13.5ms\n",
      "image 415/525 /home/bersi/Documents/Academic_Stuff/MCV-DataContest/notebooks/../data/images/test/c84caf37-ed09-40e2-bf85-6c5f3c3b6668.jpeg: 640x480 128 albopictuss, 168 culexs, 4 japonicus/koreicuss, 12.9ms\n",
      "image 416/525 /home/bersi/Documents/Academic_Stuff/MCV-DataContest/notebooks/../data/images/test/c8a84ab5-6414-4519-bc1c-d871e3f94d82.jpeg: 640x320 55 albopictuss, 243 culexs, 1 culiseta, 1 japonicus/koreicus, 10.4ms\n",
      "image 417/525 /home/bersi/Documents/Academic_Stuff/MCV-DataContest/notebooks/../data/images/test/c8ac23aa-048f-448e-9e77-e0525fd386bc.jpeg: 640x384 60 albopictuss, 236 culexs, 4 culisetas, 12.7ms\n",
      "image 418/525 /home/bersi/Documents/Academic_Stuff/MCV-DataContest/notebooks/../data/images/test/c93e13f2-780b-4238-9d03-f3138d615cbc.jpeg: 640x480 135 albopictuss, 164 culexs, 1 culiseta, 13.7ms\n",
      "image 419/525 /home/bersi/Documents/Academic_Stuff/MCV-DataContest/notebooks/../data/images/test/c997c05b-4e95-4b31-b0a1-3bcfa0606a07.jpeg: 640x320 83 albopictuss, 212 culexs, 1 culiseta, 4 japonicus/koreicuss, 10.4ms\n",
      "image 420/525 /home/bersi/Documents/Academic_Stuff/MCV-DataContest/notebooks/../data/images/test/c9cf816e-0761-469c-aecc-ad6a5b7e3550.jpeg: 640x480 72 albopictuss, 227 culexs, 1 culiseta, 13.8ms\n",
      "image 421/525 /home/bersi/Documents/Academic_Stuff/MCV-DataContest/notebooks/../data/images/test/c9d5e929-70b1-4546-925a-b765e3567328.jpeg: 480x640 109 albopictuss, 188 culexs, 3 culisetas, 13.7ms\n",
      "image 422/525 /home/bersi/Documents/Academic_Stuff/MCV-DataContest/notebooks/../data/images/test/c9e0f892-48a5-4438-9b83-f3b4d537b4eb.jpeg: 640x480 70 albopictuss, 230 culexs, 13.5ms\n",
      "image 423/525 /home/bersi/Documents/Academic_Stuff/MCV-DataContest/notebooks/../data/images/test/ca1468e3-1337-48b3-b378-135758317454.jpeg: 320x640 115 albopictuss, 185 culexs, 11.2ms\n",
      "image 424/525 /home/bersi/Documents/Academic_Stuff/MCV-DataContest/notebooks/../data/images/test/ca988521-2f2b-4298-9613-f83ad69a0c92.jpeg: 640x320 127 albopictuss, 173 culexs, 11.2ms\n",
      "image 425/525 /home/bersi/Documents/Academic_Stuff/MCV-DataContest/notebooks/../data/images/test/cb137729-abc2-4bc0-9af0-54738dbdeae1.jpeg: 640x480 150 albopictuss, 149 culexs, 1 japonicus/koreicus, 15.1ms\n",
      "image 426/525 /home/bersi/Documents/Academic_Stuff/MCV-DataContest/notebooks/../data/images/test/cb26c59c-5834-4265-b111-73ce172e459f.jpeg: 640x480 82 albopictuss, 217 culexs, 1 culiseta, 13.9ms\n",
      "image 427/525 /home/bersi/Documents/Academic_Stuff/MCV-DataContest/notebooks/../data/images/test/cb8843a3-9de8-4b22-a6e0-2c85f1b59285.jpeg: 576x640 91 albopictuss, 209 culexs, 16.6ms\n",
      "image 428/525 /home/bersi/Documents/Academic_Stuff/MCV-DataContest/notebooks/../data/images/test/cc534b4e-0cb9-40fa-9aa1-795e2ea77e01.jpeg: 640x480 58 albopictuss, 241 culexs, 1 culiseta, 14.5ms\n",
      "image 429/525 /home/bersi/Documents/Academic_Stuff/MCV-DataContest/notebooks/../data/images/test/cc878b64-bdb3-4b0d-9710-45f748660baf.jpeg: 640x384 116 albopictuss, 183 culexs, 1 japonicus/koreicus, 11.2ms\n",
      "image 430/525 /home/bersi/Documents/Academic_Stuff/MCV-DataContest/notebooks/../data/images/test/ccc800cb-835c-4d39-9dd6-535630d0bfd0.jpeg: 640x448 44 albopictuss, 256 culexs, 14.2ms\n",
      "image 431/525 /home/bersi/Documents/Academic_Stuff/MCV-DataContest/notebooks/../data/images/test/ccd1ca77-5165-499a-956d-d5555550ddc4.jpeg: 640x288 103 albopictuss, 197 culexs, 10.7ms\n",
      "image 432/525 /home/bersi/Documents/Academic_Stuff/MCV-DataContest/notebooks/../data/images/test/cd63762c-0a6f-4225-8c52-75b420388095.jpeg: 640x480 106 albopictuss, 194 culexs, 14.6ms\n",
      "image 433/525 /home/bersi/Documents/Academic_Stuff/MCV-DataContest/notebooks/../data/images/test/cda1baca-3759-43bf-9b63-4992209d94ff.jpeg: 640x480 120 albopictuss, 179 culexs, 1 culiseta, 13.7ms\n",
      "image 434/525 /home/bersi/Documents/Academic_Stuff/MCV-DataContest/notebooks/../data/images/test/cda426f3-4616-40fb-96ea-4f40cd5707d9.jpeg: 640x480 163 albopictuss, 137 culexs, 13.6ms\n",
      "image 435/525 /home/bersi/Documents/Academic_Stuff/MCV-DataContest/notebooks/../data/images/test/cdbe94f1-a76b-413b-bf19-157feada99ef.jpeg: 640x480 141 albopictuss, 158 culexs, 1 japonicus/koreicus, 13.7ms\n",
      "image 436/525 /home/bersi/Documents/Academic_Stuff/MCV-DataContest/notebooks/../data/images/test/ce6f285b-0b1f-4986-a006-4b7930a57107.jpeg: 640x480 67 albopictuss, 232 culexs, 1 culiseta, 13.6ms\n",
      "image 437/525 /home/bersi/Documents/Academic_Stuff/MCV-DataContest/notebooks/../data/images/test/ceaeb26a-79f7-49ed-8d5b-850133dec2d5.jpeg: 640x480 84 albopictuss, 216 culexs, 13.5ms\n",
      "image 438/525 /home/bersi/Documents/Academic_Stuff/MCV-DataContest/notebooks/../data/images/test/cf8727ca-2df6-4850-b41d-23d7b8ab81a8.jpeg: 640x320 108 albopictuss, 191 culexs, 1 japonicus/koreicus, 11.0ms\n",
      "image 439/525 /home/bersi/Documents/Academic_Stuff/MCV-DataContest/notebooks/../data/images/test/cf8f8316-7129-4c85-b5b5-2fc62406a42a.jpeg: 640x480 89 albopictuss, 211 culexs, 14.7ms\n",
      "image 440/525 /home/bersi/Documents/Academic_Stuff/MCV-DataContest/notebooks/../data/images/test/d19595cc-d15a-40c3-b576-120487498911.jpeg: 480x640 81 albopictuss, 218 culexs, 1 culiseta, 14.8ms\n",
      "image 441/525 /home/bersi/Documents/Academic_Stuff/MCV-DataContest/notebooks/../data/images/test/d2a7a904-6270-40d8-b203-7da9352f5465.jpeg: 640x320 115 albopictuss, 2 anopheless, 178 culexs, 4 culisetas, 1 japonicus/koreicus, 11.0ms\n",
      "image 442/525 /home/bersi/Documents/Academic_Stuff/MCV-DataContest/notebooks/../data/images/test/d2cfa22b-b242-4cbd-88e9-0de947cc2899.jpeg: 640x480 108 albopictuss, 192 culexs, 14.8ms\n",
      "image 443/525 /home/bersi/Documents/Academic_Stuff/MCV-DataContest/notebooks/../data/images/test/d4d6b9ff-1d8e-4f8d-bccb-104af272a62e.jpeg: 640x480 60 albopictuss, 240 culexs, 13.8ms\n",
      "image 444/525 /home/bersi/Documents/Academic_Stuff/MCV-DataContest/notebooks/../data/images/test/d559d807-5b86-4a11-9957-e48315f9f5ae.jpeg: 640x384 69 albopictuss, 231 culexs, 11.4ms\n",
      "image 445/525 /home/bersi/Documents/Academic_Stuff/MCV-DataContest/notebooks/../data/images/test/d5918c3c-dcd7-4f5b-a3d0-427d943b3d19.jpeg: 640x480 125 albopictuss, 174 culexs, 1 japonicus/koreicus, 14.4ms\n",
      "image 446/525 /home/bersi/Documents/Academic_Stuff/MCV-DataContest/notebooks/../data/images/test/d6a596ab-07a1-4284-88d5-7cc3a08232a1.jpeg: 640x480 106 albopictuss, 193 culexs, 1 culiseta, 13.7ms\n",
      "image 447/525 /home/bersi/Documents/Academic_Stuff/MCV-DataContest/notebooks/../data/images/test/d6a66463-38b6-4756-8ea9-dc254ea93c55.jpeg: 480x640 104 albopictuss, 196 culexs, 14.5ms\n",
      "image 448/525 /home/bersi/Documents/Academic_Stuff/MCV-DataContest/notebooks/../data/images/test/d6cd68e8-d6af-4c30-8f17-f41c55f65972.jpeg: 640x480 45 albopictuss, 255 culexs, 14.6ms\n",
      "image 449/525 /home/bersi/Documents/Academic_Stuff/MCV-DataContest/notebooks/../data/images/test/d74c2888-2727-4dea-b90e-10e2b6d64a37.jpeg: 640x576 88 albopictuss, 209 culexs, 1 culiseta, 2 japonicus/koreicuss, 16.4ms\n",
      "image 450/525 /home/bersi/Documents/Academic_Stuff/MCV-DataContest/notebooks/../data/images/test/d79ff754-c00b-433d-9108-571d72832d8d.jpeg: 640x480 34 albopictuss, 266 culexs, 14.3ms\n",
      "image 451/525 /home/bersi/Documents/Academic_Stuff/MCV-DataContest/notebooks/../data/images/test/d7f2b0cd-85a3-44cd-99bb-cbe457de96cd.jpeg: 640x480 176 albopictuss, 124 culexs, 13.9ms\n",
      "image 452/525 /home/bersi/Documents/Academic_Stuff/MCV-DataContest/notebooks/../data/images/test/d860ea0a-480e-4ad8-848a-270e8ca17d82.jpeg: 640x480 106 albopictuss, 1 anopheles, 192 culexs, 1 culiseta, 13.7ms\n",
      "image 453/525 /home/bersi/Documents/Academic_Stuff/MCV-DataContest/notebooks/../data/images/test/d9221f5c-8da1-4fdb-b986-bbbc1f9feb31.jpeg: 448x640 76 albopictuss, 224 culexs, 14.2ms\n",
      "image 454/525 /home/bersi/Documents/Academic_Stuff/MCV-DataContest/notebooks/../data/images/test/d93d5ba8-10c1-4f20-b48d-032ea5f55862.jpeg: 480x640 129 albopictuss, 165 culexs, 4 culisetas, 2 japonicus/koreicuss, 15.4ms\n",
      "image 455/525 /home/bersi/Documents/Academic_Stuff/MCV-DataContest/notebooks/../data/images/test/d9597d33-cb2d-49fe-a6ac-3fb5f83af544.jpeg: 640x320 94 albopictuss, 1 anopheles, 202 culexs, 3 culisetas, 11.3ms\n",
      "image 456/525 /home/bersi/Documents/Academic_Stuff/MCV-DataContest/notebooks/../data/images/test/da0226ce-ef8f-4217-bd5d-38955a232eab.jpeg: 640x480 101 albopictuss, 1 anopheles, 193 culexs, 5 culisetas, 15.0ms\n",
      "image 457/525 /home/bersi/Documents/Academic_Stuff/MCV-DataContest/notebooks/../data/images/test/da1f7c2d-214e-4908-86e3-64d7ea842110.jpeg: 640x480 153 albopictuss, 147 culexs, 13.7ms\n",
      "image 458/525 /home/bersi/Documents/Academic_Stuff/MCV-DataContest/notebooks/../data/images/test/da9dbb82-38f7-4f85-bb9e-633c16801a5d.jpeg: 640x480 101 albopictuss, 195 culexs, 3 culisetas, 1 japonicus/koreicus, 13.7ms\n",
      "image 459/525 /home/bersi/Documents/Academic_Stuff/MCV-DataContest/notebooks/../data/images/test/db4ade79-fce4-4d77-a8fa-36b9e77dfd08.jpeg: 640x480 173 albopictuss, 122 culexs, 4 culisetas, 1 japonicus/koreicus, 13.6ms\n",
      "image 460/525 /home/bersi/Documents/Academic_Stuff/MCV-DataContest/notebooks/../data/images/test/db5d29ce-5a9c-4b3d-a369-041026c7fc01.jpeg: 640x384 58 albopictuss, 239 culexs, 2 culisetas, 1 japonicus/koreicus, 11.3ms\n",
      "image 461/525 /home/bersi/Documents/Academic_Stuff/MCV-DataContest/notebooks/../data/images/test/dbc50da2-dfd6-43eb-ae32-75f909080c5e.jpeg: 480x640 149 albopictuss, 151 culexs, 15.0ms\n",
      "image 462/525 /home/bersi/Documents/Academic_Stuff/MCV-DataContest/notebooks/../data/images/test/dced8639-b6bd-4c9d-8713-f6c3541aa908.jpeg: 640x640 66 albopictuss, 233 culexs, 1 culiseta, 18.3ms\n",
      "image 463/525 /home/bersi/Documents/Academic_Stuff/MCV-DataContest/notebooks/../data/images/test/dd94d87e-d167-403a-b2bc-164e54e220f5.jpeg: 640x384 190 albopictuss, 2 anopheless, 107 culexs, 1 japonicus/koreicus, 11.3ms\n",
      "image 464/525 /home/bersi/Documents/Academic_Stuff/MCV-DataContest/notebooks/../data/images/test/ddae84a6-5e21-4aa8-9246-4a269daedaeb.jpeg: 640x480 69 albopictuss, 231 culexs, 14.7ms\n",
      "image 465/525 /home/bersi/Documents/Academic_Stuff/MCV-DataContest/notebooks/../data/images/test/ddff4816-55b0-472f-9074-5815b3d9ee64.jpeg: 384x640 87 albopictuss, 213 culexs, 12.7ms\n",
      "image 466/525 /home/bersi/Documents/Academic_Stuff/MCV-DataContest/notebooks/../data/images/test/df0b7b23-4b1d-479a-9387-6980d007e563.jpeg: 640x288 94 albopictuss, 204 culexs, 2 japonicus/koreicuss, 17.8ms\n",
      "image 467/525 /home/bersi/Documents/Academic_Stuff/MCV-DataContest/notebooks/../data/images/test/e159fe8a-2810-4b83-89e6-71504446199b.jpeg: 640x640 93 albopictuss, 207 culexs, 26.4ms\n",
      "image 468/525 /home/bersi/Documents/Academic_Stuff/MCV-DataContest/notebooks/../data/images/test/e2364abc-4bb8-4d30-baa2-05abb4884566.jpeg: 384x640 116 albopictuss, 183 culexs, 1 culiseta, 12.6ms\n",
      "image 469/525 /home/bersi/Documents/Academic_Stuff/MCV-DataContest/notebooks/../data/images/test/e28a655c-73f5-45cf-8677-97ad2406afce.jpeg: 640x384 98 albopictuss, 200 culexs, 1 culiseta, 1 japonicus/koreicus, 10.6ms\n",
      "image 470/525 /home/bersi/Documents/Academic_Stuff/MCV-DataContest/notebooks/../data/images/test/e3718f98-7952-42d2-a6b7-230d1ccb631b.jpeg: 640x480 84 albopictuss, 1 anopheles, 213 culexs, 2 culisetas, 14.0ms\n",
      "image 471/525 /home/bersi/Documents/Academic_Stuff/MCV-DataContest/notebooks/../data/images/test/e406df2a-06dc-4bd3-9ed2-a708299291b3.jpeg: 640x640 86 albopictuss, 214 culexs, 16.9ms\n",
      "image 472/525 /home/bersi/Documents/Academic_Stuff/MCV-DataContest/notebooks/../data/images/test/e4b45fc6-2c07-48b5-a2e2-89a7269a5215.jpeg: 480x640 63 albopictuss, 237 culexs, 13.6ms\n",
      "image 473/525 /home/bersi/Documents/Academic_Stuff/MCV-DataContest/notebooks/../data/images/test/e6831853-9088-486d-b8f2-8a907a547013.jpeg: 640x416 80 albopictuss, 1 anopheles, 214 culexs, 2 culisetas, 3 japonicus/koreicuss, 12.8ms\n",
      "image 474/525 /home/bersi/Documents/Academic_Stuff/MCV-DataContest/notebooks/../data/images/test/e69706ed-b7cf-4565-a65e-1b71f095b0fe.jpeg: 640x480 161 albopictuss, 138 culexs, 1 japonicus/koreicus, 14.1ms\n",
      "image 475/525 /home/bersi/Documents/Academic_Stuff/MCV-DataContest/notebooks/../data/images/test/e7b85d97-bbfd-41ba-8b1c-553bf8106a6b.jpeg: 640x480 116 albopictuss, 184 culexs, 12.8ms\n",
      "image 476/525 /home/bersi/Documents/Academic_Stuff/MCV-DataContest/notebooks/../data/images/test/e81386cc-12e0-4839-a0e1-ee05c15463b2.jpeg: 640x480 129 albopictuss, 170 culexs, 1 culiseta, 12.8ms\n",
      "image 477/525 /home/bersi/Documents/Academic_Stuff/MCV-DataContest/notebooks/../data/images/test/e8e8fe82-6df2-4cf9-be57-1dfa9d5689a1.jpeg: 640x480 70 albopictuss, 230 culexs, 12.9ms\n",
      "image 478/525 /home/bersi/Documents/Academic_Stuff/MCV-DataContest/notebooks/../data/images/test/e9421260-554b-4b80-9a55-43e23be1ac31.jpeg: 640x480 132 albopictuss, 167 culexs, 1 culiseta, 13.0ms\n",
      "image 479/525 /home/bersi/Documents/Academic_Stuff/MCV-DataContest/notebooks/../data/images/test/e95104ae-58d5-4b7d-a8b1-309fb0635719.jpeg: 640x288 180 albopictuss, 119 culexs, 1 culiseta, 9.8ms\n",
      "image 480/525 /home/bersi/Documents/Academic_Stuff/MCV-DataContest/notebooks/../data/images/test/e99de36d-acec-48de-87e1-3eadb744f36c.jpeg: 640x480 108 albopictuss, 192 culexs, 13.6ms\n",
      "image 481/525 /home/bersi/Documents/Academic_Stuff/MCV-DataContest/notebooks/../data/images/test/eb77511d-c039-4eb5-8f66-e85c2e397bf0.jpeg: 640x480 51 albopictuss, 249 culexs, 12.9ms\n",
      "image 482/525 /home/bersi/Documents/Academic_Stuff/MCV-DataContest/notebooks/../data/images/test/ec26e4aa-96b4-4bf8-ab1b-e9bfe8d5b497.jpeg: 640x480 69 albopictuss, 229 culexs, 2 culisetas, 12.7ms\n",
      "image 483/525 /home/bersi/Documents/Academic_Stuff/MCV-DataContest/notebooks/../data/images/test/ec3c8d12-411e-44ab-98f6-0ea213941bfa.jpeg: 384x640 51 albopictuss, 248 culexs, 1 culiseta, 12.0ms\n",
      "image 484/525 /home/bersi/Documents/Academic_Stuff/MCV-DataContest/notebooks/../data/images/test/ec7264d5-9a18-4b1c-a349-be38f37cd666.jpeg: 640x480 119 albopictuss, 180 culexs, 1 japonicus/koreicus, 14.0ms\n",
      "image 485/525 /home/bersi/Documents/Academic_Stuff/MCV-DataContest/notebooks/../data/images/test/ed1bdf6c-31ac-4e75-be11-8ff41bae2423.jpeg: 640x480 81 albopictuss, 218 culexs, 1 culiseta, 12.8ms\n",
      "image 486/525 /home/bersi/Documents/Academic_Stuff/MCV-DataContest/notebooks/../data/images/test/ed3124f1-4be2-48a6-963d-0e4dfa2bdca1.jpeg: 640x384 64 albopictuss, 235 culexs, 1 culiseta, 10.3ms\n",
      "image 487/525 /home/bersi/Documents/Academic_Stuff/MCV-DataContest/notebooks/../data/images/test/edc597d1-8b44-4fe5-9e07-4f8f59f38a0c.jpeg: 640x480 117 albopictuss, 183 culexs, 13.9ms\n",
      "image 488/525 /home/bersi/Documents/Academic_Stuff/MCV-DataContest/notebooks/../data/images/test/ef46203e-e10f-4f5d-beef-a71befc33b98.jpeg: 640x480 106 albopictuss, 193 culexs, 1 japonicus/koreicus, 12.8ms\n",
      "image 489/525 /home/bersi/Documents/Academic_Stuff/MCV-DataContest/notebooks/../data/images/test/ef897688-6897-4291-9b41-3c684a3d67ef.jpeg: 640x480 99 albopictuss, 194 culexs, 7 culisetas, 12.8ms\n",
      "image 490/525 /home/bersi/Documents/Academic_Stuff/MCV-DataContest/notebooks/../data/images/test/f0142330-928e-4fa7-9709-001330db1a54.jpeg: 640x320 81 albopictuss, 218 culexs, 1 culiseta, 10.2ms\n",
      "image 491/525 /home/bersi/Documents/Academic_Stuff/MCV-DataContest/notebooks/../data/images/test/f0cca9d1-06cc-43d5-b5c3-0597b269be14.jpeg: 640x640 102 albopictuss, 197 culexs, 1 japonicus/koreicus, 17.2ms\n",
      "image 492/525 /home/bersi/Documents/Academic_Stuff/MCV-DataContest/notebooks/../data/images/test/f0e35423-551b-4e6f-af5f-da2c4a693ffb.jpeg: 640x480 104 albopictuss, 196 culexs, 13.5ms\n",
      "image 493/525 /home/bersi/Documents/Academic_Stuff/MCV-DataContest/notebooks/../data/images/test/f16aa44b-5be5-4f2d-b4cc-263ad20cb0b9.jpeg: 640x480 95 albopictuss, 205 culexs, 12.7ms\n",
      "image 494/525 /home/bersi/Documents/Academic_Stuff/MCV-DataContest/notebooks/../data/images/test/f19f20b8-a542-4555-bd5e-b2de8f0fd2dd.jpeg: 640x640 152 albopictuss, 146 culexs, 2 japonicus/koreicuss, 17.3ms\n",
      "image 495/525 /home/bersi/Documents/Academic_Stuff/MCV-DataContest/notebooks/../data/images/test/f2fa7c6b-3456-49ea-a5b8-dc2d581155b8.jpeg: 640x480 81 albopictuss, 217 culexs, 1 culiseta, 1 japonicus/koreicus, 13.7ms\n",
      "image 496/525 /home/bersi/Documents/Academic_Stuff/MCV-DataContest/notebooks/../data/images/test/f35161fd-3278-4a3f-9543-8979dfe80323.jpeg: 640x384 62 albopictuss, 234 culexs, 1 culiseta, 3 japonicus/koreicuss, 10.4ms\n",
      "image 497/525 /home/bersi/Documents/Academic_Stuff/MCV-DataContest/notebooks/../data/images/test/f3b6f69d-aa88-497c-a50f-672e2da7ffd2.jpeg: 640x480 91 albopictuss, 208 culexs, 1 japonicus/koreicus, 13.5ms\n",
      "image 498/525 /home/bersi/Documents/Academic_Stuff/MCV-DataContest/notebooks/../data/images/test/f3e044bf-572c-4d25-bb7d-2c43d5f519b9.jpeg: 640x480 60 albopictuss, 240 culexs, 12.7ms\n",
      "image 499/525 /home/bersi/Documents/Academic_Stuff/MCV-DataContest/notebooks/../data/images/test/f471732b-e86a-4b41-b499-33763a42fb2c.jpeg: 640x512 94 albopictuss, 204 culexs, 2 culisetas, 12.7ms\n",
      "image 500/525 /home/bersi/Documents/Academic_Stuff/MCV-DataContest/notebooks/../data/images/test/f5017eca-2636-4a51-b57d-db6f94dacb6f.jpeg: 640x384 57 albopictuss, 243 culexs, 10.4ms\n",
      "image 501/525 /home/bersi/Documents/Academic_Stuff/MCV-DataContest/notebooks/../data/images/test/f5161716-98a8-48e7-9eac-10afc07d9078.jpeg: 480x640 93 albopictuss, 207 culexs, 14.0ms\n",
      "image 502/525 /home/bersi/Documents/Academic_Stuff/MCV-DataContest/notebooks/../data/images/test/f543c192-7ab7-4c63-8cea-7754aa5f3fb4.jpeg: 384x640 67 albopictuss, 232 culexs, 1 japonicus/koreicus, 11.0ms\n",
      "image 503/525 /home/bersi/Documents/Academic_Stuff/MCV-DataContest/notebooks/../data/images/test/f5b8bb3c-9ec5-46f2-872e-ea00ad006899.jpeg: 640x384 152 albopictuss, 146 culexs, 2 japonicus/koreicuss, 10.4ms\n",
      "image 504/525 /home/bersi/Documents/Academic_Stuff/MCV-DataContest/notebooks/../data/images/test/f6324704-0abe-47df-977e-8bbb574b65e5.jpeg: 384x640 97 albopictuss, 201 culexs, 2 culisetas, 13.6ms\n",
      "image 505/525 /home/bersi/Documents/Academic_Stuff/MCV-DataContest/notebooks/../data/images/test/f64aafcb-e423-4125-85c9-f82d41372e30.jpeg: 640x480 173 albopictuss, 127 culexs, 14.2ms\n",
      "image 506/525 /home/bersi/Documents/Academic_Stuff/MCV-DataContest/notebooks/../data/images/test/f6a4a427-9693-4c34-93a8-bc80ba2b2151.jpeg: 480x640 96 albopictuss, 204 culexs, 12.7ms\n",
      "image 507/525 /home/bersi/Documents/Academic_Stuff/MCV-DataContest/notebooks/../data/images/test/f6f492ef-ce94-4402-a4fa-27d089e29168.jpeg: 640x480 54 albopictuss, 246 culexs, 12.5ms\n",
      "image 508/525 /home/bersi/Documents/Academic_Stuff/MCV-DataContest/notebooks/../data/images/test/f7f8f183-59d5-4ab3-b35e-f2b34944dd65.jpeg: 640x480 154 albopictuss, 1 anopheles, 138 culexs, 3 culisetas, 4 japonicus/koreicuss, 11.9ms\n",
      "image 509/525 /home/bersi/Documents/Academic_Stuff/MCV-DataContest/notebooks/../data/images/test/f84c4174-3bfb-42eb-8e52-b5af5c7b561f.jpeg: 640x480 126 albopictuss, 173 culexs, 1 japonicus/koreicus, 11.9ms\n",
      "image 510/525 /home/bersi/Documents/Academic_Stuff/MCV-DataContest/notebooks/../data/images/test/f8651621-f5d3-4caa-9b39-3e4b28ac8e82.jpeg: 640x480 96 albopictuss, 204 culexs, 12.1ms\n",
      "image 511/525 /home/bersi/Documents/Academic_Stuff/MCV-DataContest/notebooks/../data/images/test/f995d508-9856-4c9e-9fc4-c2621514d6d3.jpeg: 640x480 98 albopictuss, 202 culexs, 12.0ms\n",
      "image 512/525 /home/bersi/Documents/Academic_Stuff/MCV-DataContest/notebooks/../data/images/test/f99dd95b-e554-4d3f-a881-1604b2b54ca7.jpeg: 640x480 100 albopictuss, 198 culexs, 2 culisetas, 12.1ms\n",
      "image 513/525 /home/bersi/Documents/Academic_Stuff/MCV-DataContest/notebooks/../data/images/test/f9d49514-a10e-4d40-b45c-f5ac1d8a9511.jpeg: 640x384 137 albopictuss, 162 culexs, 1 japonicus/koreicus, 9.8ms\n",
      "image 514/525 /home/bersi/Documents/Academic_Stuff/MCV-DataContest/notebooks/../data/images/test/fa1f7f19-3f8a-4171-9540-a0d8e4f678ac.jpeg: 640x480 74 albopictuss, 226 culexs, 12.6ms\n",
      "image 515/525 /home/bersi/Documents/Academic_Stuff/MCV-DataContest/notebooks/../data/images/test/fa7cf812-7521-4cae-987b-510cb002ffaf.jpeg: 640x480 153 albopictuss, 146 culexs, 1 japonicus/koreicus, 12.0ms\n",
      "image 516/525 /home/bersi/Documents/Academic_Stuff/MCV-DataContest/notebooks/../data/images/test/fad772e4-e81f-4733-b59f-e932ff6183da.jpeg: 640x608 91 albopictuss, 1 anopheles, 205 culexs, 1 culiseta, 2 japonicus/koreicuss, 14.7ms\n",
      "image 517/525 /home/bersi/Documents/Academic_Stuff/MCV-DataContest/notebooks/../data/images/test/fae311fd-a029-4bc5-ada9-e240a2a2bc8d.jpeg: 640x480 59 albopictuss, 241 culexs, 13.0ms\n",
      "image 518/525 /home/bersi/Documents/Academic_Stuff/MCV-DataContest/notebooks/../data/images/test/fbe9717c-3d69-4529-94ee-f1f4ff48e4b5.jpeg: 640x416 100 albopictuss, 199 culexs, 1 culiseta, 11.9ms\n",
      "image 519/525 /home/bersi/Documents/Academic_Stuff/MCV-DataContest/notebooks/../data/images/test/fc08fd27-0b82-4c62-b7b8-6527db33c381.jpeg: 640x480 102 albopictuss, 1 anopheles, 195 culexs, 2 culisetas, 13.0ms\n",
      "image 520/525 /home/bersi/Documents/Academic_Stuff/MCV-DataContest/notebooks/../data/images/test/fcccf734-a11d-4383-b394-2f23002ae962.jpeg: 640x608 183 albopictuss, 116 culexs, 1 japonicus/koreicus, 14.6ms\n",
      "image 521/525 /home/bersi/Documents/Academic_Stuff/MCV-DataContest/notebooks/../data/images/test/fcfec73a-49ca-435c-aa3a-bfaa36446e19.jpeg: 480x640 135 albopictuss, 164 culexs, 1 culiseta, 12.6ms\n",
      "image 522/525 /home/bersi/Documents/Academic_Stuff/MCV-DataContest/notebooks/../data/images/test/fd449c6f-fa26-4797-90b4-f65d4eb5b9d3.jpeg: 480x640 59 albopictuss, 240 culexs, 1 japonicus/koreicus, 12.2ms\n",
      "image 523/525 /home/bersi/Documents/Academic_Stuff/MCV-DataContest/notebooks/../data/images/test/feab7021-ab56-4433-824f-bf2436bdd34f.jpeg: 640x480 100 albopictuss, 199 culexs, 1 culiseta, 14.4ms\n",
      "image 524/525 /home/bersi/Documents/Academic_Stuff/MCV-DataContest/notebooks/../data/images/test/ff2422f8-5cea-440d-85c9-3fef9ea056ef.jpeg: 640x480 153 albopictuss, 143 culexs, 4 culisetas, 13.9ms\n",
      "image 525/525 /home/bersi/Documents/Academic_Stuff/MCV-DataContest/notebooks/../data/images/test/ffb694d6-aee3-4aff-bde8-74ce94e7c8d2.jpeg: 640x480 61 albopictuss, 237 culexs, 2 culisetas, 14.0ms\n",
      "Speed: 1.6ms preprocess, 15.8ms inference, 3.0ms postprocess per image at shape (1, 3, 640, 480)\n"
     ]
    }
   ],
   "source": [
    "for id, r in enumerate(results):\n",
    "    r = r.cpu()\n",
    "    img_path = r.path\n",
    "    img_name = img_path.split(\"/\")[-1]\n",
    "    boxes = r.boxes.numpy()\n",
    "    label = boxes.cls\n",
    "    conf = boxes.conf\n",
    "    xywh = boxes.xywhn\n",
    "    \n",
    "    new_row = {\"id\": id, \"ImageID\": img_name, \"LabelName\": LABELS[int(label[0])], \"Conf\": conf[0], \"xcenter\": xywh[:, 0][0], \"ycenter\": xywh[:, 1][0], \"bbx_width\": xywh[:, 2][0], \"bbx_height\": xywh[:, 3][0]}\n",
    "    results_test_dataframe = pd.concat([results_test_dataframe, pd.DataFrame([new_row])], ignore_index=True, copy=False)"
   ]
  },
  {
   "cell_type": "code",
   "execution_count": 8,
   "metadata": {},
   "outputs": [],
   "source": [
    "results_test_dataframe.to_csv(\"./submissions/results_test_3.csv\", index=False)"
   ]
  },
  {
   "cell_type": "code",
   "execution_count": null,
   "metadata": {},
   "outputs": [],
   "source": []
  }
 ],
 "metadata": {
  "kernelspec": {
   "display_name": "Python 3",
   "language": "python",
   "name": "python3"
  },
  "language_info": {
   "codemirror_mode": {
    "name": "ipython",
    "version": 3
   },
   "file_extension": ".py",
   "mimetype": "text/x-python",
   "name": "python",
   "nbconvert_exporter": "python",
   "pygments_lexer": "ipython3",
   "version": "3.12.3"
  }
 },
 "nbformat": 4,
 "nbformat_minor": 2
}
