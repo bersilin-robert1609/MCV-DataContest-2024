{
 "cells": [
  {
   "cell_type": "code",
   "execution_count": null,
   "metadata": {},
   "outputs": [],
   "source": [
    "import os\n",
    "import pandas as pd\n",
    "\n",
    "from ultralytics import YOLO"
   ]
  },
  {
   "cell_type": "code",
   "execution_count": null,
   "metadata": {},
   "outputs": [],
   "source": [
    "LABELS = {\n",
    "    0: \"aegypti\",\n",
    "    1: \"albopictus\",\n",
    "    2: \"anopheles\",\n",
    "    3: \"culex\",\n",
    "    4: \"culiseta\",\n",
    "    5: \"japonicus/koreicus\"\n",
    "}\n",
    "\n",
    "# Bounding Box Format: [x_center, y_center, width, height]\n",
    "# Output Format: [id, ImageID, LabelName, Conf, xcenter, ycenter, bbx_width, bbx_height] (Indexed from 0)"
   ]
  },
  {
   "cell_type": "code",
   "execution_count": null,
   "metadata": {},
   "outputs": [],
   "source": [
    "# Loading Model\n",
    "model = YOLO(model='yolov8m.pt', task='detect', verbose=True)\n",
    "\n",
    "# Loading Model in GPU\n",
    "model = model.cuda()\n",
    "\n",
    "arguments = {\n",
    "    \"project\": \"yolo-experiments\",\n",
    "    \"name\": \"yolov8m-1\",\n",
    "    \"data\": \"./data.yaml\",\n",
    "    \"imgsz\": 640,\n",
    "    \"batch\": -1,\n",
    "    \"epochs\": 20,\n",
    "    \"patience\": 3,\n",
    "    \"seed\": 69,\n",
    "}"
   ]
  },
  {
   "cell_type": "code",
   "execution_count": null,
   "metadata": {},
   "outputs": [],
   "source": [
    "# Model Training\n",
    "results = model.train(**arguments)"
   ]
  },
  {
   "cell_type": "code",
   "execution_count": null,
   "metadata": {},
   "outputs": [],
   "source": [
    "import os\n",
    "\n",
    "TRAIN_DIR = \"../data/images/train\"\n",
    "VAL_DIR = \"../data/images/val\"\n",
    "TEST_DIR = \"../data/images/test\"\n",
    "\n",
    "train_images = os.listdir(TRAIN_DIR)\n",
    "val_images = os.listdir(VAL_DIR)\n",
    "test_images = os.listdir(TEST_DIR)"
   ]
  },
  {
   "cell_type": "code",
   "execution_count": null,
   "metadata": {},
   "outputs": [],
   "source": [
    "results_test_dataframe = pd.DataFrame(columns=[\"id\", \"ImageID\", \"LabelName\", \"Conf\", \"xcenter\", \"ycenter\", \"bbx_width\", \"bbx_height\"])\n",
    "\n",
    "results = model(TEST_DIR, stream=True, conf=0)"
   ]
  },
  {
   "cell_type": "code",
   "execution_count": null,
   "metadata": {},
   "outputs": [],
   "source": [
    "for id, r in enumerate(results):\n",
    "    r = r.cpu()\n",
    "    img_path = r.path\n",
    "    img_name = img_path.split(\"/\")[-1]\n",
    "    boxes = r.boxes.numpy()\n",
    "    label = boxes.cls\n",
    "    conf = boxes.conf\n",
    "    xywh = boxes.xywhn\n",
    "    \n",
    "    new_row = {\"id\": id, \"ImageID\": img_name, \"LabelName\": LABELS[int(label[0])], \"Conf\": conf[0], \"xcenter\": xywh[:, 0][0], \"ycenter\": xywh[:, 1][0], \"bbx_width\": xywh[:, 2][0], \"bbx_height\": xywh[:, 3][0]}\n",
    "    results_test_dataframe = pd.concat([results_test_dataframe, pd.DataFrame([new_row])], ignore_index=True, copy=False)"
   ]
  },
  {
   "cell_type": "code",
   "execution_count": null,
   "metadata": {},
   "outputs": [],
   "source": [
    "results_test_dataframe.to_csv(\"results_test_1.csv\", index=False)"
   ]
  }
 ],
 "metadata": {
  "kernelspec": {
   "display_name": "Python 3",
   "language": "python",
   "name": "python3"
  },
  "language_info": {
   "codemirror_mode": {
    "name": "ipython",
    "version": 3
   },
   "file_extension": ".py",
   "mimetype": "text/x-python",
   "name": "python",
   "nbconvert_exporter": "python",
   "pygments_lexer": "ipython3",
   "version": "3.12.3"
  }
 },
 "nbformat": 4,
 "nbformat_minor": 2
}
