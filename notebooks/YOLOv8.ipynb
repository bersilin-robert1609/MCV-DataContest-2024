{
 "cells": [
  {
   "cell_type": "code",
   "execution_count": null,
   "metadata": {},
   "outputs": [],
   "source": [
    "from ultralytics import YOLO"
   ]
  },
  {
   "cell_type": "code",
   "execution_count": null,
   "metadata": {},
   "outputs": [],
   "source": [
    "labels = {\n",
    "    0: \"aegypti\",\n",
    "    1: \"albopictus\",\n",
    "    2: \"anopheles\",\n",
    "    3: \"culex\",\n",
    "    4: \"culiseta\",\n",
    "    5: \"japonicus/koreicus\"\n",
    "}"
   ]
  },
  {
   "cell_type": "code",
   "execution_count": null,
   "metadata": {},
   "outputs": [],
   "source": [
    "# model = YOLO(\"yolov8n.pt\", task=\"detect\", verbose=True)\n",
    "\n",
    "# # load model in gpu\n",
    "# model = model.cuda()"
   ]
  },
  {
   "cell_type": "code",
   "execution_count": null,
   "metadata": {},
   "outputs": [],
   "source": [
    "# results = model.train(data=\"./data.yaml\", epochs=10, imgsz=640, batch=16)"
   ]
  },
  {
   "cell_type": "code",
   "execution_count": null,
   "metadata": {},
   "outputs": [],
   "source": [
    "model = YOLO(\"../runs/detect/train/weights/best.pt\", task=\"detect\", verbose=True)\n",
    "model = model.cuda()"
   ]
  },
  {
   "cell_type": "code",
   "execution_count": null,
   "metadata": {},
   "outputs": [],
   "source": [
    "import os\n",
    "TRAIN_DIR = \"../data/images/train\"\n",
    "TEST_DIR = \"../data/images/test\"\n",
    "test_images = os.listdir(TEST_DIR)\n",
    "train_images = os.listdir(TRAIN_DIR)\n",
    "\n",
    "import pandas as pd\n",
    "results_train_dataframe = pd.DataFrame(columns=[\"ImageID\", \"LabelName\", \"Conf\", \"xcenter\", \"ycenter\", \"bbx_width\", \"bbx_height\"]) "
   ]
  },
  {
   "cell_type": "code",
   "execution_count": null,
   "metadata": {},
   "outputs": [],
   "source": [
    "# Test the training images in cuda and copy the results to a dataframe\n",
    "\n",
    "results = model(TRAIN_DIR, stream=True, conf=0)"
   ]
  },
  {
   "cell_type": "code",
   "execution_count": null,
   "metadata": {},
   "outputs": [],
   "source": [
    "for r in results:\n",
    "    r = r.cpu()\n",
    "    img_path = r.path\n",
    "    img_name = img_path.split(\"/\")[-1]\n",
    "    boxes = r.boxes.numpy()\n",
    "    label = boxes.cls\n",
    "    conf = boxes.conf\n",
    "    xywh = boxes.xywhn\n",
    "    \n",
    "    new_row = {\"ImageID\": img_name, \"LabelName\": labels[int(label[0])], \"Conf\": conf[0], \"xcenter\": xywh[:, 0][0], \"ycenter\": xywh[:, 1][0], \"bbx_width\": xywh[:, 2][0], \"bbx_height\": xywh[:, 3][0]}\n",
    "    pd.concat([results_train_dataframe, pd.DataFrame([new_row])], ignore_index=True, copy=False)"
   ]
  },
  {
   "cell_type": "code",
   "execution_count": null,
   "metadata": {},
   "outputs": [],
   "source": []
  }
 ],
 "metadata": {
  "kernelspec": {
   "display_name": "Python 3",
   "language": "python",
   "name": "python3"
  },
  "language_info": {
   "codemirror_mode": {
    "name": "ipython",
    "version": 3
   },
   "file_extension": ".py",
   "mimetype": "text/x-python",
   "name": "python",
   "nbconvert_exporter": "python",
   "pygments_lexer": "ipython3",
   "version": "3.12.3"
  }
 },
 "nbformat": 4,
 "nbformat_minor": 2
}
