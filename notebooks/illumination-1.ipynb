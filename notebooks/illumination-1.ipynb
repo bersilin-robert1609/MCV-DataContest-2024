{
 "cells": [
  {
   "cell_type": "code",
   "execution_count": 21,
   "metadata": {},
   "outputs": [],
   "source": [
    "import os\n",
    "import cv2 as cv\n",
    "import numpy as np\n",
    "from joblib import Parallel, delayed"
   ]
  },
  {
   "cell_type": "code",
   "execution_count": 22,
   "metadata": {},
   "outputs": [],
   "source": [
    "# Loading the images\n",
    "\n",
    "IMG_FOLDER = \"../data/images/train\"\n",
    "IMG_FILES = os.listdir(IMG_FOLDER)"
   ]
  },
  {
   "cell_type": "code",
   "execution_count": 23,
   "metadata": {},
   "outputs": [],
   "source": [
    "# Getting illumination channels\n",
    "\n",
    "def compute_patch(img, w, i, j):\n",
    "    \"\"\"\n",
    "    Compute the minimum and maximum values of the patch centered at (i, j).\n",
    "\n",
    "    Args:\n",
    "        img (numpy.ndarray): The input image.\n",
    "        w (int): Half the size of the patch.\n",
    "        i (int): The row index of the center of the patch.\n",
    "        j (int): The column index of the center of the patch.\n",
    "\n",
    "    Returns:\n",
    "        tuple: A tuple containing the minimum and maximum values of the patch.\n",
    "    \"\"\"\n",
    "    width, height, _ = img.shape\n",
    "    x1, x2 = max(0, i - w), min(width, i + w)\n",
    "    y1, y2 = max(0, j - w), min(height, j + w)\n",
    "    patch = img[x1:x2, y1:y2, :]\n",
    "    return np.min(patch), np.max(patch)\n",
    "\n",
    "def get_illumination_channels(img, w):\n",
    "    \"\"\"\n",
    "    Compute the dark and bright channels of the input image.\n",
    "\n",
    "    Args:\n",
    "        img (numpy.ndarray): The input image.\n",
    "        w (int): Half the size of the patch.\n",
    "\n",
    "    Returns:\n",
    "        tuple: A tuple containing the dark and bright channels.\n",
    "    \"\"\"\n",
    "    width, height, _ = img.shape\n",
    "    img_dark = np.zeros((width, height))\n",
    "    img_bright = np.zeros((width, height))\n",
    "    \n",
    "    # Parallelize the loop\n",
    "    results = Parallel(n_jobs=-1)(\n",
    "        delayed(compute_patch)(img, w, i, j)\n",
    "        for i in range(width)\n",
    "        for j in range(height)\n",
    "    )\n",
    "    \n",
    "    # Unpack results and assign to channels\n",
    "    for idx, (min_val, max_val) in enumerate(results):\n",
    "        i, j = divmod(idx, height)\n",
    "        img_dark[i, j] = min_val\n",
    "        img_bright[i, j] = max_val\n",
    "    \n",
    "    return img_dark, img_bright"
   ]
  },
  {
   "cell_type": "code",
   "execution_count": 24,
   "metadata": {},
   "outputs": [],
   "source": [
    "# Getting the atmosphere values\n",
    "\n",
    "def get_atmosphere(I, img_bright, p):\n",
    "    \"\"\"\n",
    "    Estimates the atmospheric light value A from the input image and its bright channel.\n",
    "\n",
    "    Args:\n",
    "        I (numpy.ndarray): The input image.\n",
    "        img_bright (numpy.ndarray): The bright channel of the input image.\n",
    "        p (float): The percentage of the brightest pixels to consider.\n",
    "\n",
    "    Returns:\n",
    "        numpy.ndarray: The estimated atmospheric light value.\n",
    "    \"\"\"\n",
    "    width, height = img_bright.shape\n",
    "\n",
    "    # Flatten the image and bright channel\n",
    "    flat_image = I.reshape(width * height, 3)\n",
    "    flat_bright = img_bright.reshape(width * height)\n",
    "\n",
    "    # Get indices of the top p% brightest pixels\n",
    "    search_index = np.argsort(flat_bright)[::-1][:int(p * width * height)]\n",
    "    brightest_pixels = flat_image[search_index]\n",
    "\n",
    "    # Compute the mean of the brightest pixels to estimate atmospheric light\n",
    "    A = np.mean(brightest_pixels, axis=0, dtype=np.float64)\n",
    "    \n",
    "    return A"
   ]
  },
  {
   "cell_type": "code",
   "execution_count": 36,
   "metadata": {},
   "outputs": [],
   "source": [
    "# Getting the initial transmission map\n",
    "\n",
    "def get_initial_transmission_map(A, bright_channel):\n",
    "    \"\"\"\n",
    "    Compute the initial transmission map based on the estimated atmospheric light value and the bright channel.\n",
    "    \n",
    "    Args:\n",
    "        A (numpy.ndarray): The estimated atmospheric light value.\n",
    "        bright_channel (numpy.ndarray): The bright channel of the input image.\n",
    "    \n",
    "    Returns:\n",
    "        numpy.ndarray: The normalized initial transmission map.\n",
    "    \"\"\"\n",
    "    # Compute the maximum value of the estimated atmospheric light\n",
    "    A_c = np.max(A)\n",
    "    \n",
    "    # Compute the initial transmission map\n",
    "    init_t = (bright_channel - A_c) / (255 - A_c)\n",
    "    \n",
    "    # Normalize the initial transmission map to the range [0, 1]\n",
    "    normalized_t = (init_t - np.min(init_t)) / (np.max(init_t) - np.min(init_t))\n",
    "    \n",
    "    return normalized_t"
   ]
  },
  {
   "cell_type": "code",
   "execution_count": 40,
   "metadata": {},
   "outputs": [],
   "source": [
    "# Getting the refined transmission map\n",
    "\n",
    "def get_refined_transmission_map(img, A, img_dark, img_bright, init_t, alpha, omega, w):\n",
    "    img_n = np.empty(img.shape, dtype=img.dtype)\n",
    "    \n",
    "    for channel in range(0, 3):\n",
    "        img_n[:, :, channel] = img[:, :, channel] / A[channel]\n",
    "        \n",
    "    img_dark_n, img_bright_n = get_illumination_channels(img_n, w)\n",
    "    \n",
    "    dark_t = 1 - omega * img_dark_n\n",
    "    \n",
    "    corrected_t = init_t\n",
    "    \n",
    "    diff_channel = img_bright - img_dark\n",
    "    \n",
    "    corrected_t = dark_t + init_t if diff_channel < alpha else corrected_t\n",
    "    \n",
    "    return np.abs(corrected_t)"
   ]
  },
  {
   "cell_type": "code",
   "execution_count": 26,
   "metadata": {},
   "outputs": [
    {
     "name": "stdout",
     "output_type": "stream",
     "text": [
      "(4032, 3024, 3)\n",
      "uint8\n"
     ]
    }
   ],
   "source": [
    "img = cv.imread(os.path.join(IMG_FOLDER, IMG_FILES[0]))\n",
    "\n",
    "print(img.shape)\n",
    "print(img.dtype)"
   ]
  },
  {
   "cell_type": "code",
   "execution_count": 27,
   "metadata": {},
   "outputs": [
    {
     "name": "stdout",
     "output_type": "stream",
     "text": [
      "(4032, 3024) (4032, 3024)\n"
     ]
    }
   ],
   "source": [
    "dark_channel, bright_channel = get_illumination_channels(img, 15)\n",
    "\n",
    "print(dark_channel.shape, bright_channel.shape)"
   ]
  },
  {
   "cell_type": "code",
   "execution_count": 39,
   "metadata": {},
   "outputs": [
    {
     "name": "stdout",
     "output_type": "stream",
     "text": [
      "float64 float64\n",
      "0.0 33.0\n",
      "[36.17546642 39.40819142 42.77321952]\n",
      "(4032, 3024)\n",
      "0.0 1.0\n"
     ]
    }
   ],
   "source": [
    "print(dark_channel.dtype, bright_channel.dtype)\n",
    "print(np.min(dark_channel), np.max(dark_channel))\n",
    "\n",
    "atmosphere = get_atmosphere(img, bright_channel, 0.1)\n",
    "\n",
    "print(atmosphere)\n",
    "\n",
    "normalized = get_initial_transmission_map(atmosphere, bright_channel)\n",
    "\n",
    "print(normalized.shape)\n",
    "print(np.min(normalized), np.max(normalized))"
   ]
  },
  {
   "cell_type": "code",
   "execution_count": 41,
   "metadata": {},
   "outputs": [
    {
     "ename": "ValueError",
     "evalue": "The truth value of an array with more than one element is ambiguous. Use a.any() or a.all()",
     "output_type": "error",
     "traceback": [
      "\u001b[0;31m---------------------------------------------------------------------------\u001b[0m",
      "\u001b[0;31mValueError\u001b[0m                                Traceback (most recent call last)",
      "Cell \u001b[0;32mIn[41], line 1\u001b[0m\n\u001b[0;32m----> 1\u001b[0m corrected_t \u001b[38;5;241m=\u001b[39m \u001b[43mget_refined_transmission_map\u001b[49m\u001b[43m(\u001b[49m\u001b[43mimg\u001b[49m\u001b[43m,\u001b[49m\u001b[43m \u001b[49m\u001b[43matmosphere\u001b[49m\u001b[43m,\u001b[49m\u001b[43m \u001b[49m\u001b[43mdark_channel\u001b[49m\u001b[43m,\u001b[49m\u001b[43m \u001b[49m\u001b[43mbright_channel\u001b[49m\u001b[43m,\u001b[49m\u001b[43m \u001b[49m\u001b[43mnormalized\u001b[49m\u001b[43m,\u001b[49m\u001b[43m \u001b[49m\u001b[38;5;241;43m0.4\u001b[39;49m\u001b[43m,\u001b[49m\u001b[43m \u001b[49m\u001b[38;5;241;43m0.75\u001b[39;49m\u001b[43m,\u001b[49m\u001b[43m \u001b[49m\u001b[38;5;241;43m15\u001b[39;49m\u001b[43m)\u001b[49m\n\u001b[1;32m      3\u001b[0m \u001b[38;5;28mprint\u001b[39m(corrected_t\u001b[38;5;241m.\u001b[39mshape)\n",
      "Cell \u001b[0;32mIn[40], line 17\u001b[0m, in \u001b[0;36mget_refined_transmission_map\u001b[0;34m(img, A, img_dark, img_bright, init_t, alpha, omega, w)\u001b[0m\n\u001b[1;32m     13\u001b[0m corrected_t \u001b[38;5;241m=\u001b[39m init_t\n\u001b[1;32m     15\u001b[0m diff_channel \u001b[38;5;241m=\u001b[39m img_bright \u001b[38;5;241m-\u001b[39m img_dark\n\u001b[0;32m---> 17\u001b[0m corrected_t \u001b[38;5;241m=\u001b[39m dark_t \u001b[38;5;241m+\u001b[39m init_t \u001b[38;5;28;01mif\u001b[39;00m diff_channel \u001b[38;5;241m<\u001b[39m alpha \u001b[38;5;28;01melse\u001b[39;00m corrected_t\n\u001b[1;32m     19\u001b[0m \u001b[38;5;28;01mreturn\u001b[39;00m np\u001b[38;5;241m.\u001b[39mabs(corrected_t)\n",
      "\u001b[0;31mValueError\u001b[0m: The truth value of an array with more than one element is ambiguous. Use a.any() or a.all()"
     ]
    }
   ],
   "source": [
    "corrected_t = get_refined_transmission_map(img, atmosphere, dark_channel, bright_channel, normalized, 0.4, 0.75, 15)\n",
    "\n",
    "print(corrected_t.shape)"
   ]
  },
  {
   "cell_type": "code",
   "execution_count": null,
   "metadata": {},
   "outputs": [],
   "source": []
  }
 ],
 "metadata": {
  "kernelspec": {
   "display_name": "Python 3",
   "language": "python",
   "name": "python3"
  },
  "language_info": {
   "codemirror_mode": {
    "name": "ipython",
    "version": 3
   },
   "file_extension": ".py",
   "mimetype": "text/x-python",
   "name": "python",
   "nbconvert_exporter": "python",
   "pygments_lexer": "ipython3",
   "version": "3.12.3"
  }
 },
 "nbformat": 4,
 "nbformat_minor": 2
}
