{
 "cells": [
  {
   "cell_type": "code",
   "execution_count": 1,
   "metadata": {},
   "outputs": [],
   "source": [
    "FILE1 = \"./submissions/results_test_old.csv\"\n",
    "FILE_SUBMISSION = \"../sample_submission.csv\"\n",
    "FILE1_fixed = \"./submissions/results_test_old_fixed.csv\""
   ]
  },
  {
   "cell_type": "code",
   "execution_count": 2,
   "metadata": {},
   "outputs": [],
   "source": [
    "import pandas as pd\n",
    "\n",
    "df1 = pd.read_csv(FILE1)\n",
    "df2 = pd.read_csv(FILE_SUBMISSION)"
   ]
  },
  {
   "cell_type": "code",
   "execution_count": 3,
   "metadata": {},
   "outputs": [
    {
     "name": "stderr",
     "output_type": "stream",
     "text": [
      "/tmp/ipykernel_206755/4112536651.py:12: FutureWarning: The behavior of DataFrame concatenation with empty or all-NA entries is deprecated. In a future version, this will no longer exclude empty or all-NA columns when determining the result dtypes. To retain the old behavior, exclude the relevant entries before the concat operation.\n",
      "  new_df1 = pd.concat([new_df1, df1[df1['ImageID'] == row]])\n"
     ]
    }
   ],
   "source": [
    "# Drop the index and rearrange the rows as in the sample submission\n",
    "\n",
    "df2_rows = df2['ImageID'].values\n",
    "df1_rows = df1['ImageID'].values\n",
    "\n",
    "# Check if the rows are the same\n",
    "assert set(df1_rows) == set(df2_rows)\n",
    "\n",
    "new_df1 = pd.DataFrame(columns=df1.columns)\n",
    "\n",
    "for row in df2_rows:\n",
    "    new_df1 = pd.concat([new_df1, df1[df1['ImageID'] == row]])"
   ]
  },
  {
   "cell_type": "code",
   "execution_count": 4,
   "metadata": {},
   "outputs": [],
   "source": [
    "new_df1 = new_df1.drop(columns=['id'])"
   ]
  },
  {
   "cell_type": "code",
   "execution_count": 5,
   "metadata": {},
   "outputs": [],
   "source": [
    "new_df1 = new_df1.reset_index(drop=True)\n",
    "\n",
    "new_df1.to_csv(FILE1_fixed, index=True, index_label='id')"
   ]
  },
  {
   "cell_type": "code",
   "execution_count": null,
   "metadata": {},
   "outputs": [],
   "source": []
  }
 ],
 "metadata": {
  "kernelspec": {
   "display_name": "Python 3",
   "language": "python",
   "name": "python3"
  },
  "language_info": {
   "codemirror_mode": {
    "name": "ipython",
    "version": 3
   },
   "file_extension": ".py",
   "mimetype": "text/x-python",
   "name": "python",
   "nbconvert_exporter": "python",
   "pygments_lexer": "ipython3",
   "version": "3.12.3"
  }
 },
 "nbformat": 4,
 "nbformat_minor": 2
}
