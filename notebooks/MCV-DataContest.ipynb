{
 "cells": [
  {
   "cell_type": "code",
   "execution_count": null,
   "metadata": {},
   "outputs": [],
   "source": [
    "DATA_FOLDER = \"../data/ee5178-mcv-project/\"\n",
    "TRAIN_FOLDER = DATA_FOLDER + \"train_dark/\"\n",
    "TEST_FOLDER = DATA_FOLDER + \"test_dark/\""
   ]
  }
 ],
 "metadata": {
  "language_info": {
   "name": "python"
  }
 },
 "nbformat": 4,
 "nbformat_minor": 2
}
