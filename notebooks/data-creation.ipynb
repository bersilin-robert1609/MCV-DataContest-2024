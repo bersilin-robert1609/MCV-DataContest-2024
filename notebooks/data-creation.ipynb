{
 "cells": [
  {
   "cell_type": "code",
   "execution_count": 3,
   "metadata": {},
   "outputs": [
    {
     "name": "stdout",
     "output_type": "stream",
     "text": [
      "Train images: 6750\n",
      "Validation images: 750\n"
     ]
    }
   ],
   "source": [
    "# DATA MODIFICATION\n",
    "\n",
    "import os\n",
    "\n",
    "DATA_OG = \"../data-original/ee5178-mcv-project\"\n",
    "TRAIN_IMAGES_FOLDER = os.path.join(DATA_OG, \"train_dark/images\")\n",
    "TRAIN_LABELS_FOLDER = os.path.join(DATA_OG, \"train_dark/labels\")\n",
    "TEST_IMAGES_FOLDER = os.path.join(DATA_OG, \"test_dark/images\")\n",
    "\n",
    "train_images_list = os.listdir(TRAIN_IMAGES_FOLDER)\n",
    "\n",
    "# Create a random list of the images to shuffle the data\n",
    "import random\n",
    "random.seed(42)\n",
    "\n",
    "random.shuffle(train_images_list)\n",
    "\n",
    "# Split the data into train and validation\n",
    "\n",
    "train_images = train_images_list[:int(0.9*len(train_images_list))]\n",
    "val_images = train_images_list[int(0.9*len(train_images_list)):]\n",
    "\n",
    "print(f\"Train images: {len(train_images)}\")\n",
    "print(f\"Validation images: {len(val_images)}\")"
   ]
  },
  {
   "cell_type": "code",
   "execution_count": 4,
   "metadata": {},
   "outputs": [],
   "source": [
    "DATA = \"../data\"\n",
    "\n",
    "NEW_TRAIN_IMAGES_FOLDER = os.path.join(DATA, \"images/train\")\n",
    "NEW_TRAIN_LABELS_FOLDER = os.path.join(DATA, \"labels/train\")\n",
    "NEW_VAL_IMAGES_FOLDER = os.path.join(DATA, \"images/val\")\n",
    "NEW_VAL_LABELS_FOLDER = os.path.join(DATA, \"labels/val\")\n",
    "NEW_TEST_IMAGES_FOLDER = os.path.join(DATA, \"images/test\")\n",
    "\n",
    "os.makedirs(NEW_TRAIN_IMAGES_FOLDER, exist_ok=True)\n",
    "os.makedirs(NEW_TRAIN_LABELS_FOLDER, exist_ok=True)\n",
    "os.makedirs(NEW_VAL_IMAGES_FOLDER, exist_ok=True)\n",
    "os.makedirs(NEW_VAL_LABELS_FOLDER, exist_ok=True)\n",
    "os.makedirs(NEW_TEST_IMAGES_FOLDER, exist_ok=True)"
   ]
  },
  {
   "cell_type": "code",
   "execution_count": 5,
   "metadata": {},
   "outputs": [],
   "source": [
    "# copy the images to the new directory\n",
    "\n",
    "import shutil\n",
    "    \n",
    "for image in train_images:\n",
    "    shutil.copy(os.path.join(TRAIN_IMAGES_FOLDER, image), os.path.join(NEW_TRAIN_IMAGES_FOLDER, image))\n",
    "    shutil.copy(os.path.join(TRAIN_LABELS_FOLDER, image.replace(\".jpeg\", \".txt\")), os.path.join(NEW_TRAIN_LABELS_FOLDER, image.replace(\".jpeg\", \".txt\")))\n",
    "    \n",
    "for image in val_images:\n",
    "    shutil.copy(os.path.join(TRAIN_IMAGES_FOLDER, image), os.path.join(NEW_VAL_IMAGES_FOLDER, image))\n",
    "    shutil.copy(os.path.join(TRAIN_LABELS_FOLDER, image.replace(\".jpeg\", \".txt\")), os.path.join(NEW_VAL_LABELS_FOLDER, image.replace(\".jpeg\", \".txt\")))\n",
    "                \n",
    "test_images_list = os.listdir(TEST_IMAGES_FOLDER)\n",
    "\n",
    "for image in test_images_list:\n",
    "    shutil.copy(os.path.join(TEST_IMAGES_FOLDER, image), os.path.join(NEW_TEST_IMAGES_FOLDER, image))"
   ]
  },
  {
   "cell_type": "code",
   "execution_count": 6,
   "metadata": {},
   "outputs": [],
   "source": [
    "# DATA Check\n",
    "\n",
    "# Check if all the files in images/train have a corresponding file in labels/train and for val\n",
    "\n",
    "train_images = os.listdir(NEW_TRAIN_IMAGES_FOLDER)\n",
    "train_labels = os.listdir(NEW_TRAIN_LABELS_FOLDER)\n",
    "\n",
    "val_images = os.listdir(NEW_VAL_IMAGES_FOLDER)\n",
    "val_labels = os.listdir(NEW_VAL_LABELS_FOLDER)\n",
    "\n",
    "for image in train_images:\n",
    "    assert image.replace(\".jpeg\", \".txt\") in train_labels, f\"Label for {image} not found\"\n",
    "    \n",
    "for image in val_images:\n",
    "    assert image.replace(\".jpeg\", \".txt\") in val_labels, f\"Label for {image} not found\""
   ]
  }
 ],
 "metadata": {
  "kernelspec": {
   "display_name": "Python 3",
   "language": "python",
   "name": "python3"
  },
  "language_info": {
   "codemirror_mode": {
    "name": "ipython",
    "version": 3
   },
   "file_extension": ".py",
   "mimetype": "text/x-python",
   "name": "python",
   "nbconvert_exporter": "python",
   "pygments_lexer": "ipython3",
   "version": "3.12.3"
  }
 },
 "nbformat": 4,
 "nbformat_minor": 2
}
