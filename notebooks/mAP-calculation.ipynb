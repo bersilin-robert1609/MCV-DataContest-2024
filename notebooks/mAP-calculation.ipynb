{
 "cells": [
  {
   "cell_type": "code",
   "execution_count": 26,
   "metadata": {},
   "outputs": [],
   "source": [
    "import os\n",
    "import numpy as np\n",
    "import pandas as pd"
   ]
  },
  {
   "cell_type": "code",
   "execution_count": 27,
   "metadata": {},
   "outputs": [],
   "source": [
    "LABELS = {\n",
    "    0: \"aegypti\",\n",
    "    1: \"albopictus\",\n",
    "    2: \"anopheles\",\n",
    "    3: \"culex\",\n",
    "    4: \"culiseta\",\n",
    "    5: \"japonicus/koreicus\"\n",
    "}"
   ]
  },
  {
   "cell_type": "code",
   "execution_count": 28,
   "metadata": {},
   "outputs": [
    {
     "data": {
      "text/plain": [
       "Index(['ImageID', 'LabelName', 'Conf', 'xcenter', 'ycenter', 'bbx_width',\n",
       "       'bbx_height'],\n",
       "      dtype='object')"
      ]
     },
     "execution_count": 28,
     "metadata": {},
     "output_type": "execute_result"
    }
   ],
   "source": [
    "TRAIN_OUTPUT = \"./submissions/results_train_1.csv\"\n",
    "\n",
    "train_result = pd.read_csv(TRAIN_OUTPUT).drop(columns=[\"id\"])\n",
    "train_result.columns"
   ]
  },
  {
   "cell_type": "code",
   "execution_count": 29,
   "metadata": {},
   "outputs": [
    {
     "data": {
      "text/plain": [
       "Index(['ImageID', 'LabelName', 'xcenter', 'ycenter', 'bbx_width',\n",
       "       'bbx_height'],\n",
       "      dtype='object')"
      ]
     },
     "execution_count": 29,
     "metadata": {},
     "output_type": "execute_result"
    }
   ],
   "source": [
    "train_true = pd.DataFrame(columns=train_result.columns).drop(columns=[\"Conf\"])\n",
    "train_true.columns"
   ]
  },
  {
   "cell_type": "code",
   "execution_count": 30,
   "metadata": {},
   "outputs": [
    {
     "name": "stderr",
     "output_type": "stream",
     "text": [
      "/tmp/ipykernel_88489/1007814175.py:20: FutureWarning: The behavior of DataFrame concatenation with empty or all-NA entries is deprecated. In a future version, this will no longer exclude empty or all-NA columns when determining the result dtypes. To retain the old behavior, exclude the relevant entries before the concat operation.\n",
      "  train_true = pd.concat([train_true, new_row], ignore_index=True)\n"
     ]
    }
   ],
   "source": [
    "TRAIN_LABELS_FOLDER = \"../data_3/labels/train\"\n",
    "\n",
    "for ImageID in train_result[\"ImageID\"].values:\n",
    "    label_name = ImageID.replace(\".jpeg\", \".txt\")\n",
    "    \n",
    "    label_data = np.loadtxt(os.path.join(TRAIN_LABELS_FOLDER, label_name))\n",
    "\n",
    "    cls = int(label_data[0])\n",
    "    xcenter, ycenter, bbx_width, bbx_height = label_data[1:]\n",
    "    \n",
    "    new_row = pd.DataFrame({\n",
    "        \"ImageID\": [ImageID],\n",
    "        \"LabelName\": [cls],\n",
    "        \"xcenter\": [xcenter],\n",
    "        \"ycenter\": [ycenter],\n",
    "        \"bbx_width\": [bbx_width],\n",
    "        \"bbx_height\": [bbx_height]\n",
    "    })\n",
    "    \n",
    "    train_true = pd.concat([train_true, new_row], ignore_index=True)"
   ]
  },
  {
   "cell_type": "code",
   "execution_count": 31,
   "metadata": {},
   "outputs": [],
   "source": [
    "train_result = train_result.drop(columns=[\"Conf\", \"ImageID\"])\n",
    "train_true = train_true.drop(columns=[\"ImageID\"])"
   ]
  },
  {
   "cell_type": "code",
   "execution_count": 32,
   "metadata": {},
   "outputs": [],
   "source": [
    "assert train_result.shape == train_true.shape"
   ]
  },
  {
   "cell_type": "code",
   "execution_count": 33,
   "metadata": {},
   "outputs": [
    {
     "name": "stdout",
     "output_type": "stream",
     "text": [
      "Index(['LabelName', 'xcenter', 'ycenter', 'bbx_width', 'bbx_height'], dtype='object')\n",
      "Index(['LabelName', 'xcenter', 'ycenter', 'bbx_width', 'bbx_height'], dtype='object')\n"
     ]
    }
   ],
   "source": [
    "print(train_result.columns)\n",
    "print(train_true.columns)"
   ]
  },
  {
   "cell_type": "code",
   "execution_count": 34,
   "metadata": {},
   "outputs": [
    {
     "data": {
      "text/html": [
       "<div>\n",
       "<style scoped>\n",
       "    .dataframe tbody tr th:only-of-type {\n",
       "        vertical-align: middle;\n",
       "    }\n",
       "\n",
       "    .dataframe tbody tr th {\n",
       "        vertical-align: top;\n",
       "    }\n",
       "\n",
       "    .dataframe thead th {\n",
       "        text-align: right;\n",
       "    }\n",
       "</style>\n",
       "<table border=\"1\" class=\"dataframe\">\n",
       "  <thead>\n",
       "    <tr style=\"text-align: right;\">\n",
       "      <th></th>\n",
       "      <th>LabelName</th>\n",
       "      <th>xcenter</th>\n",
       "      <th>ycenter</th>\n",
       "      <th>bbx_width</th>\n",
       "      <th>bbx_height</th>\n",
       "    </tr>\n",
       "  </thead>\n",
       "  <tbody>\n",
       "    <tr>\n",
       "      <th>0</th>\n",
       "      <td>albopictus</td>\n",
       "      <td>0.541513</td>\n",
       "      <td>0.444457</td>\n",
       "      <td>0.329968</td>\n",
       "      <td>0.214255</td>\n",
       "    </tr>\n",
       "    <tr>\n",
       "      <th>1</th>\n",
       "      <td>albopictus</td>\n",
       "      <td>0.543564</td>\n",
       "      <td>0.486536</td>\n",
       "      <td>0.174161</td>\n",
       "      <td>0.243519</td>\n",
       "    </tr>\n",
       "    <tr>\n",
       "      <th>2</th>\n",
       "      <td>albopictus</td>\n",
       "      <td>0.324496</td>\n",
       "      <td>0.443159</td>\n",
       "      <td>0.200611</td>\n",
       "      <td>0.324669</td>\n",
       "    </tr>\n",
       "    <tr>\n",
       "      <th>3</th>\n",
       "      <td>culex</td>\n",
       "      <td>0.535351</td>\n",
       "      <td>0.501443</td>\n",
       "      <td>0.506525</td>\n",
       "      <td>0.245751</td>\n",
       "    </tr>\n",
       "    <tr>\n",
       "      <th>4</th>\n",
       "      <td>culiseta</td>\n",
       "      <td>0.443808</td>\n",
       "      <td>0.378716</td>\n",
       "      <td>0.502185</td>\n",
       "      <td>0.392609</td>\n",
       "    </tr>\n",
       "  </tbody>\n",
       "</table>\n",
       "</div>"
      ],
      "text/plain": [
       "    LabelName   xcenter   ycenter  bbx_width  bbx_height\n",
       "0  albopictus  0.541513  0.444457   0.329968    0.214255\n",
       "1  albopictus  0.543564  0.486536   0.174161    0.243519\n",
       "2  albopictus  0.324496  0.443159   0.200611    0.324669\n",
       "3       culex  0.535351  0.501443   0.506525    0.245751\n",
       "4    culiseta  0.443808  0.378716   0.502185    0.392609"
      ]
     },
     "execution_count": 34,
     "metadata": {},
     "output_type": "execute_result"
    }
   ],
   "source": [
    "train_result.head()"
   ]
  },
  {
   "cell_type": "code",
   "execution_count": 35,
   "metadata": {},
   "outputs": [
    {
     "data": {
      "text/html": [
       "<div>\n",
       "<style scoped>\n",
       "    .dataframe tbody tr th:only-of-type {\n",
       "        vertical-align: middle;\n",
       "    }\n",
       "\n",
       "    .dataframe tbody tr th {\n",
       "        vertical-align: top;\n",
       "    }\n",
       "\n",
       "    .dataframe thead th {\n",
       "        text-align: right;\n",
       "    }\n",
       "</style>\n",
       "<table border=\"1\" class=\"dataframe\">\n",
       "  <thead>\n",
       "    <tr style=\"text-align: right;\">\n",
       "      <th></th>\n",
       "      <th>LabelName</th>\n",
       "      <th>xcenter</th>\n",
       "      <th>ycenter</th>\n",
       "      <th>bbx_width</th>\n",
       "      <th>bbx_height</th>\n",
       "    </tr>\n",
       "  </thead>\n",
       "  <tbody>\n",
       "    <tr>\n",
       "      <th>0</th>\n",
       "      <td>1</td>\n",
       "      <td>0.539062</td>\n",
       "      <td>0.443590</td>\n",
       "      <td>0.326172</td>\n",
       "      <td>0.204396</td>\n",
       "    </tr>\n",
       "    <tr>\n",
       "      <th>1</th>\n",
       "      <td>1</td>\n",
       "      <td>0.550391</td>\n",
       "      <td>0.480794</td>\n",
       "      <td>0.156250</td>\n",
       "      <td>0.210286</td>\n",
       "    </tr>\n",
       "    <tr>\n",
       "      <th>2</th>\n",
       "      <td>1</td>\n",
       "      <td>0.326187</td>\n",
       "      <td>0.443475</td>\n",
       "      <td>0.207122</td>\n",
       "      <td>0.322997</td>\n",
       "    </tr>\n",
       "    <tr>\n",
       "      <th>3</th>\n",
       "      <td>3</td>\n",
       "      <td>0.539551</td>\n",
       "      <td>0.486813</td>\n",
       "      <td>0.473633</td>\n",
       "      <td>0.265934</td>\n",
       "    </tr>\n",
       "    <tr>\n",
       "      <th>4</th>\n",
       "      <td>5</td>\n",
       "      <td>0.433628</td>\n",
       "      <td>0.382919</td>\n",
       "      <td>0.508447</td>\n",
       "      <td>0.375566</td>\n",
       "    </tr>\n",
       "  </tbody>\n",
       "</table>\n",
       "</div>"
      ],
      "text/plain": [
       "  LabelName   xcenter   ycenter  bbx_width  bbx_height\n",
       "0         1  0.539062  0.443590   0.326172    0.204396\n",
       "1         1  0.550391  0.480794   0.156250    0.210286\n",
       "2         1  0.326187  0.443475   0.207122    0.322997\n",
       "3         3  0.539551  0.486813   0.473633    0.265934\n",
       "4         5  0.433628  0.382919   0.508447    0.375566"
      ]
     },
     "execution_count": 35,
     "metadata": {},
     "output_type": "execute_result"
    }
   ],
   "source": [
    "train_true.head()"
   ]
  },
  {
   "cell_type": "code",
   "execution_count": 36,
   "metadata": {},
   "outputs": [],
   "source": [
    "LABELS_INVERT = {v: k for k, v in LABELS.items()}\n",
    "\n",
    "train_result['LabelName'] = train_result['LabelName'].map(LABELS_INVERT)"
   ]
  },
  {
   "cell_type": "code",
   "execution_count": 42,
   "metadata": {},
   "outputs": [],
   "source": [
    "train_result.head()\n",
    "\n",
    "train_result = train_result.astype(np.float64)\n",
    "train_true = train_true.astype(np.float64)"
   ]
  },
  {
   "cell_type": "code",
   "execution_count": 44,
   "metadata": {},
   "outputs": [],
   "source": [
    "# mAP calculation\n",
    "\n",
    "def calculate_iou(box1, box2):\n",
    "    \"\"\"\n",
    "    box = [x_center, y_center, width, height]\n",
    "    \"\"\"\n",
    "    \n",
    "    x1, y1, w1, h1 = box1\n",
    "    x2, y2, w2, h2 = box2\n",
    "    \n",
    "    x1_lt = x1 - w1/2\n",
    "    y1_lt = y1 - h1/2\n",
    "    x1_rb = x1 + w1/2\n",
    "    y1_rb = y1 + h1/2\n",
    "    \n",
    "    x2_lt = x2 - w2/2\n",
    "    y2_lt = y2 - h2/2\n",
    "    x2_rb = x2 + w2/2\n",
    "    y2_rb = y2 + h2/2\n",
    "    \n",
    "    xA = max(x1_lt, x2_lt)\n",
    "    yA = max(y1_lt, y2_lt)\n",
    "    xB = min(x1_rb, x2_rb)\n",
    "    yB = min(y1_rb, y2_rb)\n",
    "    \n",
    "    interArea = max(0, xB - xA) * max(0, yB - yA)\n",
    "    \n",
    "    box1Area = w1 * h1\n",
    "    box2Area = w2 * h2\n",
    "    \n",
    "    iou = interArea / (box1Area + box2Area - interArea)\n",
    "    \n",
    "    return iou\n"
   ]
  },
  {
   "cell_type": "code",
   "execution_count": 48,
   "metadata": {},
   "outputs": [],
   "source": [
    "# calculate confusion matrix \n",
    "\n",
    "true_labels = train_true[\"LabelName\"].values\n",
    "pred_labels = train_result[\"LabelName\"].values\n",
    "\n",
    "from sklearn.metrics import confusion_matrix\n",
    "\n",
    "cm = confusion_matrix(true_labels, pred_labels)"
   ]
  },
  {
   "cell_type": "code",
   "execution_count": 49,
   "metadata": {},
   "outputs": [
    {
     "data": {
      "text/plain": [
       "array([[   0,   23,    0,    5,    5,    0],\n",
       "       [   0, 2847,    0,  130,   29,    0],\n",
       "       [   0,   11,    0,   37,    5,    0],\n",
       "       [   0,  104,    0, 2848,   20,    0],\n",
       "       [   0,   92,    0,  271,   48,    0],\n",
       "       [   0,  198,    0,   47,   30,    0]])"
      ]
     },
     "execution_count": 49,
     "metadata": {},
     "output_type": "execute_result"
    }
   ],
   "source": [
    "cm"
   ]
  },
  {
   "cell_type": "code",
   "execution_count": 55,
   "metadata": {},
   "outputs": [
    {
     "data": {
      "image/png": "[encoded data removed]",
      "text/plain": [
       "<Figure size 1000x1000 with 2 Axes>"
      ]
     },
     "metadata": {},
     "output_type": "display_data"
    }
   ],
   "source": [
    "import seaborn as sns\n",
    "\n",
    "import matplotlib.pyplot as plt\n",
    "\n",
    "plt.figure(figsize=(10, 10))\n",
    "sns.heatmap(cm, annot=True, fmt=\"d\", cmap='Blues', xticklabels=LABELS.values(), yticklabels=LABELS.values())\n",
    "\n",
    "# Print total true and predicted for each class in the side\n",
    "\n",
    "for i in range(len(LABELS)):\n",
    "    plt.text(i, i, f\"True: {np.sum(cm[i, :])}\\nPred: {np.sum(cm[:, i])}\", ha='center', va='center', bbox=dict(facecolor='white', alpha=0.5))\n",
    "\n",
    "plt.xlabel('Predicted')\n",
    "plt.ylabel('True')\n",
    "plt.show()"
   ]
  },
  {
   "cell_type": "code",
   "execution_count": 54,
   "metadata": {},
   "outputs": [
    {
     "name": "stdout",
     "output_type": "stream",
     "text": [
      "                    precision    recall  f1-score   support\n",
      "\n",
      "           aegypti       0.00      0.00      0.00        33\n",
      "        albopictus       0.87      0.95      0.91      3006\n",
      "         anopheles       0.00      0.00      0.00        53\n",
      "             culex       0.85      0.96      0.90      2972\n",
      "          culiseta       0.35      0.12      0.18       411\n",
      "japonicus/koreicus       0.00      0.00      0.00       275\n",
      "\n",
      "          accuracy                           0.85      6750\n",
      "         macro avg       0.35      0.34      0.33      6750\n",
      "      weighted avg       0.78      0.85      0.81      6750\n",
      "\n"
     ]
    }
   ],
   "source": [
    "from sklearn.metrics import classification_report\n",
    "\n",
    "print(classification_report(true_labels, pred_labels, target_names=LABELS.values(), zero_division=0))"
   ]
  },
  {
   "cell_type": "code",
   "execution_count": null,
   "metadata": {},
   "outputs": [],
   "source": []
  }
 ],
 "metadata": {
  "kernelspec": {
   "display_name": "Python 3",
   "language": "python",
   "name": "python3"
  },
  "language_info": {
   "codemirror_mode": {
    "name": "ipython",
    "version": 3
   },
   "file_extension": ".py",
   "mimetype": "text/x-python",
   "name": "python",
   "nbconvert_exporter": "python",
   "pygments_lexer": "ipython3",
   "version": "3.12.3"
  }
 },
 "nbformat": 4,
 "nbformat_minor": 2
}
